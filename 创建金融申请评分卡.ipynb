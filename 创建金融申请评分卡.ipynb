{
 "cells": [
  {
   "cell_type": "code",
   "execution_count": 2,
   "metadata": {},
   "outputs": [],
   "source": [
    "import pandas as pd\n",
    "import numpy as np\n",
    "import matplotlib.pyplot as plt\n",
    "import seaborn as sns\n",
    "import warnings\n",
    "warnings.filterwarnings(\"ignore\")\n",
    "plt.rcParams['font.sans-serif']=['SimHei'] #用来正常显示中文标签\n",
    "plt.rcParams['axes.unicode_minus']=False #用来正常显示负号"
   ]
  },
  {
   "cell_type": "code",
   "execution_count": 3,
   "metadata": {},
   "outputs": [],
   "source": [
    "import os\n",
    "os.chdir('D:\\Major\\Data')"
   ]
  },
  {
   "cell_type": "code",
   "execution_count": 4,
   "metadata": {},
   "outputs": [],
   "source": [
    "data=pd.read_csv('data_all_values.csv')"
   ]
  },
  {
   "cell_type": "code",
   "execution_count": 5,
   "metadata": {},
   "outputs": [
    {
     "data": {
      "text/html": [
       "<div>\n",
       "<style scoped>\n",
       "    .dataframe tbody tr th:only-of-type {\n",
       "        vertical-align: middle;\n",
       "    }\n",
       "\n",
       "    .dataframe tbody tr th {\n",
       "        vertical-align: top;\n",
       "    }\n",
       "\n",
       "    .dataframe thead th {\n",
       "        text-align: right;\n",
       "    }\n",
       "</style>\n",
       "<table border=\"1\" class=\"dataframe\">\n",
       "  <thead>\n",
       "    <tr style=\"text-align: right;\">\n",
       "      <th></th>\n",
       "      <th>贷款金额</th>\n",
       "      <th>贷款期限</th>\n",
       "      <th>利率</th>\n",
       "      <th>每月还款金额</th>\n",
       "      <th>贷款等级</th>\n",
       "      <th>工作年限</th>\n",
       "      <th>房屋所有权</th>\n",
       "      <th>年收入</th>\n",
       "      <th>收入是否由LC验证</th>\n",
       "      <th>target</th>\n",
       "      <th>贷款目的</th>\n",
       "      <th>月负债比</th>\n",
       "      <th>过去两年借款人逾期30天以上的数字</th>\n",
       "      <th>过去6个月内被查询次数</th>\n",
       "      <th>摧毁公共记录的数量</th>\n",
       "      <th>额度循环使用率</th>\n",
       "      <th>总贷款笔数</th>\n",
       "      <th>拖欠的逾期款项</th>\n",
       "      <th>留置税数量</th>\n",
       "    </tr>\n",
       "  </thead>\n",
       "  <tbody>\n",
       "    <tr>\n",
       "      <th>0</th>\n",
       "      <td>18000.0</td>\n",
       "      <td>1</td>\n",
       "      <td>7.99</td>\n",
       "      <td>563.98</td>\n",
       "      <td>1</td>\n",
       "      <td>2.0</td>\n",
       "      <td>2</td>\n",
       "      <td>60000.0</td>\n",
       "      <td>3</td>\n",
       "      <td>0</td>\n",
       "      <td>debt_consolidation</td>\n",
       "      <td>30.76</td>\n",
       "      <td>0.0</td>\n",
       "      <td>0</td>\n",
       "      <td>0.0</td>\n",
       "      <td>17.8</td>\n",
       "      <td>22.0</td>\n",
       "      <td>0.0</td>\n",
       "      <td>0.0</td>\n",
       "    </tr>\n",
       "    <tr>\n",
       "      <th>1</th>\n",
       "      <td>13000.0</td>\n",
       "      <td>1</td>\n",
       "      <td>5.32</td>\n",
       "      <td>391.50</td>\n",
       "      <td>1</td>\n",
       "      <td>10.0</td>\n",
       "      <td>2</td>\n",
       "      <td>101800.0</td>\n",
       "      <td>3</td>\n",
       "      <td>0</td>\n",
       "      <td>credit_card</td>\n",
       "      <td>18.91</td>\n",
       "      <td>0.0</td>\n",
       "      <td>0</td>\n",
       "      <td>3.0</td>\n",
       "      <td>57.5</td>\n",
       "      <td>21.0</td>\n",
       "      <td>0.0</td>\n",
       "      <td>0.0</td>\n",
       "    </tr>\n",
       "    <tr>\n",
       "      <th>2</th>\n",
       "      <td>5000.0</td>\n",
       "      <td>1</td>\n",
       "      <td>10.49</td>\n",
       "      <td>162.49</td>\n",
       "      <td>2</td>\n",
       "      <td>10.0</td>\n",
       "      <td>3</td>\n",
       "      <td>75000.0</td>\n",
       "      <td>3</td>\n",
       "      <td>0</td>\n",
       "      <td>other</td>\n",
       "      <td>11.01</td>\n",
       "      <td>0.0</td>\n",
       "      <td>1</td>\n",
       "      <td>1.0</td>\n",
       "      <td>47.3</td>\n",
       "      <td>9.0</td>\n",
       "      <td>0.0</td>\n",
       "      <td>0.0</td>\n",
       "    </tr>\n",
       "    <tr>\n",
       "      <th>3</th>\n",
       "      <td>11100.0</td>\n",
       "      <td>1</td>\n",
       "      <td>5.32</td>\n",
       "      <td>334.28</td>\n",
       "      <td>1</td>\n",
       "      <td>3.0</td>\n",
       "      <td>3</td>\n",
       "      <td>60000.0</td>\n",
       "      <td>3</td>\n",
       "      <td>0</td>\n",
       "      <td>credit_card</td>\n",
       "      <td>18.91</td>\n",
       "      <td>0.0</td>\n",
       "      <td>0</td>\n",
       "      <td>0.0</td>\n",
       "      <td>34.4</td>\n",
       "      <td>23.0</td>\n",
       "      <td>0.0</td>\n",
       "      <td>0.0</td>\n",
       "    </tr>\n",
       "    <tr>\n",
       "      <th>4</th>\n",
       "      <td>25000.0</td>\n",
       "      <td>2</td>\n",
       "      <td>28.69</td>\n",
       "      <td>788.84</td>\n",
       "      <td>6</td>\n",
       "      <td>10.0</td>\n",
       "      <td>3</td>\n",
       "      <td>83807.4</td>\n",
       "      <td>1</td>\n",
       "      <td>0</td>\n",
       "      <td>debt_consolidation</td>\n",
       "      <td>13.17</td>\n",
       "      <td>0.0</td>\n",
       "      <td>0</td>\n",
       "      <td>0.0</td>\n",
       "      <td>38.6</td>\n",
       "      <td>25.0</td>\n",
       "      <td>0.0</td>\n",
       "      <td>0.0</td>\n",
       "    </tr>\n",
       "  </tbody>\n",
       "</table>\n",
       "</div>"
      ],
      "text/plain": [
       "      贷款金额  贷款期限     利率  每月还款金额  贷款等级  工作年限  房屋所有权       年收入  收入是否由LC验证  \\\n",
       "0  18000.0     1   7.99  563.98     1   2.0      2   60000.0          3   \n",
       "1  13000.0     1   5.32  391.50     1  10.0      2  101800.0          3   \n",
       "2   5000.0     1  10.49  162.49     2  10.0      3   75000.0          3   \n",
       "3  11100.0     1   5.32  334.28     1   3.0      3   60000.0          3   \n",
       "4  25000.0     2  28.69  788.84     6  10.0      3   83807.4          1   \n",
       "\n",
       "   target                贷款目的   月负债比  过去两年借款人逾期30天以上的数字  过去6个月内被查询次数  \\\n",
       "0       0  debt_consolidation  30.76                0.0            0   \n",
       "1       0         credit_card  18.91                0.0            0   \n",
       "2       0               other  11.01                0.0            1   \n",
       "3       0         credit_card  18.91                0.0            0   \n",
       "4       0  debt_consolidation  13.17                0.0            0   \n",
       "\n",
       "   摧毁公共记录的数量  额度循环使用率  总贷款笔数  拖欠的逾期款项  留置税数量  \n",
       "0        0.0     17.8   22.0      0.0    0.0  \n",
       "1        3.0     57.5   21.0      0.0    0.0  \n",
       "2        1.0     47.3    9.0      0.0    0.0  \n",
       "3        0.0     34.4   23.0      0.0    0.0  \n",
       "4        0.0     38.6   25.0      0.0    0.0  "
      ]
     },
     "execution_count": 5,
     "metadata": {},
     "output_type": "execute_result"
    }
   ],
   "source": [
    "data.head()"
   ]
  },
  {
   "cell_type": "code",
   "execution_count": 6,
   "metadata": {},
   "outputs": [
    {
     "data": {
      "text/plain": [
       "(103434, 19)"
      ]
     },
     "execution_count": 6,
     "metadata": {},
     "output_type": "execute_result"
    }
   ],
   "source": [
    "data.shape"
   ]
  },
  {
   "cell_type": "code",
   "execution_count": 7,
   "metadata": {},
   "outputs": [
    {
     "data": {
      "text/plain": [
       "0    95087\n",
       "1     8347\n",
       "Name: target, dtype: int64"
      ]
     },
     "execution_count": 7,
     "metadata": {},
     "output_type": "execute_result"
    }
   ],
   "source": [
    "data['target'].value_counts()"
   ]
  },
  {
   "cell_type": "markdown",
   "metadata": {},
   "source": [
    "# Step 1: LightGBM重要性选择变量\n",
    "    在变量数目上百上千时，用此方法筛选变量是很合适的，变量没有很多的时候，用判断IV值等方法筛选变量更合适\n"
   ]
  },
  {
   "cell_type": "code",
   "execution_count": 8,
   "metadata": {},
   "outputs": [
    {
     "name": "stdout",
     "output_type": "stream",
     "text": [
      "变量 贷款金额 的不同水平值有 1481 个\n",
      "变量 贷款期限 的不同水平值有 2 个\n",
      "变量 利率 的不同水平值有 57 个\n",
      "变量 每月还款金额 的不同水平值有 15228 个\n",
      "变量 贷款等级 的不同水平值有 7 个\n",
      "变量 工作年限 的不同水平值有 10 个\n",
      "变量 房屋所有权 的不同水平值有 3 个\n",
      "变量 年收入 的不同水平值有 8454 个\n",
      "变量 收入是否由LC验证 的不同水平值有 3 个\n",
      "变量 贷款目的 的不同水平值有 13 个\n",
      "变量 月负债比 的不同水平值有 4196 个\n",
      "变量 过去两年借款人逾期30天以上的数字 的不同水平值有 22 个\n",
      "变量 过去6个月内被查询次数 的不同水平值有 6 个\n",
      "变量 摧毁公共记录的数量 的不同水平值有 19 个\n",
      "变量 额度循环使用率 的不同水平值有 1085 个\n",
      "变量 总贷款笔数 的不同水平值有 108 个\n",
      "变量 拖欠的逾期款项 的不同水平值有 420 个\n",
      "变量 留置税数量 的不同水平值有 18 个\n"
     ]
    }
   ],
   "source": [
    "data_copy=data.copy()\n",
    "\n",
    "allFeatures = list(data.columns)   \n",
    "allFeatures.remove('target')\n",
    "for i in allFeatures:\n",
    "    print('变量 {} 的不同水平值有 {} 个'.format(i,len(data[i].unique()))) "
   ]
  },
  {
   "cell_type": "markdown",
   "metadata": {},
   "source": [
    "#### 连续变量的水平种类在10种以上，分类变量的水平种类在10种以下。特殊(通过前一句粗筛，然后人工进一步选择)：贷款目的，留置税数量当作分类变量(13个)"
   ]
  },
  {
   "cell_type": "code",
   "execution_count": 9,
   "metadata": {},
   "outputs": [],
   "source": [
    "categorical_var=['贷款期限', '贷款等级', '工作年限', '房屋所有权', '收入是否由LC验证', '贷款目的', \n",
    "'过去6个月内被查询次数', '留置税数量']\n",
    "\n",
    "continuous_var=['贷款金额', '利率', '每月还款金额', '年收入', '月负债比', '过去两年借款人逾期30天以上的数字', \n",
    "'摧毁公共记录的数量', '额度循环使用率', '总贷款笔数', '拖欠的逾期款项']"
   ]
  },
  {
   "cell_type": "code",
   "execution_count": 10,
   "metadata": {},
   "outputs": [],
   "source": [
    "'''连续变量标准化'''\n",
    "from sklearn.preprocessing import StandardScaler\n",
    "sc = StandardScaler()                                 \n",
    "data[continuous_var] = sc.fit_transform(data[continuous_var])  "
   ]
  },
  {
   "cell_type": "code",
   "execution_count": 12,
   "metadata": {},
   "outputs": [
    {
     "data": {
      "text/html": [
       "<div>\n",
       "<style scoped>\n",
       "    .dataframe tbody tr th:only-of-type {\n",
       "        vertical-align: middle;\n",
       "    }\n",
       "\n",
       "    .dataframe tbody tr th {\n",
       "        vertical-align: top;\n",
       "    }\n",
       "\n",
       "    .dataframe thead th {\n",
       "        text-align: right;\n",
       "    }\n",
       "</style>\n",
       "<table border=\"1\" class=\"dataframe\">\n",
       "  <thead>\n",
       "    <tr style=\"text-align: right;\">\n",
       "      <th></th>\n",
       "      <th>贷款金额</th>\n",
       "      <th>利率</th>\n",
       "      <th>每月还款金额</th>\n",
       "      <th>年收入</th>\n",
       "      <th>月负债比</th>\n",
       "      <th>过去两年借款人逾期30天以上的数字</th>\n",
       "      <th>摧毁公共记录的数量</th>\n",
       "      <th>额度循环使用率</th>\n",
       "      <th>总贷款笔数</th>\n",
       "      <th>拖欠的逾期款项</th>\n",
       "    </tr>\n",
       "  </thead>\n",
       "  <tbody>\n",
       "    <tr>\n",
       "      <th>0</th>\n",
       "      <td>0.417400</td>\n",
       "      <td>-1.142543</td>\n",
       "      <td>0.465334</td>\n",
       "      <td>-0.268366</td>\n",
       "      <td>1.032461</td>\n",
       "      <td>-0.381038</td>\n",
       "      <td>-0.401308</td>\n",
       "      <td>-1.349822</td>\n",
       "      <td>-0.166258</td>\n",
       "      <td>-0.022457</td>\n",
       "    </tr>\n",
       "    <tr>\n",
       "      <th>1</th>\n",
       "      <td>-0.125116</td>\n",
       "      <td>-1.680914</td>\n",
       "      <td>-0.151171</td>\n",
       "      <td>0.272899</td>\n",
       "      <td>0.012113</td>\n",
       "      <td>-0.381038</td>\n",
       "      <td>4.053237</td>\n",
       "      <td>0.295178</td>\n",
       "      <td>-0.250177</td>\n",
       "      <td>-0.022457</td>\n",
       "    </tr>\n",
       "    <tr>\n",
       "      <th>2</th>\n",
       "      <td>-0.993140</td>\n",
       "      <td>-0.638450</td>\n",
       "      <td>-0.969736</td>\n",
       "      <td>-0.074132</td>\n",
       "      <td>-0.668120</td>\n",
       "      <td>-0.381038</td>\n",
       "      <td>1.083540</td>\n",
       "      <td>-0.127467</td>\n",
       "      <td>-1.257209</td>\n",
       "      <td>-0.022457</td>\n",
       "    </tr>\n",
       "    <tr>\n",
       "      <th>3</th>\n",
       "      <td>-0.331272</td>\n",
       "      <td>-1.680914</td>\n",
       "      <td>-0.355696</td>\n",
       "      <td>-0.268366</td>\n",
       "      <td>0.012113</td>\n",
       "      <td>-0.381038</td>\n",
       "      <td>-0.401308</td>\n",
       "      <td>-0.661988</td>\n",
       "      <td>-0.082339</td>\n",
       "      <td>-0.022457</td>\n",
       "    </tr>\n",
       "    <tr>\n",
       "      <th>4</th>\n",
       "      <td>1.176921</td>\n",
       "      <td>3.031349</td>\n",
       "      <td>1.269065</td>\n",
       "      <td>0.039914</td>\n",
       "      <td>-0.482132</td>\n",
       "      <td>-0.381038</td>\n",
       "      <td>-0.401308</td>\n",
       "      <td>-0.487958</td>\n",
       "      <td>0.085500</td>\n",
       "      <td>-0.022457</td>\n",
       "    </tr>\n",
       "  </tbody>\n",
       "</table>\n",
       "</div>"
      ],
      "text/plain": [
       "       贷款金额        利率    每月还款金额       年收入      月负债比  过去两年借款人逾期30天以上的数字  \\\n",
       "0  0.417400 -1.142543  0.465334 -0.268366  1.032461          -0.381038   \n",
       "1 -0.125116 -1.680914 -0.151171  0.272899  0.012113          -0.381038   \n",
       "2 -0.993140 -0.638450 -0.969736 -0.074132 -0.668120          -0.381038   \n",
       "3 -0.331272 -1.680914 -0.355696 -0.268366  0.012113          -0.381038   \n",
       "4  1.176921  3.031349  1.269065  0.039914 -0.482132          -0.381038   \n",
       "\n",
       "   摧毁公共记录的数量   额度循环使用率     总贷款笔数   拖欠的逾期款项  \n",
       "0  -0.401308 -1.349822 -0.166258 -0.022457  \n",
       "1   4.053237  0.295178 -0.250177 -0.022457  \n",
       "2   1.083540 -0.127467 -1.257209 -0.022457  \n",
       "3  -0.401308 -0.661988 -0.082339 -0.022457  \n",
       "4  -0.401308 -0.487958  0.085500 -0.022457  "
      ]
     },
     "execution_count": 12,
     "metadata": {},
     "output_type": "execute_result"
    }
   ],
   "source": [
    "data[continuous_var].head()"
   ]
  },
  {
   "cell_type": "markdown",
   "metadata": {},
   "source": [
    "#### 分类变量分为字符型分类变量和数值型分类变量。\n",
    "    数值型分类变量转整型，方便模型调用。"
   ]
  },
  {
   "cell_type": "code",
   "execution_count": 13,
   "metadata": {},
   "outputs": [],
   "source": [
    "'''数值分类变量转整型'''      \n",
    "string_var=list(data.select_dtypes(include=[\"object\"]).columns) \n",
    "col=list(set(categorical_var)-set(string_var))\n",
    "data[col]=data[col].astype(int)"
   ]
  },
  {
   "cell_type": "code",
   "execution_count": 15,
   "metadata": {},
   "outputs": [
    {
     "data": {
      "text/html": [
       "<div>\n",
       "<style scoped>\n",
       "    .dataframe tbody tr th:only-of-type {\n",
       "        vertical-align: middle;\n",
       "    }\n",
       "\n",
       "    .dataframe tbody tr th {\n",
       "        vertical-align: top;\n",
       "    }\n",
       "\n",
       "    .dataframe thead th {\n",
       "        text-align: right;\n",
       "    }\n",
       "</style>\n",
       "<table border=\"1\" class=\"dataframe\">\n",
       "  <thead>\n",
       "    <tr style=\"text-align: right;\">\n",
       "      <th></th>\n",
       "      <th>贷款等级</th>\n",
       "      <th>房屋所有权</th>\n",
       "      <th>过去6个月内被查询次数</th>\n",
       "      <th>贷款期限</th>\n",
       "      <th>收入是否由LC验证</th>\n",
       "      <th>工作年限</th>\n",
       "      <th>留置税数量</th>\n",
       "    </tr>\n",
       "  </thead>\n",
       "  <tbody>\n",
       "    <tr>\n",
       "      <th>0</th>\n",
       "      <td>1</td>\n",
       "      <td>2</td>\n",
       "      <td>0</td>\n",
       "      <td>1</td>\n",
       "      <td>3</td>\n",
       "      <td>2</td>\n",
       "      <td>0</td>\n",
       "    </tr>\n",
       "    <tr>\n",
       "      <th>1</th>\n",
       "      <td>1</td>\n",
       "      <td>2</td>\n",
       "      <td>0</td>\n",
       "      <td>1</td>\n",
       "      <td>3</td>\n",
       "      <td>10</td>\n",
       "      <td>0</td>\n",
       "    </tr>\n",
       "    <tr>\n",
       "      <th>2</th>\n",
       "      <td>2</td>\n",
       "      <td>3</td>\n",
       "      <td>1</td>\n",
       "      <td>1</td>\n",
       "      <td>3</td>\n",
       "      <td>10</td>\n",
       "      <td>0</td>\n",
       "    </tr>\n",
       "    <tr>\n",
       "      <th>3</th>\n",
       "      <td>1</td>\n",
       "      <td>3</td>\n",
       "      <td>0</td>\n",
       "      <td>1</td>\n",
       "      <td>3</td>\n",
       "      <td>3</td>\n",
       "      <td>0</td>\n",
       "    </tr>\n",
       "    <tr>\n",
       "      <th>4</th>\n",
       "      <td>6</td>\n",
       "      <td>3</td>\n",
       "      <td>0</td>\n",
       "      <td>2</td>\n",
       "      <td>1</td>\n",
       "      <td>10</td>\n",
       "      <td>0</td>\n",
       "    </tr>\n",
       "  </tbody>\n",
       "</table>\n",
       "</div>"
      ],
      "text/plain": [
       "   贷款等级  房屋所有权  过去6个月内被查询次数  贷款期限  收入是否由LC验证  工作年限  留置税数量\n",
       "0     1      2            0     1          3     2      0\n",
       "1     1      2            0     1          3    10      0\n",
       "2     2      3            1     1          3    10      0\n",
       "3     1      3            0     1          3     3      0\n",
       "4     6      3            0     2          1    10      0"
      ]
     },
     "execution_count": 15,
     "metadata": {},
     "output_type": "execute_result"
    }
   ],
   "source": [
    "data[col].head()"
   ]
  },
  {
   "cell_type": "code",
   "execution_count": 17,
   "metadata": {},
   "outputs": [],
   "source": [
    "'''字符分类变量按照坏样本率进行编码''' \n",
    "def Encoder(df, col, target):           \n",
    "    encoder = {}\n",
    "    for v in set(df[col]):\n",
    "        if v == v:\n",
    "            subDf = df[df[col] == v]\n",
    "        else:\n",
    "            xList = list(df[col])\n",
    "            nanInd = [i for i in range(len(xList)) if xList[i] != xList[i]]\n",
    "            subDf = df.loc[nanInd]\n",
    "        encoder[v] = sum(subDf[target])*1.0/subDf.shape[0]\n",
    "    newCol = [encoder[i] for i in df[col]]\n",
    "    return newCol"
   ]
  },
  {
   "cell_type": "code",
   "execution_count": 18,
   "metadata": {},
   "outputs": [],
   "source": [
    "string_var=list(data.select_dtypes(include=[\"object\"]).columns) \n",
    "col=list(set(categorical_var)&set(string_var))\n",
    "\n",
    "for i in col:\n",
    "    data[i] = Encoder(data, i, 'target')"
   ]
  },
  {
   "cell_type": "code",
   "execution_count": 25,
   "metadata": {
    "scrolled": true
   },
   "outputs": [
    {
     "data": {
      "text/html": [
       "<div>\n",
       "<style scoped>\n",
       "    .dataframe tbody tr th:only-of-type {\n",
       "        vertical-align: middle;\n",
       "    }\n",
       "\n",
       "    .dataframe tbody tr th {\n",
       "        vertical-align: top;\n",
       "    }\n",
       "\n",
       "    .dataframe thead th {\n",
       "        text-align: right;\n",
       "    }\n",
       "</style>\n",
       "<table border=\"1\" class=\"dataframe\">\n",
       "  <thead>\n",
       "    <tr style=\"text-align: right;\">\n",
       "      <th></th>\n",
       "      <th>贷款目的</th>\n",
       "    </tr>\n",
       "  </thead>\n",
       "  <tbody>\n",
       "    <tr>\n",
       "      <th>0</th>\n",
       "      <td>0.084803</td>\n",
       "    </tr>\n",
       "    <tr>\n",
       "      <th>1</th>\n",
       "      <td>0.066410</td>\n",
       "    </tr>\n",
       "    <tr>\n",
       "      <th>2</th>\n",
       "      <td>0.080146</td>\n",
       "    </tr>\n",
       "    <tr>\n",
       "      <th>3</th>\n",
       "      <td>0.066410</td>\n",
       "    </tr>\n",
       "    <tr>\n",
       "      <th>4</th>\n",
       "      <td>0.084803</td>\n",
       "    </tr>\n",
       "    <tr>\n",
       "      <th>5</th>\n",
       "      <td>0.066410</td>\n",
       "    </tr>\n",
       "    <tr>\n",
       "      <th>6</th>\n",
       "      <td>0.066410</td>\n",
       "    </tr>\n",
       "    <tr>\n",
       "      <th>7</th>\n",
       "      <td>0.121911</td>\n",
       "    </tr>\n",
       "    <tr>\n",
       "      <th>8</th>\n",
       "      <td>0.084803</td>\n",
       "    </tr>\n",
       "    <tr>\n",
       "      <th>9</th>\n",
       "      <td>0.066410</td>\n",
       "    </tr>\n",
       "    <tr>\n",
       "      <th>10</th>\n",
       "      <td>0.084803</td>\n",
       "    </tr>\n",
       "    <tr>\n",
       "      <th>11</th>\n",
       "      <td>0.066410</td>\n",
       "    </tr>\n",
       "    <tr>\n",
       "      <th>12</th>\n",
       "      <td>0.084803</td>\n",
       "    </tr>\n",
       "    <tr>\n",
       "      <th>13</th>\n",
       "      <td>0.078538</td>\n",
       "    </tr>\n",
       "    <tr>\n",
       "      <th>14</th>\n",
       "      <td>0.078538</td>\n",
       "    </tr>\n",
       "    <tr>\n",
       "      <th>15</th>\n",
       "      <td>0.066410</td>\n",
       "    </tr>\n",
       "    <tr>\n",
       "      <th>16</th>\n",
       "      <td>0.084803</td>\n",
       "    </tr>\n",
       "    <tr>\n",
       "      <th>17</th>\n",
       "      <td>0.066410</td>\n",
       "    </tr>\n",
       "    <tr>\n",
       "      <th>18</th>\n",
       "      <td>0.080146</td>\n",
       "    </tr>\n",
       "    <tr>\n",
       "      <th>19</th>\n",
       "      <td>0.078538</td>\n",
       "    </tr>\n",
       "    <tr>\n",
       "      <th>20</th>\n",
       "      <td>0.066410</td>\n",
       "    </tr>\n",
       "    <tr>\n",
       "      <th>21</th>\n",
       "      <td>0.084803</td>\n",
       "    </tr>\n",
       "    <tr>\n",
       "      <th>22</th>\n",
       "      <td>0.084803</td>\n",
       "    </tr>\n",
       "    <tr>\n",
       "      <th>23</th>\n",
       "      <td>0.084803</td>\n",
       "    </tr>\n",
       "    <tr>\n",
       "      <th>24</th>\n",
       "      <td>0.066410</td>\n",
       "    </tr>\n",
       "    <tr>\n",
       "      <th>25</th>\n",
       "      <td>0.084803</td>\n",
       "    </tr>\n",
       "    <tr>\n",
       "      <th>26</th>\n",
       "      <td>0.084803</td>\n",
       "    </tr>\n",
       "    <tr>\n",
       "      <th>27</th>\n",
       "      <td>0.084803</td>\n",
       "    </tr>\n",
       "    <tr>\n",
       "      <th>28</th>\n",
       "      <td>0.084803</td>\n",
       "    </tr>\n",
       "    <tr>\n",
       "      <th>29</th>\n",
       "      <td>0.084803</td>\n",
       "    </tr>\n",
       "    <tr>\n",
       "      <th>...</th>\n",
       "      <td>...</td>\n",
       "    </tr>\n",
       "    <tr>\n",
       "      <th>103404</th>\n",
       "      <td>0.077763</td>\n",
       "    </tr>\n",
       "    <tr>\n",
       "      <th>103405</th>\n",
       "      <td>0.084803</td>\n",
       "    </tr>\n",
       "    <tr>\n",
       "      <th>103406</th>\n",
       "      <td>0.084803</td>\n",
       "    </tr>\n",
       "    <tr>\n",
       "      <th>103407</th>\n",
       "      <td>0.123711</td>\n",
       "    </tr>\n",
       "    <tr>\n",
       "      <th>103408</th>\n",
       "      <td>0.084803</td>\n",
       "    </tr>\n",
       "    <tr>\n",
       "      <th>103409</th>\n",
       "      <td>0.078538</td>\n",
       "    </tr>\n",
       "    <tr>\n",
       "      <th>103410</th>\n",
       "      <td>0.084803</td>\n",
       "    </tr>\n",
       "    <tr>\n",
       "      <th>103411</th>\n",
       "      <td>0.066410</td>\n",
       "    </tr>\n",
       "    <tr>\n",
       "      <th>103412</th>\n",
       "      <td>0.084803</td>\n",
       "    </tr>\n",
       "    <tr>\n",
       "      <th>103413</th>\n",
       "      <td>0.084803</td>\n",
       "    </tr>\n",
       "    <tr>\n",
       "      <th>103414</th>\n",
       "      <td>0.084803</td>\n",
       "    </tr>\n",
       "    <tr>\n",
       "      <th>103415</th>\n",
       "      <td>0.084803</td>\n",
       "    </tr>\n",
       "    <tr>\n",
       "      <th>103416</th>\n",
       "      <td>0.077763</td>\n",
       "    </tr>\n",
       "    <tr>\n",
       "      <th>103417</th>\n",
       "      <td>0.084803</td>\n",
       "    </tr>\n",
       "    <tr>\n",
       "      <th>103418</th>\n",
       "      <td>0.084803</td>\n",
       "    </tr>\n",
       "    <tr>\n",
       "      <th>103419</th>\n",
       "      <td>0.084803</td>\n",
       "    </tr>\n",
       "    <tr>\n",
       "      <th>103420</th>\n",
       "      <td>0.066410</td>\n",
       "    </tr>\n",
       "    <tr>\n",
       "      <th>103421</th>\n",
       "      <td>0.084803</td>\n",
       "    </tr>\n",
       "    <tr>\n",
       "      <th>103422</th>\n",
       "      <td>0.084803</td>\n",
       "    </tr>\n",
       "    <tr>\n",
       "      <th>103423</th>\n",
       "      <td>0.084803</td>\n",
       "    </tr>\n",
       "    <tr>\n",
       "      <th>103424</th>\n",
       "      <td>0.078538</td>\n",
       "    </tr>\n",
       "    <tr>\n",
       "      <th>103425</th>\n",
       "      <td>0.084803</td>\n",
       "    </tr>\n",
       "    <tr>\n",
       "      <th>103426</th>\n",
       "      <td>0.078538</td>\n",
       "    </tr>\n",
       "    <tr>\n",
       "      <th>103427</th>\n",
       "      <td>0.077763</td>\n",
       "    </tr>\n",
       "    <tr>\n",
       "      <th>103428</th>\n",
       "      <td>0.066410</td>\n",
       "    </tr>\n",
       "    <tr>\n",
       "      <th>103429</th>\n",
       "      <td>0.078538</td>\n",
       "    </tr>\n",
       "    <tr>\n",
       "      <th>103430</th>\n",
       "      <td>0.084803</td>\n",
       "    </tr>\n",
       "    <tr>\n",
       "      <th>103431</th>\n",
       "      <td>0.084803</td>\n",
       "    </tr>\n",
       "    <tr>\n",
       "      <th>103432</th>\n",
       "      <td>0.084803</td>\n",
       "    </tr>\n",
       "    <tr>\n",
       "      <th>103433</th>\n",
       "      <td>0.084803</td>\n",
       "    </tr>\n",
       "  </tbody>\n",
       "</table>\n",
       "<p>103434 rows × 1 columns</p>\n",
       "</div>"
      ],
      "text/plain": [
       "            贷款目的\n",
       "0       0.084803\n",
       "1       0.066410\n",
       "2       0.080146\n",
       "3       0.066410\n",
       "4       0.084803\n",
       "5       0.066410\n",
       "6       0.066410\n",
       "7       0.121911\n",
       "8       0.084803\n",
       "9       0.066410\n",
       "10      0.084803\n",
       "11      0.066410\n",
       "12      0.084803\n",
       "13      0.078538\n",
       "14      0.078538\n",
       "15      0.066410\n",
       "16      0.084803\n",
       "17      0.066410\n",
       "18      0.080146\n",
       "19      0.078538\n",
       "20      0.066410\n",
       "21      0.084803\n",
       "22      0.084803\n",
       "23      0.084803\n",
       "24      0.066410\n",
       "25      0.084803\n",
       "26      0.084803\n",
       "27      0.084803\n",
       "28      0.084803\n",
       "29      0.084803\n",
       "...          ...\n",
       "103404  0.077763\n",
       "103405  0.084803\n",
       "103406  0.084803\n",
       "103407  0.123711\n",
       "103408  0.084803\n",
       "103409  0.078538\n",
       "103410  0.084803\n",
       "103411  0.066410\n",
       "103412  0.084803\n",
       "103413  0.084803\n",
       "103414  0.084803\n",
       "103415  0.084803\n",
       "103416  0.077763\n",
       "103417  0.084803\n",
       "103418  0.084803\n",
       "103419  0.084803\n",
       "103420  0.066410\n",
       "103421  0.084803\n",
       "103422  0.084803\n",
       "103423  0.084803\n",
       "103424  0.078538\n",
       "103425  0.084803\n",
       "103426  0.078538\n",
       "103427  0.077763\n",
       "103428  0.066410\n",
       "103429  0.078538\n",
       "103430  0.084803\n",
       "103431  0.084803\n",
       "103432  0.084803\n",
       "103433  0.084803\n",
       "\n",
       "[103434 rows x 1 columns]"
      ]
     },
     "execution_count": 25,
     "metadata": {},
     "output_type": "execute_result"
    }
   ],
   "source": [
    "data[col]"
   ]
  },
  {
   "cell_type": "code",
   "execution_count": 28,
   "metadata": {},
   "outputs": [],
   "source": [
    "'''指定整型分类变量作为lightgbm的分类特征'''\n",
    "col=list(set(categorical_var)-set(string_var))"
   ]
  },
  {
   "cell_type": "code",
   "execution_count": 29,
   "metadata": {},
   "outputs": [],
   "source": [
    "'''保存变量和文件'''\n",
    "import pickle\n",
    "f =open('lgb_col.pkl','wb')\n",
    "pickle.dump(col,f)\n",
    "f.close() "
   ]
  },
  {
   "cell_type": "code",
   "execution_count": 31,
   "metadata": {},
   "outputs": [],
   "source": [
    "'''建模'''\n",
    "allFeatures = list(data.columns)   \n",
    "allFeatures.remove('target')\n",
    "X = data[allFeatures]\n",
    "y = data['target']\n",
    "from sklearn.model_selection import train_test_split as sp\n",
    "X_train, X_test, y_train, y_test = sp(X, y, test_size=0.3, random_state=1)"
   ]
  },
  {
   "cell_type": "code",
   "execution_count": 32,
   "metadata": {},
   "outputs": [],
   "source": [
    "'''加载分类变量'''\n",
    "f =open('lgb_col.pkl','rb')\n",
    "col = pickle.load(f)\n",
    "f.close()"
   ]
  },
  {
   "cell_type": "code",
   "execution_count": 34,
   "metadata": {},
   "outputs": [
    {
     "name": "stdout",
     "output_type": "stream",
     "text": [
      "Training until validation scores don't improve for 100 rounds.\n",
      "[10]\ttraining's auc: 0.676901\tvalid_1's auc: 0.673018\n",
      "[20]\ttraining's auc: 0.68312\tvalid_1's auc: 0.678426\n",
      "[30]\ttraining's auc: 0.68652\tvalid_1's auc: 0.679752\n",
      "[40]\ttraining's auc: 0.689323\tvalid_1's auc: 0.681637\n",
      "[50]\ttraining's auc: 0.691496\tvalid_1's auc: 0.682548\n",
      "[60]\ttraining's auc: 0.693068\tvalid_1's auc: 0.683518\n",
      "[70]\ttraining's auc: 0.694746\tvalid_1's auc: 0.684142\n",
      "[80]\ttraining's auc: 0.695954\tvalid_1's auc: 0.684497\n",
      "[90]\ttraining's auc: 0.697164\tvalid_1's auc: 0.684679\n",
      "[100]\ttraining's auc: 0.69829\tvalid_1's auc: 0.684859\n",
      "[110]\ttraining's auc: 0.699106\tvalid_1's auc: 0.684862\n",
      "[120]\ttraining's auc: 0.700043\tvalid_1's auc: 0.685045\n",
      "[130]\ttraining's auc: 0.700938\tvalid_1's auc: 0.685133\n",
      "[140]\ttraining's auc: 0.701603\tvalid_1's auc: 0.68511\n",
      "[150]\ttraining's auc: 0.702484\tvalid_1's auc: 0.685291\n",
      "[160]\ttraining's auc: 0.703423\tvalid_1's auc: 0.685116\n",
      "[170]\ttraining's auc: 0.704021\tvalid_1's auc: 0.685116\n",
      "[180]\ttraining's auc: 0.70458\tvalid_1's auc: 0.685183\n",
      "[190]\ttraining's auc: 0.705367\tvalid_1's auc: 0.68531\n",
      "[200]\ttraining's auc: 0.705902\tvalid_1's auc: 0.685203\n",
      "[210]\ttraining's auc: 0.706562\tvalid_1's auc: 0.685061\n",
      "[220]\ttraining's auc: 0.707162\tvalid_1's auc: 0.68503\n",
      "[230]\ttraining's auc: 0.707683\tvalid_1's auc: 0.685007\n",
      "[240]\ttraining's auc: 0.708258\tvalid_1's auc: 0.685078\n",
      "Early stopping, best iteration is:\n",
      "[149]\ttraining's auc: 0.702316\tvalid_1's auc: 0.685335\n"
     ]
    }
   ],
   "source": [
    "'''lightgbm建模'''\n",
    "import lightgbm as LGB\n",
    "params = {\n",
    "'objective': 'binary', # 二分类\n",
    "\"boosting\" : \"gbdt\",\n",
    "'num_leaves': 4,    # 2的深度次方\n",
    "'min_data_in_leaf': 20,  # 最小样本数量\n",
    "\"subsample\": 0.9,\n",
    "\"colsample_bytree\": 0.8,\n",
    "'learning_rate':0.09,\n",
    "'tree_learner': 'voting', # 学习方式\n",
    "'metric': 'auc'\n",
    "        }\n",
    "dtrain = LGB.Dataset(X_train, y_train, categorical_feature=col)\n",
    "dtest = LGB.Dataset(X_test, y_test, reference=dtrain, categorical_feature=col)\n",
    "lgb = LGB.train(params, dtrain, valid_sets=[dtrain, dtest], \n",
    "                num_boost_round=3000, early_stopping_rounds=100, verbose_eval=10)\n"
   ]
  },
  {
   "cell_type": "code",
   "execution_count": 35,
   "metadata": {},
   "outputs": [],
   "source": [
    "'''lightgbm重要性选择变量'''\n",
    "importace = list(lgb.feature_importance())\n",
    "allFeatures=list(lgb.feature_name())\n",
    "featureImportance = zip(allFeatures,importace)\n",
    "featureImportanceSorted = sorted(featureImportance, key=lambda k: k[1],reverse=True)\n"
   ]
  },
  {
   "cell_type": "code",
   "execution_count": 36,
   "metadata": {},
   "outputs": [
    {
     "data": {
      "text/plain": [
       "[('利率', 95),\n",
       " ('每月还款金额', 42),\n",
       " ('额度循环使用率', 39),\n",
       " ('月负债比', 34),\n",
       " ('贷款金额', 27),\n",
       " ('总贷款笔数', 25),\n",
       " ('贷款期限', 24),\n",
       " ('年收入', 24),\n",
       " ('房屋所有权', 22),\n",
       " ('过去两年借款人逾期30天以上的数字', 22),\n",
       " ('过去6个月内被查询次数', 22),\n",
       " ('贷款等级', 15),\n",
       " ('工作年限', 13),\n",
       " ('贷款目的', 13),\n",
       " ('摧毁公共记录的数量', 11),\n",
       " ('收入是否由LC验证', 10),\n",
       " ('拖欠的逾期款项', 5),\n",
       " ('留置税数量', 4)]"
      ]
     },
     "execution_count": 36,
     "metadata": {},
     "output_type": "execute_result"
    }
   ],
   "source": [
    "featureImportanceSorted"
   ]
  },
  {
   "cell_type": "code",
   "execution_count": 39,
   "metadata": {},
   "outputs": [
    {
     "data": {
      "image/png": "[encoded data removed]",
      "text/plain": [
       "<Figure size 360x720 with 1 Axes>"
      ]
     },
     "metadata": {
      "needs_background": "light"
     },
     "output_type": "display_data"
    }
   ],
   "source": [
    "plt.figure(figsize = (5, 10))                                                                                   \n",
    "sns.barplot(x=[k[1] for k in featureImportanceSorted],y=[k[0] for k in featureImportanceSorted])\n",
    "plt.xticks(rotation='vertical') \n",
    "plt.show()"
   ]
  },
  {
   "cell_type": "code",
   "execution_count": 40,
   "metadata": {},
   "outputs": [
    {
     "data": {
      "text/plain": [
       "['利率',\n",
       " '每月还款金额',\n",
       " '额度循环使用率',\n",
       " '月负债比',\n",
       " '贷款金额',\n",
       " '总贷款笔数',\n",
       " '贷款期限',\n",
       " '年收入',\n",
       " '房屋所有权',\n",
       " '过去两年借款人逾期30天以上的数字',\n",
       " '过去6个月内被查询次数',\n",
       " '贷款等级',\n",
       " '工作年限']"
      ]
     },
     "execution_count": 40,
     "metadata": {},
     "output_type": "execute_result"
    }
   ],
   "source": [
    "feature_selection_lgb = [k[0] for k in featureImportanceSorted[:13]]    #选择前13个最重要的变量\n",
    "feature_selection_lgb"
   ]
  },
  {
   "cell_type": "markdown",
   "metadata": {},
   "source": [
    "# Step 2: 分类变量分箱"
   ]
  },
  {
   "cell_type": "code",
   "execution_count": 49,
   "metadata": {},
   "outputs": [],
   "source": [
    "data=data_copy.copy()\n",
    "data=data[feature_selection_lgb+['target']]\n",
    "data_copy=data.copy()"
   ]
  },
  {
   "cell_type": "code",
   "execution_count": 50,
   "metadata": {},
   "outputs": [
    {
     "data": {
      "text/html": [
       "<div>\n",
       "<style scoped>\n",
       "    .dataframe tbody tr th:only-of-type {\n",
       "        vertical-align: middle;\n",
       "    }\n",
       "\n",
       "    .dataframe tbody tr th {\n",
       "        vertical-align: top;\n",
       "    }\n",
       "\n",
       "    .dataframe thead th {\n",
       "        text-align: right;\n",
       "    }\n",
       "</style>\n",
       "<table border=\"1\" class=\"dataframe\">\n",
       "  <thead>\n",
       "    <tr style=\"text-align: right;\">\n",
       "      <th></th>\n",
       "      <th>利率</th>\n",
       "      <th>每月还款金额</th>\n",
       "      <th>额度循环使用率</th>\n",
       "      <th>月负债比</th>\n",
       "      <th>贷款金额</th>\n",
       "      <th>总贷款笔数</th>\n",
       "      <th>贷款期限</th>\n",
       "      <th>年收入</th>\n",
       "      <th>房屋所有权</th>\n",
       "      <th>过去两年借款人逾期30天以上的数字</th>\n",
       "      <th>过去6个月内被查询次数</th>\n",
       "      <th>贷款等级</th>\n",
       "      <th>工作年限</th>\n",
       "      <th>target</th>\n",
       "    </tr>\n",
       "  </thead>\n",
       "  <tbody>\n",
       "    <tr>\n",
       "      <th>0</th>\n",
       "      <td>7.99</td>\n",
       "      <td>563.98</td>\n",
       "      <td>17.8</td>\n",
       "      <td>30.76</td>\n",
       "      <td>18000.0</td>\n",
       "      <td>22.0</td>\n",
       "      <td>1</td>\n",
       "      <td>60000.0</td>\n",
       "      <td>2</td>\n",
       "      <td>0.0</td>\n",
       "      <td>0</td>\n",
       "      <td>1</td>\n",
       "      <td>2.0</td>\n",
       "      <td>0</td>\n",
       "    </tr>\n",
       "    <tr>\n",
       "      <th>1</th>\n",
       "      <td>5.32</td>\n",
       "      <td>391.50</td>\n",
       "      <td>57.5</td>\n",
       "      <td>18.91</td>\n",
       "      <td>13000.0</td>\n",
       "      <td>21.0</td>\n",
       "      <td>1</td>\n",
       "      <td>101800.0</td>\n",
       "      <td>2</td>\n",
       "      <td>0.0</td>\n",
       "      <td>0</td>\n",
       "      <td>1</td>\n",
       "      <td>10.0</td>\n",
       "      <td>0</td>\n",
       "    </tr>\n",
       "    <tr>\n",
       "      <th>2</th>\n",
       "      <td>10.49</td>\n",
       "      <td>162.49</td>\n",
       "      <td>47.3</td>\n",
       "      <td>11.01</td>\n",
       "      <td>5000.0</td>\n",
       "      <td>9.0</td>\n",
       "      <td>1</td>\n",
       "      <td>75000.0</td>\n",
       "      <td>3</td>\n",
       "      <td>0.0</td>\n",
       "      <td>1</td>\n",
       "      <td>2</td>\n",
       "      <td>10.0</td>\n",
       "      <td>0</td>\n",
       "    </tr>\n",
       "    <tr>\n",
       "      <th>3</th>\n",
       "      <td>5.32</td>\n",
       "      <td>334.28</td>\n",
       "      <td>34.4</td>\n",
       "      <td>18.91</td>\n",
       "      <td>11100.0</td>\n",
       "      <td>23.0</td>\n",
       "      <td>1</td>\n",
       "      <td>60000.0</td>\n",
       "      <td>3</td>\n",
       "      <td>0.0</td>\n",
       "      <td>0</td>\n",
       "      <td>1</td>\n",
       "      <td>3.0</td>\n",
       "      <td>0</td>\n",
       "    </tr>\n",
       "    <tr>\n",
       "      <th>4</th>\n",
       "      <td>28.69</td>\n",
       "      <td>788.84</td>\n",
       "      <td>38.6</td>\n",
       "      <td>13.17</td>\n",
       "      <td>25000.0</td>\n",
       "      <td>25.0</td>\n",
       "      <td>2</td>\n",
       "      <td>83807.4</td>\n",
       "      <td>3</td>\n",
       "      <td>0.0</td>\n",
       "      <td>0</td>\n",
       "      <td>6</td>\n",
       "      <td>10.0</td>\n",
       "      <td>0</td>\n",
       "    </tr>\n",
       "  </tbody>\n",
       "</table>\n",
       "</div>"
      ],
      "text/plain": [
       "      利率  每月还款金额  额度循环使用率   月负债比     贷款金额  总贷款笔数  贷款期限       年收入  房屋所有权  \\\n",
       "0   7.99  563.98     17.8  30.76  18000.0   22.0     1   60000.0      2   \n",
       "1   5.32  391.50     57.5  18.91  13000.0   21.0     1  101800.0      2   \n",
       "2  10.49  162.49     47.3  11.01   5000.0    9.0     1   75000.0      3   \n",
       "3   5.32  334.28     34.4  18.91  11100.0   23.0     1   60000.0      3   \n",
       "4  28.69  788.84     38.6  13.17  25000.0   25.0     2   83807.4      3   \n",
       "\n",
       "   过去两年借款人逾期30天以上的数字  过去6个月内被查询次数  贷款等级  工作年限  target  \n",
       "0                0.0            0     1   2.0       0  \n",
       "1                0.0            0     1  10.0       0  \n",
       "2                0.0            1     2  10.0       0  \n",
       "3                0.0            0     1   3.0       0  \n",
       "4                0.0            0     6  10.0       0  "
      ]
     },
     "execution_count": 50,
     "metadata": {},
     "output_type": "execute_result"
    }
   ],
   "source": [
    "data.head()"
   ]
  },
  {
   "cell_type": "code",
   "execution_count": 51,
   "metadata": {},
   "outputs": [],
   "source": [
    "'''分类变量按照ln(odds)进行编码''' \n",
    "def Ln_odds(df, col, target):\n",
    "    total = df.groupby([col])[target].count()\n",
    "    total = pd.DataFrame({'total': total})\n",
    "    bad = df.groupby([col])[target].sum()   \n",
    "    bad = pd.DataFrame({'bad': bad})\n",
    "    regroup = total.merge(bad, left_index=True, right_index=True, how='left')\n",
    "    regroup.reset_index(level=0, inplace=True)\n",
    "    N = sum(regroup['total'])  \n",
    "    B = sum(regroup['bad'])      \n",
    "    regroup['good'] = regroup['total'] - regroup['bad']\n",
    "    G = N - B\n",
    "    regroup['bad_pcnt'] = regroup['bad'].map(lambda x: x*1.0/B)\n",
    "    regroup['good_pcnt'] = regroup['good'].map(lambda x: x * 1.0 / G)\n",
    "    regroup[col+'_WOE'] = regroup.apply(lambda x: np.log(x.good_pcnt*1.0/x.bad_pcnt),axis = 1)\n",
    "    df=pd.merge(df, regroup[[col,col+'_WOE']], on=col, how='left')\n",
    "    return df"
   ]
  },
  {
   "cell_type": "code",
   "execution_count": 52,
   "metadata": {},
   "outputs": [
    {
     "data": {
      "text/plain": [
       "['贷款等级', '房屋所有权', '过去6个月内被查询次数', '贷款期限', '工作年限']"
      ]
     },
     "execution_count": 52,
     "metadata": {},
     "output_type": "execute_result"
    }
   ],
   "source": [
    "categorical_var=list(set(categorical_var)&set(feature_selection_lgb))\n",
    "categorical_var"
   ]
  },
  {
   "cell_type": "code",
   "execution_count": 53,
   "metadata": {},
   "outputs": [
    {
     "data": {
      "image/png": "[encoded data removed]",
      "text/plain": [
       "<Figure size 432x288 with 1 Axes>"
      ]
     },
     "metadata": {
      "needs_background": "light"
     },
     "output_type": "display_data"
    },
    {
     "data": {
      "image/png": "[encoded data removed]",
      "text/plain": [
       "<Figure size 432x288 with 1 Axes>"
      ]
     },
     "metadata": {
      "needs_background": "light"
     },
     "output_type": "display_data"
    },
    {
     "data": {
      "image/png": "[encoded data removed]",
      "text/plain": [
       "<Figure size 432x288 with 1 Axes>"
      ]
     },
     "metadata": {
      "needs_background": "light"
     },
     "output_type": "display_data"
    },
    {
     "data": {
      "image/png": "[encoded data removed]",
      "text/plain": [
       "<Figure size 432x288 with 1 Axes>"
      ]
     },
     "metadata": {
      "needs_background": "light"
     },
     "output_type": "display_data"
    },
    {
     "data": {
      "image/png": "[encoded data removed]",
      "text/plain": [
       "<Figure size 432x288 with 1 Axes>"
      ]
     },
     "metadata": {
      "needs_background": "light"
     },
     "output_type": "display_data"
    }
   ],
   "source": [
    "'''分类变量分箱''' \n",
    "categorical_var=list(set(categorical_var)&set(feature_selection_lgb))\n",
    "categorical_var=['贷款期限', '房屋所有权', '贷款等级', '过去6个月内被查询次数','工作年限']\n",
    "for i in categorical_var:   \n",
    "    data=Ln_odds(data, i, 'target')\n",
    "    sns.pointplot(x=i, y=i+'_WOE', data=data)      \n",
    "    plt.xticks(rotation=0)     \n",
    "    plt.show()"
   ]
  },
  {
   "cell_type": "markdown",
   "metadata": {},
   "source": [
    "#### WOE分箱一定要单调或者V型(倒V型)；分箱数一般不超过5；每箱坏样本比例不能低于5%。"
   ]
  },
  {
   "cell_type": "code",
   "execution_count": 57,
   "metadata": {},
   "outputs": [],
   "source": [
    "'''逐个调试''' \n",
    "data=data_copy.copy()"
   ]
  },
  {
   "cell_type": "code",
   "execution_count": 58,
   "metadata": {},
   "outputs": [
    {
     "data": {
      "text/plain": [
       "3    35112\n",
       "2    32298\n",
       "4    15830\n",
       "1    12891\n",
       "5     5291\n",
       "6     1542\n",
       "7      470\n",
       "Name: 贷款等级, dtype: int64"
      ]
     },
     "execution_count": 58,
     "metadata": {},
     "output_type": "execute_result"
    }
   ],
   "source": [
    "#data['贷款等级'].value_counts()"
   ]
  },
  {
   "cell_type": "code",
   "execution_count": 55,
   "metadata": {},
   "outputs": [],
   "source": [
    "i='贷款等级'\n",
    "data[i]=data[i].apply(lambda x: 2 if 2<=x<5 else x)\n",
    "data[i]=data[i].apply(lambda x: 3 if x>=5 else x)\n"
   ]
  },
  {
   "cell_type": "code",
   "execution_count": 56,
   "metadata": {},
   "outputs": [
    {
     "data": {
      "image/png": "[encoded data removed]",
      "text/plain": [
       "<Figure size 432x288 with 1 Axes>"
      ]
     },
     "metadata": {
      "needs_background": "light"
     },
     "output_type": "display_data"
    }
   ],
   "source": [
    "data=Ln_odds(data, i, 'target')\n",
    "sns.pointplot(x=i, y=i+'_WOE', data=data)     \n",
    "plt.xticks(rotation=0)     \n",
    "plt.show()"
   ]
  },
  {
   "cell_type": "code",
   "execution_count": 59,
   "metadata": {},
   "outputs": [
    {
     "data": {
      "text/plain": [
       "0    63853\n",
       "1    26923\n",
       "2     8642\n",
       "3     2833\n",
       "4      872\n",
       "5      311\n",
       "Name: 过去6个月内被查询次数, dtype: int64"
      ]
     },
     "execution_count": 59,
     "metadata": {},
     "output_type": "execute_result"
    }
   ],
   "source": [
    "#data['过去6个月内被查询次数'].value_counts()"
   ]
  },
  {
   "cell_type": "code",
   "execution_count": 60,
   "metadata": {},
   "outputs": [],
   "source": [
    "i='过去6个月内被查询次数'\n",
    "data[i]=data[i].apply(lambda x: 4 if x>3 else x)"
   ]
  },
  {
   "cell_type": "code",
   "execution_count": 61,
   "metadata": {},
   "outputs": [
    {
     "data": {
      "image/png": "[encoded data removed]",
      "text/plain": [
       "<Figure size 432x288 with 1 Axes>"
      ]
     },
     "metadata": {
      "needs_background": "light"
     },
     "output_type": "display_data"
    }
   ],
   "source": [
    "data=Ln_odds(data, i, 'target')\n",
    "sns.pointplot(x=i, y=i+'_WOE', data=data)  \n",
    "plt.xticks(rotation=0)     \n",
    "plt.show()"
   ]
  },
  {
   "cell_type": "code",
   "execution_count": 62,
   "metadata": {},
   "outputs": [
    {
     "data": {
      "text/plain": [
       "10.0    42812\n",
       "1.0     14287\n",
       "2.0      9641\n",
       "3.0      8232\n",
       "5.0      6279\n",
       "4.0      6244\n",
       "6.0      4781\n",
       "8.0      3947\n",
       "9.0      3868\n",
       "7.0      3343\n",
       "Name: 工作年限, dtype: int64"
      ]
     },
     "execution_count": 62,
     "metadata": {},
     "output_type": "execute_result"
    }
   ],
   "source": [
    "data['工作年限'].value_counts()"
   ]
  },
  {
   "cell_type": "code",
   "execution_count": 63,
   "metadata": {},
   "outputs": [],
   "source": [
    "i='工作年限'\n",
    "data[i]=data[i].apply(lambda x: 1 if 1<=x<5 else x)\n",
    "data[i]=data[i].apply(lambda x: 2 if x>=5 else x)"
   ]
  },
  {
   "cell_type": "code",
   "execution_count": 64,
   "metadata": {
    "scrolled": true
   },
   "outputs": [
    {
     "data": {
      "image/png": "[encoded data removed]",
      "text/plain": [
       "<Figure size 432x288 with 1 Axes>"
      ]
     },
     "metadata": {
      "needs_background": "light"
     },
     "output_type": "display_data"
    }
   ],
   "source": [
    "data=Ln_odds(data, i, 'target')\n",
    "sns.pointplot(x=i, y=i+'_WOE', data=data)     \n",
    "plt.xticks(rotation=0)     \n",
    "plt.show()"
   ]
  },
  {
   "cell_type": "code",
   "execution_count": 66,
   "metadata": {},
   "outputs": [
    {
     "data": {
      "text/plain": [
       "Index(['利率', '每月还款金额', '额度循环使用率', '月负债比', '贷款金额', '总贷款笔数', '贷款期限', '年收入',\n",
       "       '房屋所有权', '过去两年借款人逾期30天以上的数字', '过去6个月内被查询次数', '贷款等级', '工作年限', 'target'],\n",
       "      dtype='object')"
      ]
     },
     "execution_count": 66,
     "metadata": {},
     "output_type": "execute_result"
    }
   ],
   "source": [
    "data.columns"
   ]
  },
  {
   "cell_type": "code",
   "execution_count": 65,
   "metadata": {},
   "outputs": [],
   "source": [
    "'''保存文件''' \n",
    "col=[]\n",
    "for i in list(data.columns):\n",
    "    if i.find('_WOE')<0:\n",
    "        col.append(i)    \n",
    "data=data[col]\n",
    "data.to_csv('分类变量分箱.csv', index=False, encoding='utf-8')"
   ]
  },
  {
   "cell_type": "code",
   "execution_count": 67,
   "metadata": {},
   "outputs": [
    {
     "data": {
      "text/html": [
       "<div>\n",
       "<style scoped>\n",
       "    .dataframe tbody tr th:only-of-type {\n",
       "        vertical-align: middle;\n",
       "    }\n",
       "\n",
       "    .dataframe tbody tr th {\n",
       "        vertical-align: top;\n",
       "    }\n",
       "\n",
       "    .dataframe thead th {\n",
       "        text-align: right;\n",
       "    }\n",
       "</style>\n",
       "<table border=\"1\" class=\"dataframe\">\n",
       "  <thead>\n",
       "    <tr style=\"text-align: right;\">\n",
       "      <th></th>\n",
       "      <th>利率</th>\n",
       "      <th>每月还款金额</th>\n",
       "      <th>额度循环使用率</th>\n",
       "      <th>月负债比</th>\n",
       "      <th>贷款金额</th>\n",
       "      <th>总贷款笔数</th>\n",
       "      <th>贷款期限</th>\n",
       "      <th>年收入</th>\n",
       "      <th>房屋所有权</th>\n",
       "      <th>过去两年借款人逾期30天以上的数字</th>\n",
       "      <th>过去6个月内被查询次数</th>\n",
       "      <th>贷款等级</th>\n",
       "      <th>工作年限</th>\n",
       "      <th>target</th>\n",
       "    </tr>\n",
       "  </thead>\n",
       "  <tbody>\n",
       "    <tr>\n",
       "      <th>0</th>\n",
       "      <td>7.99</td>\n",
       "      <td>563.98</td>\n",
       "      <td>17.8</td>\n",
       "      <td>30.76</td>\n",
       "      <td>18000.0</td>\n",
       "      <td>22.0</td>\n",
       "      <td>1</td>\n",
       "      <td>60000.0</td>\n",
       "      <td>2</td>\n",
       "      <td>0.0</td>\n",
       "      <td>0</td>\n",
       "      <td>1</td>\n",
       "      <td>1.0</td>\n",
       "      <td>0</td>\n",
       "    </tr>\n",
       "    <tr>\n",
       "      <th>1</th>\n",
       "      <td>5.32</td>\n",
       "      <td>391.50</td>\n",
       "      <td>57.5</td>\n",
       "      <td>18.91</td>\n",
       "      <td>13000.0</td>\n",
       "      <td>21.0</td>\n",
       "      <td>1</td>\n",
       "      <td>101800.0</td>\n",
       "      <td>2</td>\n",
       "      <td>0.0</td>\n",
       "      <td>0</td>\n",
       "      <td>1</td>\n",
       "      <td>2.0</td>\n",
       "      <td>0</td>\n",
       "    </tr>\n",
       "    <tr>\n",
       "      <th>2</th>\n",
       "      <td>10.49</td>\n",
       "      <td>162.49</td>\n",
       "      <td>47.3</td>\n",
       "      <td>11.01</td>\n",
       "      <td>5000.0</td>\n",
       "      <td>9.0</td>\n",
       "      <td>1</td>\n",
       "      <td>75000.0</td>\n",
       "      <td>3</td>\n",
       "      <td>0.0</td>\n",
       "      <td>1</td>\n",
       "      <td>2</td>\n",
       "      <td>2.0</td>\n",
       "      <td>0</td>\n",
       "    </tr>\n",
       "    <tr>\n",
       "      <th>3</th>\n",
       "      <td>5.32</td>\n",
       "      <td>334.28</td>\n",
       "      <td>34.4</td>\n",
       "      <td>18.91</td>\n",
       "      <td>11100.0</td>\n",
       "      <td>23.0</td>\n",
       "      <td>1</td>\n",
       "      <td>60000.0</td>\n",
       "      <td>3</td>\n",
       "      <td>0.0</td>\n",
       "      <td>0</td>\n",
       "      <td>1</td>\n",
       "      <td>1.0</td>\n",
       "      <td>0</td>\n",
       "    </tr>\n",
       "    <tr>\n",
       "      <th>4</th>\n",
       "      <td>28.69</td>\n",
       "      <td>788.84</td>\n",
       "      <td>38.6</td>\n",
       "      <td>13.17</td>\n",
       "      <td>25000.0</td>\n",
       "      <td>25.0</td>\n",
       "      <td>2</td>\n",
       "      <td>83807.4</td>\n",
       "      <td>3</td>\n",
       "      <td>0.0</td>\n",
       "      <td>0</td>\n",
       "      <td>6</td>\n",
       "      <td>2.0</td>\n",
       "      <td>0</td>\n",
       "    </tr>\n",
       "    <tr>\n",
       "      <th>5</th>\n",
       "      <td>25.49</td>\n",
       "      <td>767.66</td>\n",
       "      <td>64.5</td>\n",
       "      <td>20.00</td>\n",
       "      <td>25900.0</td>\n",
       "      <td>26.0</td>\n",
       "      <td>2</td>\n",
       "      <td>54000.0</td>\n",
       "      <td>2</td>\n",
       "      <td>0.0</td>\n",
       "      <td>1</td>\n",
       "      <td>5</td>\n",
       "      <td>2.0</td>\n",
       "      <td>0</td>\n",
       "    </tr>\n",
       "    <tr>\n",
       "      <th>6</th>\n",
       "      <td>11.44</td>\n",
       "      <td>164.74</td>\n",
       "      <td>27.8</td>\n",
       "      <td>16.49</td>\n",
       "      <td>5000.0</td>\n",
       "      <td>27.0</td>\n",
       "      <td>1</td>\n",
       "      <td>60000.0</td>\n",
       "      <td>3</td>\n",
       "      <td>0.0</td>\n",
       "      <td>1</td>\n",
       "      <td>2</td>\n",
       "      <td>2.0</td>\n",
       "      <td>0</td>\n",
       "    </tr>\n",
       "    <tr>\n",
       "      <th>7</th>\n",
       "      <td>7.49</td>\n",
       "      <td>186.61</td>\n",
       "      <td>39.6</td>\n",
       "      <td>20.06</td>\n",
       "      <td>6000.0</td>\n",
       "      <td>22.0</td>\n",
       "      <td>1</td>\n",
       "      <td>60000.0</td>\n",
       "      <td>3</td>\n",
       "      <td>0.0</td>\n",
       "      <td>0</td>\n",
       "      <td>1</td>\n",
       "      <td>2.0</td>\n",
       "      <td>0</td>\n",
       "    </tr>\n",
       "    <tr>\n",
       "      <th>8</th>\n",
       "      <td>11.39</td>\n",
       "      <td>707.86</td>\n",
       "      <td>92.4</td>\n",
       "      <td>20.18</td>\n",
       "      <td>21500.0</td>\n",
       "      <td>23.0</td>\n",
       "      <td>1</td>\n",
       "      <td>125000.0</td>\n",
       "      <td>2</td>\n",
       "      <td>0.0</td>\n",
       "      <td>0</td>\n",
       "      <td>2</td>\n",
       "      <td>2.0</td>\n",
       "      <td>0</td>\n",
       "    </tr>\n",
       "    <tr>\n",
       "      <th>9</th>\n",
       "      <td>11.39</td>\n",
       "      <td>329.24</td>\n",
       "      <td>51.1</td>\n",
       "      <td>29.93</td>\n",
       "      <td>10000.0</td>\n",
       "      <td>18.0</td>\n",
       "      <td>1</td>\n",
       "      <td>52000.0</td>\n",
       "      <td>2</td>\n",
       "      <td>0.0</td>\n",
       "      <td>0</td>\n",
       "      <td>2</td>\n",
       "      <td>1.0</td>\n",
       "      <td>0</td>\n",
       "    </tr>\n",
       "  </tbody>\n",
       "</table>\n",
       "</div>"
      ],
      "text/plain": [
       "      利率  每月还款金额  额度循环使用率   月负债比     贷款金额  总贷款笔数  贷款期限       年收入  房屋所有权  \\\n",
       "0   7.99  563.98     17.8  30.76  18000.0   22.0     1   60000.0      2   \n",
       "1   5.32  391.50     57.5  18.91  13000.0   21.0     1  101800.0      2   \n",
       "2  10.49  162.49     47.3  11.01   5000.0    9.0     1   75000.0      3   \n",
       "3   5.32  334.28     34.4  18.91  11100.0   23.0     1   60000.0      3   \n",
       "4  28.69  788.84     38.6  13.17  25000.0   25.0     2   83807.4      3   \n",
       "5  25.49  767.66     64.5  20.00  25900.0   26.0     2   54000.0      2   \n",
       "6  11.44  164.74     27.8  16.49   5000.0   27.0     1   60000.0      3   \n",
       "7   7.49  186.61     39.6  20.06   6000.0   22.0     1   60000.0      3   \n",
       "8  11.39  707.86     92.4  20.18  21500.0   23.0     1  125000.0      2   \n",
       "9  11.39  329.24     51.1  29.93  10000.0   18.0     1   52000.0      2   \n",
       "\n",
       "   过去两年借款人逾期30天以上的数字  过去6个月内被查询次数  贷款等级  工作年限  target  \n",
       "0                0.0            0     1   1.0       0  \n",
       "1                0.0            0     1   2.0       0  \n",
       "2                0.0            1     2   2.0       0  \n",
       "3                0.0            0     1   1.0       0  \n",
       "4                0.0            0     6   2.0       0  \n",
       "5                0.0            1     5   2.0       0  \n",
       "6                0.0            1     2   2.0       0  \n",
       "7                0.0            0     1   2.0       0  \n",
       "8                0.0            0     2   2.0       0  \n",
       "9                0.0            0     2   1.0       0  "
      ]
     },
     "execution_count": 67,
     "metadata": {},
     "output_type": "execute_result"
    }
   ],
   "source": [
    "data.head(10)"
   ]
  },
  {
   "cell_type": "markdown",
   "metadata": {},
   "source": [
    "# Step3: 连续变量分箱 "
   ]
  },
  {
   "cell_type": "code",
   "execution_count": 79,
   "metadata": {},
   "outputs": [],
   "source": [
    "data=pd.read_csv('分类变量分箱.csv', engine = 'python', encoding='utf8')"
   ]
  },
  {
   "cell_type": "code",
   "execution_count": 80,
   "metadata": {},
   "outputs": [
    {
     "data": {
      "text/html": [
       "<div>\n",
       "<style scoped>\n",
       "    .dataframe tbody tr th:only-of-type {\n",
       "        vertical-align: middle;\n",
       "    }\n",
       "\n",
       "    .dataframe tbody tr th {\n",
       "        vertical-align: top;\n",
       "    }\n",
       "\n",
       "    .dataframe thead th {\n",
       "        text-align: right;\n",
       "    }\n",
       "</style>\n",
       "<table border=\"1\" class=\"dataframe\">\n",
       "  <thead>\n",
       "    <tr style=\"text-align: right;\">\n",
       "      <th></th>\n",
       "      <th>利率</th>\n",
       "      <th>每月还款金额</th>\n",
       "      <th>额度循环使用率</th>\n",
       "      <th>月负债比</th>\n",
       "      <th>贷款金额</th>\n",
       "      <th>总贷款笔数</th>\n",
       "      <th>贷款期限</th>\n",
       "      <th>年收入</th>\n",
       "      <th>房屋所有权</th>\n",
       "      <th>过去两年借款人逾期30天以上的数字</th>\n",
       "      <th>过去6个月内被查询次数</th>\n",
       "      <th>贷款等级</th>\n",
       "      <th>工作年限</th>\n",
       "      <th>target</th>\n",
       "    </tr>\n",
       "  </thead>\n",
       "  <tbody>\n",
       "    <tr>\n",
       "      <th>0</th>\n",
       "      <td>7.99</td>\n",
       "      <td>563.98</td>\n",
       "      <td>17.8</td>\n",
       "      <td>30.76</td>\n",
       "      <td>18000.0</td>\n",
       "      <td>22.0</td>\n",
       "      <td>1</td>\n",
       "      <td>60000.0</td>\n",
       "      <td>2</td>\n",
       "      <td>0.0</td>\n",
       "      <td>0</td>\n",
       "      <td>1</td>\n",
       "      <td>1.0</td>\n",
       "      <td>0</td>\n",
       "    </tr>\n",
       "    <tr>\n",
       "      <th>1</th>\n",
       "      <td>5.32</td>\n",
       "      <td>391.50</td>\n",
       "      <td>57.5</td>\n",
       "      <td>18.91</td>\n",
       "      <td>13000.0</td>\n",
       "      <td>21.0</td>\n",
       "      <td>1</td>\n",
       "      <td>101800.0</td>\n",
       "      <td>2</td>\n",
       "      <td>0.0</td>\n",
       "      <td>0</td>\n",
       "      <td>1</td>\n",
       "      <td>2.0</td>\n",
       "      <td>0</td>\n",
       "    </tr>\n",
       "    <tr>\n",
       "      <th>2</th>\n",
       "      <td>10.49</td>\n",
       "      <td>162.49</td>\n",
       "      <td>47.3</td>\n",
       "      <td>11.01</td>\n",
       "      <td>5000.0</td>\n",
       "      <td>9.0</td>\n",
       "      <td>1</td>\n",
       "      <td>75000.0</td>\n",
       "      <td>3</td>\n",
       "      <td>0.0</td>\n",
       "      <td>1</td>\n",
       "      <td>2</td>\n",
       "      <td>2.0</td>\n",
       "      <td>0</td>\n",
       "    </tr>\n",
       "    <tr>\n",
       "      <th>3</th>\n",
       "      <td>5.32</td>\n",
       "      <td>334.28</td>\n",
       "      <td>34.4</td>\n",
       "      <td>18.91</td>\n",
       "      <td>11100.0</td>\n",
       "      <td>23.0</td>\n",
       "      <td>1</td>\n",
       "      <td>60000.0</td>\n",
       "      <td>3</td>\n",
       "      <td>0.0</td>\n",
       "      <td>0</td>\n",
       "      <td>1</td>\n",
       "      <td>1.0</td>\n",
       "      <td>0</td>\n",
       "    </tr>\n",
       "    <tr>\n",
       "      <th>4</th>\n",
       "      <td>28.69</td>\n",
       "      <td>788.84</td>\n",
       "      <td>38.6</td>\n",
       "      <td>13.17</td>\n",
       "      <td>25000.0</td>\n",
       "      <td>25.0</td>\n",
       "      <td>2</td>\n",
       "      <td>83807.4</td>\n",
       "      <td>3</td>\n",
       "      <td>0.0</td>\n",
       "      <td>0</td>\n",
       "      <td>6</td>\n",
       "      <td>2.0</td>\n",
       "      <td>0</td>\n",
       "    </tr>\n",
       "  </tbody>\n",
       "</table>\n",
       "</div>"
      ],
      "text/plain": [
       "      利率  每月还款金额  额度循环使用率   月负债比     贷款金额  总贷款笔数  贷款期限       年收入  房屋所有权  \\\n",
       "0   7.99  563.98     17.8  30.76  18000.0   22.0     1   60000.0      2   \n",
       "1   5.32  391.50     57.5  18.91  13000.0   21.0     1  101800.0      2   \n",
       "2  10.49  162.49     47.3  11.01   5000.0    9.0     1   75000.0      3   \n",
       "3   5.32  334.28     34.4  18.91  11100.0   23.0     1   60000.0      3   \n",
       "4  28.69  788.84     38.6  13.17  25000.0   25.0     2   83807.4      3   \n",
       "\n",
       "   过去两年借款人逾期30天以上的数字  过去6个月内被查询次数  贷款等级  工作年限  target  \n",
       "0                0.0            0     1   1.0       0  \n",
       "1                0.0            0     1   2.0       0  \n",
       "2                0.0            1     2   2.0       0  \n",
       "3                0.0            0     1   1.0       0  \n",
       "4                0.0            0     6   2.0       0  "
      ]
     },
     "execution_count": 80,
     "metadata": {},
     "output_type": "execute_result"
    }
   ],
   "source": [
    "data.head()"
   ]
  },
  {
   "cell_type": "code",
   "execution_count": 81,
   "metadata": {},
   "outputs": [],
   "source": [
    "#continuous_var=list(set(continuous_var)&set(feature_selection_lgb))\n",
    "#continuous_var"
   ]
  },
  {
   "cell_type": "code",
   "execution_count": 82,
   "metadata": {},
   "outputs": [],
   "source": [
    "continuous_var=list(set(continuous_var)&set(feature_selection_lgb))\n",
    "continuous_var=['总贷款笔数', '每月还款金额', '过去两年借款人逾期30天以上的数字', \n",
    "                '贷款金额', '年收入', '利率', '月负债比', '额度循环使用率']\n",
    "\n",
    "describe = data[continuous_var].describe().T[['max', 'min']]"
   ]
  },
  {
   "cell_type": "code",
   "execution_count": 85,
   "metadata": {},
   "outputs": [
    {
     "data": {
      "text/html": [
       "<div>\n",
       "<style scoped>\n",
       "    .dataframe tbody tr th:only-of-type {\n",
       "        vertical-align: middle;\n",
       "    }\n",
       "\n",
       "    .dataframe tbody tr th {\n",
       "        vertical-align: top;\n",
       "    }\n",
       "\n",
       "    .dataframe thead th {\n",
       "        text-align: right;\n",
       "    }\n",
       "</style>\n",
       "<table border=\"1\" class=\"dataframe\">\n",
       "  <thead>\n",
       "    <tr style=\"text-align: right;\">\n",
       "      <th></th>\n",
       "      <th>max</th>\n",
       "      <th>min</th>\n",
       "    </tr>\n",
       "  </thead>\n",
       "  <tbody>\n",
       "    <tr>\n",
       "      <th>总贷款笔数</th>\n",
       "      <td>137.00</td>\n",
       "      <td>2.00</td>\n",
       "    </tr>\n",
       "    <tr>\n",
       "      <th>每月还款金额</th>\n",
       "      <td>1584.90</td>\n",
       "      <td>30.12</td>\n",
       "    </tr>\n",
       "    <tr>\n",
       "      <th>过去两年借款人逾期30天以上的数字</th>\n",
       "      <td>29.00</td>\n",
       "      <td>0.00</td>\n",
       "    </tr>\n",
       "    <tr>\n",
       "      <th>贷款金额</th>\n",
       "      <td>40000.00</td>\n",
       "      <td>1000.00</td>\n",
       "    </tr>\n",
       "    <tr>\n",
       "      <th>年收入</th>\n",
       "      <td>7000055.00</td>\n",
       "      <td>0.00</td>\n",
       "    </tr>\n",
       "    <tr>\n",
       "      <th>利率</th>\n",
       "      <td>30.99</td>\n",
       "      <td>5.32</td>\n",
       "    </tr>\n",
       "    <tr>\n",
       "      <th>月负债比</th>\n",
       "      <td>999.00</td>\n",
       "      <td>0.00</td>\n",
       "    </tr>\n",
       "    <tr>\n",
       "      <th>额度循环使用率</th>\n",
       "      <td>162.00</td>\n",
       "      <td>0.00</td>\n",
       "    </tr>\n",
       "  </tbody>\n",
       "</table>\n",
       "</div>"
      ],
      "text/plain": [
       "                          max      min\n",
       "总贷款笔数                  137.00     2.00\n",
       "每月还款金额                1584.90    30.12\n",
       "过去两年借款人逾期30天以上的数字       29.00     0.00\n",
       "贷款金额                 40000.00  1000.00\n",
       "年收入                7000055.00     0.00\n",
       "利率                      30.99     5.32\n",
       "月负债比                   999.00     0.00\n",
       "额度循环使用率                162.00     0.00"
      ]
     },
     "execution_count": 85,
     "metadata": {},
     "output_type": "execute_result"
    }
   ],
   "source": [
    "describe"
   ]
  },
  {
   "cell_type": "code",
   "execution_count": 83,
   "metadata": {},
   "outputs": [
    {
     "data": {
      "image/png": "[encoded data removed]",
      "text/plain": [
       "<Figure size 432x288 with 1 Axes>"
      ]
     },
     "metadata": {
      "needs_background": "light"
     },
     "output_type": "display_data"
    }
   ],
   "source": [
    "'''连续变量分箱''' \n",
    "i='总贷款笔数'\n",
    "sns.distplot(data[i][data['target'] == 0].dropna(),color='blue') \n",
    "sns.distplot(data[i][data['target'] == 1].dropna(),color='red')\n",
    "plt.show() "
   ]
  },
  {
   "cell_type": "code",
   "execution_count": 84,
   "metadata": {},
   "outputs": [
    {
     "data": {
      "image/png": "[encoded data removed]",
      "text/plain": [
       "<Figure size 432x288 with 1 Axes>"
      ]
     },
     "metadata": {
      "needs_background": "light"
     },
     "output_type": "display_data"
    }
   ],
   "source": [
    "bins=[-1, 20, 30, 200]   #左开右闭，如果可能出现0，那么需要以-1开始\n",
    "cats=pd.cut(list(data[i]), bins, precision=0)        #指定分组区间\n",
    "cats.value_counts()  \n",
    "data[i+'组别']=pd.Series(cats)\n",
    "data=Ln_odds(data, i+'组别', 'target')\n",
    "sns.pointplot(x=i+'组别', y=i+'组别_WOE', data=data.sort_values(i+'组别_WOE',ascending=False))      \n",
    "plt.show()  "
   ]
  },
  {
   "cell_type": "code",
   "execution_count": 86,
   "metadata": {},
   "outputs": [
    {
     "data": {
      "image/png": "[encoded data removed]",
      "text/plain": [
       "<Figure size 432x288 with 1 Axes>"
      ]
     },
     "metadata": {
      "needs_background": "light"
     },
     "output_type": "display_data"
    }
   ],
   "source": [
    "i='每月还款金额'\n",
    "sns.distplot(data[i][data['target'] == 0].dropna(),color='blue') \n",
    "sns.distplot(data[i][data['target'] == 1].dropna(),color='red')\n",
    "plt.show() "
   ]
  },
  {
   "cell_type": "code",
   "execution_count": 87,
   "metadata": {},
   "outputs": [
    {
     "data": {
      "image/png": "[encoded data removed]",
      "text/plain": [
       "<Figure size 432x288 with 1 Axes>"
      ]
     },
     "metadata": {
      "needs_background": "light"
     },
     "output_type": "display_data"
    }
   ],
   "source": [
    "bins=[-1, 300, 750, 2000]\n",
    "cats=pd.cut(list(data[i]), bins, precision=0)        #指定分组区间\n",
    "cats.value_counts()  \n",
    "data[i+'组别']=pd.Series(cats)\n",
    "data=Ln_odds(data, i+'组别', 'target')\n",
    "sns.pointplot(x=i+'组别', y=i+'组别_WOE', data=data.sort_values(i+'组别_WOE',ascending=False))  \n",
    "plt.show()  "
   ]
  },
  {
   "cell_type": "code",
   "execution_count": 88,
   "metadata": {},
   "outputs": [
    {
     "data": {
      "image/png": "[encoded data removed]",
      "text/plain": [
       "<Figure size 432x288 with 1 Axes>"
      ]
     },
     "metadata": {
      "needs_background": "light"
     },
     "output_type": "display_data"
    }
   ],
   "source": [
    "i='过去两年借款人逾期30天以上的数字'\n",
    "sns.distplot(data[i][data['target'] == 0].dropna(),color='blue') \n",
    "sns.distplot(data[i][data['target'] == 1].dropna(),color='red')\n",
    "plt.show() "
   ]
  },
  {
   "cell_type": "code",
   "execution_count": 89,
   "metadata": {},
   "outputs": [
    {
     "data": {
      "image/png": "[encoded data removed]",
      "text/plain": [
       "<Figure size 432x288 with 1 Axes>"
      ]
     },
     "metadata": {
      "needs_background": "light"
     },
     "output_type": "display_data"
    }
   ],
   "source": [
    "bins=[-1, 1, 50]\n",
    "cats=pd.cut(list(data[i]), bins, precision=0)        #指定分组区间\n",
    "cats.value_counts()  \n",
    "data[i+'组别']=pd.Series(cats)\n",
    "data=Ln_odds(data, i+'组别', 'target')\n",
    "sns.pointplot(x=i+'组别', y=i+'组别_WOE', data=data.sort_values(i+'组别_WOE',ascending=False))  \n",
    "plt.show()  "
   ]
  },
  {
   "cell_type": "code",
   "execution_count": 90,
   "metadata": {},
   "outputs": [
    {
     "data": {
      "image/png": "[encoded data removed]",
      "text/plain": [
       "<Figure size 432x288 with 1 Axes>"
      ]
     },
     "metadata": {
      "needs_background": "light"
     },
     "output_type": "display_data"
    }
   ],
   "source": [
    "i='贷款金额'\n",
    "sns.distplot(data[i][data['target'] == 0].dropna(),color='blue') \n",
    "sns.distplot(data[i][data['target'] == 1].dropna(),color='red')\n",
    "plt.show() "
   ]
  },
  {
   "cell_type": "code",
   "execution_count": 91,
   "metadata": {},
   "outputs": [
    {
     "data": {
      "image/png": "[encoded data removed]",
      "text/plain": [
       "<Figure size 432x288 with 1 Axes>"
      ]
     },
     "metadata": {
      "needs_background": "light"
     },
     "output_type": "display_data"
    }
   ],
   "source": [
    "bins=[-1, 10000, 20000, 50000]\n",
    "cats=pd.cut(list(data[i]), bins, precision=0)        #指定分组区间\n",
    "cats.value_counts()  \n",
    "data[i+'组别']=pd.Series(cats)\n",
    "data=Ln_odds(data, i+'组别', 'target')\n",
    "sns.pointplot(x=i+'组别', y=i+'组别_WOE', data=data.sort_values(i+'组别_WOE',ascending=False))  \n",
    "plt.show()  "
   ]
  },
  {
   "cell_type": "code",
   "execution_count": 92,
   "metadata": {},
   "outputs": [
    {
     "data": {
      "image/png": "[encoded data removed]",
      "text/plain": [
       "<Figure size 432x288 with 1 Axes>"
      ]
     },
     "metadata": {
      "needs_background": "light"
     },
     "output_type": "display_data"
    }
   ],
   "source": [
    "i='年收入'\n",
    "sns.distplot(data[i][data['target'] == 0].dropna(),color='blue') \n",
    "sns.distplot(data[i][data['target'] == 1].dropna(),color='red')\n",
    "plt.xlim([0,1000000])\n",
    "plt.show() "
   ]
  },
  {
   "cell_type": "code",
   "execution_count": 93,
   "metadata": {},
   "outputs": [
    {
     "data": {
      "image/png": "[encoded data removed]",
      "text/plain": [
       "<Figure size 432x288 with 1 Axes>"
      ]
     },
     "metadata": {
      "needs_background": "light"
     },
     "output_type": "display_data"
    }
   ],
   "source": [
    "bins=[-1, 150000, 300000, 10000000]\n",
    "cats=pd.cut(list(data[i]), bins, precision=0)        #指定分组区间\n",
    "cats.value_counts()  \n",
    "data[i+'组别']=pd.Series(cats)\n",
    "data=Ln_odds(data, i+'组别', 'target')\n",
    "sns.pointplot(x=i+'组别', y=i+'组别_WOE', data=data.sort_values(i+'组别_WOE',ascending=False))  \n",
    "plt.show()"
   ]
  },
  {
   "cell_type": "code",
   "execution_count": 94,
   "metadata": {},
   "outputs": [
    {
     "data": {
      "image/png": "[encoded data removed]",
      "text/plain": [
       "<Figure size 432x288 with 1 Axes>"
      ]
     },
     "metadata": {
      "needs_background": "light"
     },
     "output_type": "display_data"
    }
   ],
   "source": [
    "i='利率'\n",
    "sns.distplot(data[i][data['target'] == 0].dropna(),color='blue') \n",
    "sns.distplot(data[i][data['target'] == 1].dropna(),color='red')\n",
    "plt.show() "
   ]
  },
  {
   "cell_type": "code",
   "execution_count": 95,
   "metadata": {},
   "outputs": [
    {
     "data": {
      "image/png": "[encoded data removed]",
      "text/plain": [
       "<Figure size 432x288 with 1 Axes>"
      ]
     },
     "metadata": {
      "needs_background": "light"
     },
     "output_type": "display_data"
    }
   ],
   "source": [
    "bins=[0, 8, 13, 50]\n",
    "cats=pd.cut(list(data[i]), bins, precision=0)        #指定分组区间\n",
    "cats.value_counts()  \n",
    "data[i+'组别']=pd.Series(cats)\n",
    "data=Ln_odds(data, i+'组别', 'target')\n",
    "sns.pointplot(x=i+'组别', y=i+'组别_WOE', data=data.sort_values(i+'组别_WOE',ascending=False))  \n",
    "plt.show()  "
   ]
  },
  {
   "cell_type": "code",
   "execution_count": 96,
   "metadata": {},
   "outputs": [
    {
     "data": {
      "image/png": "[encoded data removed]",
      "text/plain": [
       "<Figure size 432x288 with 1 Axes>"
      ]
     },
     "metadata": {
      "needs_background": "light"
     },
     "output_type": "display_data"
    }
   ],
   "source": [
    "i='月负债比'\n",
    "sns.distplot(data[i][data['target'] == 0].dropna(),color='blue') \n",
    "sns.distplot(data[i][data['target'] == 1].dropna(),color='red')\n",
    "plt.xlim([0,200])\n",
    "plt.show()"
   ]
  },
  {
   "cell_type": "code",
   "execution_count": 97,
   "metadata": {},
   "outputs": [
    {
     "data": {
      "image/png": "[encoded data removed]",
      "text/plain": [
       "<Figure size 432x288 with 1 Axes>"
      ]
     },
     "metadata": {
      "needs_background": "light"
     },
     "output_type": "display_data"
    }
   ],
   "source": [
    "bins=[-1, 20, 1000]\n",
    "cats=pd.cut(list(data[i]), bins, precision=0)        #指定分组区间\n",
    "cats.value_counts()  \n",
    "data[i+'组别']=pd.Series(cats)\n",
    "data=Ln_odds(data, i+'组别', 'target')\n",
    "sns.pointplot(x=i+'组别', y=i+'组别_WOE', data=data.sort_values(i+'组别_WOE',ascending=False))  \n",
    "plt.show()  "
   ]
  },
  {
   "cell_type": "code",
   "execution_count": 98,
   "metadata": {},
   "outputs": [
    {
     "data": {
      "image/png": "[encoded data removed]",
      "text/plain": [
       "<Figure size 432x288 with 1 Axes>"
      ]
     },
     "metadata": {
      "needs_background": "light"
     },
     "output_type": "display_data"
    }
   ],
   "source": [
    "i='额度循环使用率'\n",
    "sns.distplot(data[i][data['target'] == 0].dropna(),color='blue') \n",
    "sns.distplot(data[i][data['target'] == 1].dropna(),color='red')\n",
    "plt.show() "
   ]
  },
  {
   "cell_type": "code",
   "execution_count": 99,
   "metadata": {},
   "outputs": [
    {
     "data": {
      "image/png": "[encoded data removed]",
      "text/plain": [
       "<Figure size 432x288 with 1 Axes>"
      ]
     },
     "metadata": {
      "needs_background": "light"
     },
     "output_type": "display_data"
    }
   ],
   "source": [
    "bins=[-1, 50, 200]\n",
    "cats=pd.cut(list(data[i]), bins, precision=0)        #指定分组区间\n",
    "cats.value_counts()  \n",
    "data[i+'组别']=pd.Series(cats)\n",
    "data=Ln_odds(data, i+'组别', 'target')\n",
    "sns.pointplot(x=i+'组别', y=i+'组别_WOE', data=data.sort_values(i+'组别_WOE',ascending=False))  \n",
    "plt.show() "
   ]
  },
  {
   "cell_type": "code",
   "execution_count": 100,
   "metadata": {},
   "outputs": [],
   "source": [
    "'''保存文件''' \n",
    "col=[]\n",
    "for i in list(data.columns):\n",
    "    if i.find('_WOE')<0:\n",
    "        col.append(i)    \n",
    "data=data[col]\n",
    "data.to_csv('分箱完成.csv', index=False, encoding='utf-8')\n"
   ]
  },
  {
   "cell_type": "code",
   "execution_count": 112,
   "metadata": {},
   "outputs": [],
   "source": [
    "data = pd.read_csv('分箱完成.csv', engine = 'python', encoding='utf-8')"
   ]
  },
  {
   "cell_type": "markdown",
   "metadata": {},
   "source": [
    "# Step 4: 计算WOE "
   ]
  },
  {
   "cell_type": "code",
   "execution_count": 113,
   "metadata": {},
   "outputs": [],
   "source": [
    "def CalcWOE(df, col, target):\n",
    "    total = df.groupby([col])[target].count()\n",
    "    total = pd.DataFrame({'total': total})\n",
    "    bad = df.groupby([col])[target].sum()   \n",
    "    bad = pd.DataFrame({'bad': bad})\n",
    "    regroup = total.merge(bad, left_index=True, right_index=True, how='left')\n",
    "    regroup.reset_index(level=0, inplace=True)\n",
    "    N = sum(regroup['total']) \n",
    "    B = sum(regroup['bad'])     \n",
    "    regroup['good'] = regroup['total'] - regroup['bad']\n",
    "    G = N - B\n",
    "    regroup['bad_pcnt'] = regroup['bad'].map(lambda x: x*1.0/B)\n",
    "    regroup['good_pcnt'] = regroup['good'].map(lambda x: x * 1.0 / G)\n",
    "    regroup['WOE'] = regroup.apply(lambda x: np.log(x.good_pcnt*1.0/x.bad_pcnt),axis = 1)\n",
    "    WOE_dict = regroup[[col,'WOE']].set_index(col).to_dict(orient='index')\n",
    "    for k, v in WOE_dict.items():\n",
    "        WOE_dict[k] = v['WOE']\n",
    "    IV = regroup.apply(lambda x: (x.good_pcnt-x.bad_pcnt)*np.log(x.good_pcnt*1.0/x.bad_pcnt),axis = 1)\n",
    "    IV = sum(IV)\n",
    "    return {\"WOE\": WOE_dict, 'IV':IV}"
   ]
  },
  {
   "cell_type": "code",
   "execution_count": 114,
   "metadata": {},
   "outputs": [],
   "source": [
    "all_var=[]\n",
    "for i in list(data.columns):\n",
    "    if i.find('组别')>0:\n",
    "        all_var.append(i)      \n",
    "all_var=all_var+categorical_var"
   ]
  },
  {
   "cell_type": "code",
   "execution_count": 115,
   "metadata": {},
   "outputs": [
    {
     "data": {
      "text/plain": [
       "['总贷款笔数组别',\n",
       " '每月还款金额组别',\n",
       " '过去两年借款人逾期30天以上的数字组别',\n",
       " '贷款金额组别',\n",
       " '年收入组别',\n",
       " '利率组别',\n",
       " '月负债比组别',\n",
       " '额度循环使用率组别',\n",
       " '贷款期限',\n",
       " '房屋所有权',\n",
       " '贷款等级',\n",
       " '过去6个月内被查询次数',\n",
       " '工作年限']"
      ]
     },
     "execution_count": 115,
     "metadata": {},
     "output_type": "execute_result"
    }
   ],
   "source": [
    "all_var"
   ]
  },
  {
   "cell_type": "code",
   "execution_count": 116,
   "metadata": {},
   "outputs": [],
   "source": [
    "WOE_dict = {}\n",
    "IV_dict = {}\n",
    "for var in all_var:\n",
    "    woe_iv = CalcWOE(data, var, 'target')\n",
    "    WOE_dict[var] = woe_iv['WOE']\n",
    "    IV_dict[var] = woe_iv['IV']"
   ]
  },
  {
   "cell_type": "code",
   "execution_count": 117,
   "metadata": {},
   "outputs": [
    {
     "data": {
      "text/plain": [
       "{'总贷款笔数组别': 2.554331413220842e-05,\n",
       " '每月还款金额组别': 0.042492046085442055,\n",
       " '过去两年借款人逾期30天以上的数字组别': 0.005808273948162267,\n",
       " '贷款金额组别': 0.02687665036047889,\n",
       " '年收入组别': 0.0035473607750031006,\n",
       " '利率组别': 0.2895958414739852,\n",
       " '月负债比组别': 0.02617701021474916,\n",
       " '额度循环使用率组别': 0.01157999485051206,\n",
       " '贷款期限': 0.016102277547991695,\n",
       " '房屋所有权': 0.015739447717282994,\n",
       " '贷款等级': 0.37852665975758804,\n",
       " '过去6个月内被查询次数': 0.043373007460841176,\n",
       " '工作年限': 0.0013126920981812577}"
      ]
     },
     "execution_count": 117,
     "metadata": {},
     "output_type": "execute_result"
    }
   ],
   "source": [
    "IV_dict"
   ]
  },
  {
   "cell_type": "code",
   "execution_count": 118,
   "metadata": {},
   "outputs": [
    {
     "data": {
      "text/plain": [
       "{'总贷款笔数组别': {'(-1, 20]': 0.003992536403786584,\n",
       "  '(20, 30]': 0.0011677687158787376,\n",
       "  '(30, 200]': -0.00850119651293873},\n",
       " '每月还款金额组别': {'(-1, 300]': 0.23770096910687502,\n",
       "  '(300, 750]': -0.04409423969778843,\n",
       "  '(750, 2000]': -0.36681586177339626},\n",
       " '过去两年借款人逾期30天以上的数字组别': {'(-1, 1]': 0.023021260809060817,\n",
       "  '(1, 50]': -0.25242248712612386},\n",
       " '贷款金额组别': {'(-1, 10000]': 0.1780170498031744,\n",
       "  '(10000, 20000]': -0.055314354641072386,\n",
       "  '(20000, 50000]': -0.23292451245864315},\n",
       " '年收入组别': {'(-1, 150000]': -0.013406714254104224,\n",
       "  '(150000, 300000]': 0.16774485166966208,\n",
       "  '(300000, 10000000]': 0.5289406527520248},\n",
       " '利率组别': {'(0, 8]': 1.3264114946742054,\n",
       "  '(13, 50]': -0.420109682815894,\n",
       "  '(8, 13]': 0.44006532649618474},\n",
       " '月负债比组别': {'(-1, 20]': 0.14930266952826868, '(20, 1000]': -0.175711609159601},\n",
       " '额度循环使用率组别': {'(-1, 50]': 0.11221022506144591,\n",
       "  '(50, 200]': -0.10329876935042616},\n",
       " '贷款期限': {1: 0.0753413745995954, 2: -0.21401123697515886},\n",
       " '房屋所有权': {1: -0.025461492720902017,\n",
       "  2: 0.12943177850668966,\n",
       "  3: -0.13778022896862704},\n",
       " '贷款等级': {1: 1.2671805489489125,\n",
       "  2: 0.5265769186882313,\n",
       "  3: -0.021497122181830645,\n",
       "  4: -0.5364479518884977,\n",
       "  5: -0.9019020846289346,\n",
       "  6: -1.407315324653377,\n",
       "  7: -1.5754398372750633},\n",
       " '过去6个月内被查询次数': {0: 0.14916795310749212,\n",
       "  1: -0.0958709636532523,\n",
       "  2: -0.3187461865703914,\n",
       "  3: -0.5679942775882271,\n",
       "  4: -0.6819525944184852},\n",
       " '工作年限': {1.0: -0.04641638379530883, 2.0: 0.02828388597576097}}"
      ]
     },
     "execution_count": 118,
     "metadata": {},
     "output_type": "execute_result"
    }
   ],
   "source": [
    "WOE_dict"
   ]
  },
  {
   "cell_type": "markdown",
   "metadata": {},
   "source": [
    "# Step 5: 逻辑回归建模 "
   ]
  },
  {
   "cell_type": "code",
   "execution_count": 119,
   "metadata": {},
   "outputs": [],
   "source": [
    "'''选取IV>=0.02的变量'''\n",
    "IV_dict_sorted = sorted(IV_dict.items(), key=lambda x: x[1], reverse=True)\n",
    "IV_values = [i[1] for i in IV_dict_sorted]\n",
    "IV_name = [i[0] for i in IV_dict_sorted]"
   ]
  },
  {
   "cell_type": "code",
   "execution_count": 120,
   "metadata": {},
   "outputs": [
    {
     "name": "stdout",
     "output_type": "stream",
     "text": [
      "总共 6 个变量IV >= 0.02\n"
     ]
    }
   ],
   "source": [
    "high_IV = {k:v for k, v in IV_dict.items() if v >= 0.02}\n",
    "high_IV_sorted = sorted(high_IV.items(),key=lambda x:x[1],reverse=True)\n",
    "print ('总共',len(high_IV_sorted),'个变量IV >= 0.02')  "
   ]
  },
  {
   "cell_type": "code",
   "execution_count": 121,
   "metadata": {},
   "outputs": [
    {
     "data": {
      "text/plain": [
       "[('贷款等级', 0.37852665975758804),\n",
       " ('利率组别', 0.2895958414739852),\n",
       " ('过去6个月内被查询次数', 0.043373007460841176),\n",
       " ('每月还款金额组别', 0.042492046085442055),\n",
       " ('贷款金额组别', 0.02687665036047889),\n",
       " ('月负债比组别', 0.02617701021474916)]"
      ]
     },
     "execution_count": 121,
     "metadata": {},
     "output_type": "execute_result"
    }
   ],
   "source": [
    "high_IV_sorted"
   ]
  },
  {
   "cell_type": "code",
   "execution_count": 122,
   "metadata": {},
   "outputs": [],
   "source": [
    "'''创建WOE变量'''\n",
    "short_list = high_IV.keys()\n",
    "short_list_2 = []\n",
    "for var in short_list:\n",
    "    newVar = var + '_WOE'\n",
    "    data[newVar] = data[var].map(WOE_dict[var])\n",
    "    short_list_2.append(newVar)"
   ]
  },
  {
   "cell_type": "code",
   "execution_count": 123,
   "metadata": {},
   "outputs": [],
   "source": [
    "'''计算相关系数矩阵，删除与重要业务变量相关性较强的自变量''' \n",
    "dataWOE = data[short_list_2]\n",
    "corr = round(dataWOE.corr(),2)"
   ]
  },
  {
   "cell_type": "code",
   "execution_count": 124,
   "metadata": {},
   "outputs": [
    {
     "data": {
      "image/png": "[encoded data removed]",
      "text/plain": [
       "<Figure size 360x360 with 2 Axes>"
      ]
     },
     "metadata": {
      "needs_background": "light"
     },
     "output_type": "display_data"
    }
   ],
   "source": [
    "mask = np.zeros_like(corr, dtype=np.bool)\n",
    "mask[np.triu_indices_from(mask)] = True             \n",
    "plt.figure(figsize = (5, 5))\n",
    "cmap = sns.diverging_palette(220, 10, as_cmap=True) \n",
    "sns.heatmap(corr, mask=mask, cmap=cmap, center=0, annot =True, cbar_kws={\"shrink\": .5})\n",
    "plt.show()"
   ]
  },
  {
   "cell_type": "code",
   "execution_count": 125,
   "metadata": {},
   "outputs": [
    {
     "name": "stdout",
     "output_type": "stream",
     "text": [
      "每月还款金额组别_WOE VIF是3.1645383559202793\n",
      "贷款金额组别_WOE VIF是3.185202406527371\n",
      "利率组别_WOE VIF是4.2723499416669535\n",
      "月负债比组别_WOE VIF是1.03068797710274\n",
      "贷款等级_WOE VIF是4.3811395803013\n",
      "过去6个月内被查询次数_WOE VIF是1.035658537540867\n"
     ]
    }
   ],
   "source": [
    "\"\"\"选择方差共线性<10的变量\"\"\"\n",
    "col = np.array(data[short_list_2])\n",
    "from statsmodels.stats.outliers_influence import variance_inflation_factor as vif\n",
    "for i in range(len(short_list_2)):                                              \n",
    "    print ('{} VIF是{}'.format(short_list_2[i], vif(col, i))) \n",
    "        "
   ]
  },
  {
   "cell_type": "code",
   "execution_count": 126,
   "metadata": {},
   "outputs": [],
   "source": [
    "\"\"\"判断显著性\"\"\"\n",
    "X = data[short_list_2]\n",
    "X['intercept'] = [1]*X.shape[0]\n",
    "y = data['target']"
   ]
  },
  {
   "cell_type": "code",
   "execution_count": 127,
   "metadata": {},
   "outputs": [
    {
     "name": "stdout",
     "output_type": "stream",
     "text": [
      "Optimization terminated successfully.\n",
      "         Current function value: 0.265405\n",
      "         Iterations 7\n"
     ]
    },
    {
     "data": {
      "text/html": [
       "<table class=\"simpletable\">\n",
       "<caption>Logit Regression Results</caption>\n",
       "<tr>\n",
       "  <th>Dep. Variable:</th>      <td>target</td>      <th>  No. Observations:  </th>  <td>103434</td> \n",
       "</tr>\n",
       "<tr>\n",
       "  <th>Model:</th>               <td>Logit</td>      <th>  Df Residuals:      </th>  <td>103427</td> \n",
       "</tr>\n",
       "<tr>\n",
       "  <th>Method:</th>               <td>MLE</td>       <th>  Df Model:          </th>  <td>     6</td> \n",
       "</tr>\n",
       "<tr>\n",
       "  <th>Date:</th>          <td>Sun, 14 Jul 2019</td> <th>  Pseudo R-squ.:     </th>  <td>0.05372</td>\n",
       "</tr>\n",
       "<tr>\n",
       "  <th>Time:</th>              <td>20:40:31</td>     <th>  Log-Likelihood:    </th> <td> -27452.</td>\n",
       "</tr>\n",
       "<tr>\n",
       "  <th>converged:</th>           <td>True</td>       <th>  LL-Null:           </th> <td> -29010.</td>\n",
       "</tr>\n",
       "<tr>\n",
       "  <th> </th>                      <td> </td>        <th>  LLR p-value:       </th>  <td> 0.000</td> \n",
       "</tr>\n",
       "</table>\n",
       "<table class=\"simpletable\">\n",
       "<tr>\n",
       "         <td></td>            <th>coef</th>     <th>std err</th>      <th>z</th>      <th>P>|z|</th>  <th>[0.025</th>    <th>0.975]</th>  \n",
       "</tr>\n",
       "<tr>\n",
       "  <th>每月还款金额组别_WOE</th>    <td>   -0.9373</td> <td>    0.099</td> <td>   -9.439</td> <td> 0.000</td> <td>   -1.132</td> <td>   -0.743</td>\n",
       "</tr>\n",
       "<tr>\n",
       "  <th>贷款金额组别_WOE</th>      <td>    0.7110</td> <td>    0.125</td> <td>    5.679</td> <td> 0.000</td> <td>    0.466</td> <td>    0.956</td>\n",
       "</tr>\n",
       "<tr>\n",
       "  <th>利率组别_WOE</th>        <td>   -0.1876</td> <td>    0.038</td> <td>   -4.904</td> <td> 0.000</td> <td>   -0.263</td> <td>   -0.113</td>\n",
       "</tr>\n",
       "<tr>\n",
       "  <th>月负债比组别_WOE</th>      <td>   -0.4369</td> <td>    0.072</td> <td>   -6.042</td> <td> 0.000</td> <td>   -0.579</td> <td>   -0.295</td>\n",
       "</tr>\n",
       "<tr>\n",
       "  <th>贷款等级_WOE</th>        <td>   -0.8101</td> <td>    0.031</td> <td>  -25.995</td> <td> 0.000</td> <td>   -0.871</td> <td>   -0.749</td>\n",
       "</tr>\n",
       "<tr>\n",
       "  <th>过去6个月内被查询次数_WOE</th> <td>   -0.5477</td> <td>    0.054</td> <td>  -10.199</td> <td> 0.000</td> <td>   -0.653</td> <td>   -0.442</td>\n",
       "</tr>\n",
       "<tr>\n",
       "  <th>intercept</th>       <td>   -2.4341</td> <td>    0.012</td> <td> -202.441</td> <td> 0.000</td> <td>   -2.458</td> <td>   -2.411</td>\n",
       "</tr>\n",
       "</table>"
      ],
      "text/plain": [
       "<class 'statsmodels.iolib.summary.Summary'>\n",
       "\"\"\"\n",
       "                           Logit Regression Results                           \n",
       "==============================================================================\n",
       "Dep. Variable:                 target   No. Observations:               103434\n",
       "Model:                          Logit   Df Residuals:                   103427\n",
       "Method:                           MLE   Df Model:                            6\n",
       "Date:                Sun, 14 Jul 2019   Pseudo R-squ.:                 0.05372\n",
       "Time:                        20:40:31   Log-Likelihood:                -27452.\n",
       "converged:                       True   LL-Null:                       -29010.\n",
       "                                        LLR p-value:                     0.000\n",
       "===================================================================================\n",
       "                      coef    std err          z      P>|z|      [0.025      0.975]\n",
       "-----------------------------------------------------------------------------------\n",
       "每月还款金额组别_WOE       -0.9373      0.099     -9.439      0.000      -1.132      -0.743\n",
       "贷款金额组别_WOE          0.7110      0.125      5.679      0.000       0.466       0.956\n",
       "利率组别_WOE           -0.1876      0.038     -4.904      0.000      -0.263      -0.113\n",
       "月负债比组别_WOE         -0.4369      0.072     -6.042      0.000      -0.579      -0.295\n",
       "贷款等级_WOE           -0.8101      0.031    -25.995      0.000      -0.871      -0.749\n",
       "过去6个月内被查询次数_WOE    -0.5477      0.054    -10.199      0.000      -0.653      -0.442\n",
       "intercept          -2.4341      0.012   -202.441      0.000      -2.458      -2.411\n",
       "===================================================================================\n",
       "\"\"\""
      ]
     },
     "execution_count": 127,
     "metadata": {},
     "output_type": "execute_result"
    }
   ],
   "source": [
    "import statsmodels.api as sm\n",
    "lr_sm=sm.Logit(y, X).fit()\n",
    "lr_sm.summary()"
   ]
  },
  {
   "cell_type": "code",
   "execution_count": 128,
   "metadata": {},
   "outputs": [],
   "source": [
    "'''建模'''\n",
    "X=data[short_list_2]\n",
    "y=data['target'] \n",
    "from sklearn.model_selection import train_test_split as sp\n",
    "X_train, X_test, y_train, y_test = sp(X, y, test_size=0.3, random_state=1)\n"
   ]
  },
  {
   "cell_type": "code",
   "execution_count": 129,
   "metadata": {},
   "outputs": [
    {
     "data": {
      "text/plain": [
       "LogisticRegression(C=1.0, class_weight=None, dual=False, fit_intercept=True,\n",
       "          intercept_scaling=1, max_iter=100, multi_class='warn',\n",
       "          n_jobs=None, penalty='l2', random_state=1, solver='warn',\n",
       "          tol=0.0001, verbose=0, warm_start=False)"
      ]
     },
     "execution_count": 129,
     "metadata": {},
     "output_type": "execute_result"
    }
   ],
   "source": [
    "from sklearn.linear_model import LogisticRegression as LR  \n",
    "lr=LR(random_state=1)\n",
    "lr.fit(X_train, y_train) "
   ]
  },
  {
   "cell_type": "code",
   "execution_count": 130,
   "metadata": {},
   "outputs": [
    {
     "name": "stdout",
     "output_type": "stream",
     "text": [
      "测试集准确率是: 91.82%\n",
      "测试集AUC是: 0.6741\n"
     ]
    }
   ],
   "source": [
    "from sklearn import metrics\n",
    "y_test_label = lr.predict(X_test)\n",
    "y_test_value = lr.predict_proba(X_test)[:, 1] \n",
    "print(\"测试集准确率是: {:.2%}\".format(metrics.accuracy_score(y_test, y_test_label)))  \n",
    "print(\"测试集AUC是: {:.4}\".format(metrics.roc_auc_score(y_test, y_test_value)))     \n"
   ]
  },
  {
   "cell_type": "markdown",
   "metadata": {},
   "source": [
    "# Step 6: 创建评分卡 "
   ]
  },
  {
   "cell_type": "markdown",
   "metadata": {},
   "source": [
    "    Score=A+B*ln(odds) \n",
    "    y=logist(p)=ln(p/(1-p))=b+aX=b+coewoe"
   ]
  },
  {
   "cell_type": "code",
   "execution_count": 131,
   "metadata": {},
   "outputs": [],
   "source": [
    "b=lr.intercept_       #截距\n",
    "\n",
    "coe=lr.coef_          #系数"
   ]
  },
  {
   "cell_type": "code",
   "execution_count": 132,
   "metadata": {},
   "outputs": [
    {
     "data": {
      "text/plain": [
       "array([-2.4404748])"
      ]
     },
     "execution_count": 132,
     "metadata": {},
     "output_type": "execute_result"
    }
   ],
   "source": [
    "#lr.intercept_"
   ]
  },
  {
   "cell_type": "code",
   "execution_count": 133,
   "metadata": {},
   "outputs": [],
   "source": [
    "#lr.coef_"
   ]
  },
  {
   "cell_type": "code",
   "execution_count": 134,
   "metadata": {},
   "outputs": [
    {
     "data": {
      "text/plain": [
       "Index(['每月还款金额组别_WOE', '贷款金额组别_WOE', '利率组别_WOE', '月负债比组别_WOE', '贷款等级_WOE',\n",
       "       '过去6个月内被查询次数_WOE'],\n",
       "      dtype='object')"
      ]
     },
     "execution_count": 134,
     "metadata": {},
     "output_type": "execute_result"
    }
   ],
   "source": [
    "data[short_list_2].columns"
   ]
  },
  {
   "cell_type": "code",
   "execution_count": 135,
   "metadata": {},
   "outputs": [
    {
     "data": {
      "text/plain": [
       "array([[-0.8993515 ,  0.66423546, -0.16628559, -0.44203311, -0.82652804,\n",
       "        -0.52050839]])"
      ]
     },
     "execution_count": 135,
     "metadata": {},
     "output_type": "execute_result"
    }
   ],
   "source": [
    "coe"
   ]
  },
  {
   "cell_type": "code",
   "execution_count": 136,
   "metadata": {},
   "outputs": [],
   "source": [
    "a0 = coe[0][0]        #每月还款金额组别 系数          \n",
    "a1 = coe[0][1]        #贷款金额组别 系数 \n",
    "a2 = coe[0][2]        #利率组别 系数 \n",
    "a3 = coe[0][3]        #月负债比组别 系数 \n",
    "a4 = coe[0][4]        #贷款等级 系数 \n",
    "a5 = coe[0][5]        #过去6个月内被查询次数 系数 \n",
    "\n",
    "A = 500\n",
    "PDO = 20              #每增加20分，odds(好坏比)增加1倍\n",
    "B=PDO/np.log(2)"
   ]
  },
  {
   "cell_type": "code",
   "execution_count": 137,
   "metadata": {},
   "outputs": [
    {
     "data": {
      "text/plain": [
       "{'(-1, 300]': 0.23770096910687502,\n",
       " '(300, 750]': -0.04409423969778843,\n",
       " '(750, 2000]': -0.36681586177339626}"
      ]
     },
     "execution_count": 137,
     "metadata": {},
     "output_type": "execute_result"
    }
   ],
   "source": [
    "WOE_dict['每月还款金额组别']"
   ]
  },
  {
   "cell_type": "code",
   "execution_count": 138,
   "metadata": {},
   "outputs": [],
   "source": [
    "'''创建 每月还款金额 单变量得分'''\n",
    "WOE_dict['每月还款金额组别']  #获取字典key，即变量水平值\n",
    "\n",
    "woe1 = WOE_dict['每月还款金额组别']['(-1, 300]']\n",
    "score1 = -(B * a0* woe1) + (A-B*b)/dataWOE.shape[0]\n",
    "\n",
    "woe2 = WOE_dict['每月还款金额组别']['(300, 750]']\n",
    "score2 = -(B * a0 * woe2) + (A-B*b)/dataWOE.shape[0]\n",
    "\n",
    "woe3 = WOE_dict['每月还款金额组别']['(750, 2000]']\n",
    "score3 = -(B * a0 * woe3) + (A-B*b)/dataWOE.shape[0]\n"
   ]
  },
  {
   "cell_type": "code",
   "execution_count": 139,
   "metadata": {},
   "outputs": [
    {
     "data": {
      "text/plain": [
       "array([6.17380718])"
      ]
     },
     "execution_count": 139,
     "metadata": {},
     "output_type": "execute_result"
    }
   ],
   "source": [
    "score1"
   ]
  },
  {
   "cell_type": "code",
   "execution_count": 140,
   "metadata": {},
   "outputs": [
    {
     "data": {
      "text/plain": [
       "array([-1.13872187])"
      ]
     },
     "execution_count": 140,
     "metadata": {},
     "output_type": "execute_result"
    }
   ],
   "source": [
    "score2"
   ]
  },
  {
   "cell_type": "code",
   "execution_count": 141,
   "metadata": {},
   "outputs": [
    {
     "data": {
      "text/plain": [
       "array([-9.51328312])"
      ]
     },
     "execution_count": 141,
     "metadata": {},
     "output_type": "execute_result"
    }
   ],
   "source": [
    "score3"
   ]
  },
  {
   "cell_type": "markdown",
   "metadata": {},
   "source": [
    "case \n",
    "when 0 <= '每月还款金额' <= 300 then 7    \n",
    "when 300 < '每月还款金额' <= 750 then -1  \n",
    "when '每月还款金额' > 750 then -10 \n",
    "else 0                                    #以业务逻辑/补缺规则来定                      "
   ]
  },
  {
   "cell_type": "code",
   "execution_count": 142,
   "metadata": {},
   "outputs": [
    {
     "data": {
      "text/plain": [
       "{'(-1, 10000]': 0.1780170498031744,\n",
       " '(10000, 20000]': -0.055314354641072386,\n",
       " '(20000, 50000]': -0.23292451245864315}"
      ]
     },
     "execution_count": 142,
     "metadata": {},
     "output_type": "execute_result"
    }
   ],
   "source": [
    "WOE_dict['贷款金额组别']\n"
   ]
  },
  {
   "cell_type": "code",
   "execution_count": 143,
   "metadata": {},
   "outputs": [],
   "source": [
    "'''创建 贷款金额 单变量得分'''\n",
    "WOE_dict['贷款金额组别']\n",
    "\n",
    "woe1 = WOE_dict['贷款金额组别']['(-1, 10000]']\n",
    "score1 = -(B * a1* woe1) + (A-B*b)/dataWOE.shape[0]\n",
    "\n",
    "woe2 = WOE_dict['贷款金额组别']['(10000, 20000]']\n",
    "score2 = -(B * a1 * woe2) + (A-B*b)/dataWOE.shape[0]\n",
    "\n",
    "woe3 = WOE_dict['贷款金额组别']['(20000, 50000]']\n",
    "score3 = -(B * a1 * woe3) + (A-B*b)/dataWOE.shape[0]\n"
   ]
  },
  {
   "cell_type": "markdown",
   "metadata": {},
   "source": [
    "case \n",
    "when 0 <= '贷款金额' <= 10000 then -3    \n",
    "when 10000 < '贷款金额' <= 20000 then 1  \n",
    "when '贷款金额' > 20000 then 4  \n",
    "else 0 "
   ]
  },
  {
   "cell_type": "code",
   "execution_count": 144,
   "metadata": {},
   "outputs": [],
   "source": [
    "'''创建 利率 单变量得分'''\n",
    "WOE_dict['利率组别']\n",
    "\n",
    "woe1 = WOE_dict['利率组别']['(0, 8]']\n",
    "score1 = -(B * a2* woe1) + (A-B*b)/dataWOE.shape[0]\n",
    "\n",
    "woe2 = WOE_dict['利率组别']['(8, 13]']\n",
    "score2 = -(B * a2 * woe2) + (A-B*b)/dataWOE.shape[0]\n",
    "\n",
    "woe3 = WOE_dict['利率组别']['(13, 50]']\n",
    "score3 = -(B * a2 * woe3) + (A-B*b)/dataWOE.shape[0]\n"
   ]
  },
  {
   "cell_type": "markdown",
   "metadata": {},
   "source": [
    "case \n",
    "when 0 < '利率' <= 8 then 25    \n",
    "when 8 < '利率' <= 13 then 8  \n",
    "when '利率' > 13 then -8  \n",
    "else 0  \n"
   ]
  },
  {
   "cell_type": "code",
   "execution_count": 145,
   "metadata": {},
   "outputs": [],
   "source": [
    "'''创建 月负债比 单变量得分'''\n",
    "WOE_dict['月负债比组别']\n",
    "\n",
    "woe1 = WOE_dict['月负债比组别']['(-1, 20]']\n",
    "score1 = -(B * a3* woe1) + (A-B*b)/dataWOE.shape[0]\n",
    "\n",
    "woe2 = WOE_dict['月负债比组别']['(20, 1000]']\n",
    "score2 = -(B * a3 * woe2) + (A-B*b)/dataWOE.shape[0]\n",
    "\n"
   ]
  },
  {
   "cell_type": "markdown",
   "metadata": {},
   "source": [
    "case \n",
    "when 0 < '月负债比' <= 20 then 2    \n",
    "when '月负债比'>20 then -3  \n",
    "else 0  \n"
   ]
  },
  {
   "cell_type": "code",
   "execution_count": 146,
   "metadata": {},
   "outputs": [],
   "source": [
    "'''创建 贷款等级 单变量得分'''\n",
    "WOE_dict['贷款等级']  \n",
    "\n",
    "woe1 = WOE_dict['贷款等级'][1]\n",
    "score1 = -(B * a4* woe1) + (A-B*b)/dataWOE.shape[0]\n",
    "\n",
    "woe2 = WOE_dict['贷款等级'][2]\n",
    "score2 = -(B * a4 * woe2) + (A-B*b)/dataWOE.shape[0]\n",
    "\n",
    "woe3 = WOE_dict['贷款等级'][3]\n",
    "score3 = -(B * a4 * woe3) + (A-B*b)/dataWOE.shape[0]\n"
   ]
  },
  {
   "cell_type": "markdown",
   "metadata": {},
   "source": [
    "case \n",
    "when '贷款等级' = 1 then 20    \n",
    "when '贷款等级' = 2 then 0   \n",
    "when '贷款等级' = 3 then -17  \n",
    "else 0       \n"
   ]
  },
  {
   "cell_type": "code",
   "execution_count": 147,
   "metadata": {},
   "outputs": [],
   "source": [
    "'''创建 过去6个月内被查询次数 单变量得分'''\n",
    "WOE_dict['过去6个月内被查询次数']  \n",
    "\n",
    "woe1 = WOE_dict['过去6个月内被查询次数'][0]\n",
    "score1 = -(B * a5* woe1) + (A-B*b)/dataWOE.shape[0]\n",
    "\n",
    "woe2 = WOE_dict['过去6个月内被查询次数'][1]\n",
    "score2 = -(B * a5 * woe2) + (A-B*b)/dataWOE.shape[0]\n",
    "\n",
    "woe3 = WOE_dict['过去6个月内被查询次数'][2]\n",
    "score3 = -(B * a5 * woe3) + (A-B*b)/dataWOE.shape[0]\n",
    "\n",
    "woe4 = WOE_dict['过去6个月内被查询次数'][3]\n",
    "score4 = -(B * a5 * woe4) + (A-B*b)/dataWOE.shape[0]\n",
    "\n",
    "woe5 = WOE_dict['过去6个月内被查询次数'][4]\n",
    "score5 = -(B * a5 * woe5) + (A-B*b)/dataWOE.shape[0]\n"
   ]
  },
  {
   "cell_type": "markdown",
   "metadata": {},
   "source": [
    "case \n",
    "when '过去6个月内被查询次数' = 1 then 3    \n",
    "when '过去6个月内被查询次数' = 2 then -2   \n",
    "when '过去6个月内被查询次数' = 3 then -5  \n",
    "when '过去6个月内被查询次数' = 4 then -10 \n",
    "when '过去6个月内被查询次数' = 5 then -12 \n",
    "else 0       \n"
   ]
  },
  {
   "cell_type": "markdown",
   "metadata": {},
   "source": [
    "# 申请评分卡的评价、使用与监控 "
   ]
  },
  {
   "cell_type": "markdown",
   "metadata": {},
   "source": [
    "    评价方法除了二分类模型通用的auc、ks指标以外，还有区分度曲线、拟合度曲线。使用方法主要是风险评分分布表。\n",
    "    评分卡监控主要从两方面来衡量，一个是稳定性指标，一个是有效性指标：\n",
    "    模型的稳定性主要是计算PSI值，一般来说，PSI在0.25以下的话，说明模型是稳定的。除此之外，还可以做出变量稳定性分析报告和评分分布报告；\n",
    "    模型的有效性主要是计算kendalls’tau值，值越接近1，说明逾期率在分数上的单调下降越明显，分数越有效。除此之外，还可以做出模型拟合度曲线、逾期拖欠分布报告与模型区分度检验报告"
   ]
  },
  {
   "cell_type": "code",
   "execution_count": null,
   "metadata": {},
   "outputs": [],
   "source": []
  }
 ],
 "metadata": {
  "kernelspec": {
   "display_name": "Python 3",
   "language": "python",
   "name": "python3"
  },
  "language_info": {
   "codemirror_mode": {
    "name": "ipython",
    "version": 3
   },
   "file_extension": ".py",
   "mimetype": "text/x-python",
   "name": "python",
   "nbconvert_exporter": "python",
   "pygments_lexer": "ipython3",
   "version": "3.7.0"
  }
 },
 "nbformat": 4,
 "nbformat_minor": 2
}
