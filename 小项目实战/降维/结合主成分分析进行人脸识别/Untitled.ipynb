{
 "cells": [
  {
   "cell_type": "markdown",
   "metadata": {},
   "source": [
    "# 注意\n",
    "    SVC模型有两个非常重要的参数C与gamma。其中 C是惩罚系数，即对误差的宽容度。C越高，说明越不能容忍出现误差,容易过拟合。C越小，容易欠拟合。gamma是选择RBF函数作为kernel后，该函数自带的一个参数。隐含地决定了数据映射到新的特征空间后的分布，gamma越大，支持向量越少，gamma值越小，支持向量越多。支持向量的个数影响训练与预测的速度。"
   ]
  },
  {
   "cell_type": "markdown",
   "metadata": {},
   "source": [
    "人脸识别（Face Recognition），是基于人的脸部特征信息进行身份识别的一种生物识别技术。用摄像机或摄像头采集含有人脸的图像或视频流，并自动在图像中检测和跟踪人脸，进而对检测到的人脸进行脸部的一系列相关技术，通常也叫做人像识别、面部识别。"
   ]
  },
  {
   "cell_type": "markdown",
   "metadata": {},
   "source": [
    "由于往往图像的维度较高，把二维的图像先灰度化，转化为一通道的图像，之后再把它首尾相接转化为一个列向量，假设图像大小是20像素*20像素的，那么这个向量就是400维。采用传统的机器学习分类算法在面对大量的特征时，往往抓不到主要特征，从而训练得到的模型的分类性能较低。"
   ]
  },
  {
   "cell_type": "markdown",
   "metadata": {},
   "source": [
    "一种经典的解决人脸识别问题的算法是特征脸法（Eigenface），本质上其实就是PCA降维。特征脸方法利用主成分分析进行降维和特征提取。主成分分析是一种应用十分广泛的数据降维技术，该方法选择与原数据协方差矩阵前几个最大特征值对应的特征向量构成一组基，以达到最佳表征原数据的目的。因为由主分量分析提取的特征向量返回成图像时，看上去仍像人脸，所以这些特征向量被称为“特征脸”。"
   ]
  },
  {
   "cell_type": "markdown",
   "metadata": {},
   "source": [
    "本案例中，我们将使用Labeled Faces in the Wild网站的All images aligned with funneling数据集，利用SVM分类算法来进行降维后的图片的分类"
   ]
  },
  {
   "cell_type": "markdown",
   "metadata": {},
   "source": [
    "# 数据源 "
   ]
  },
  {
   "cell_type": "markdown",
   "metadata": {},
   "source": [
    "我们使用一份包含1288个样本的关于一些著名政要照片的数据集，需要通过在sklearn.datasets包中的fetch_lfw_people函数获取。"
   ]
  },
  {
   "cell_type": "markdown",
   "metadata": {},
   "source": [
    "# 数据探索与预处理 "
   ]
  },
  {
   "cell_type": "code",
   "execution_count": 3,
   "metadata": {
    "ExecuteTime": {
     "end_time": "2019-08-26T05:35:10.279249Z",
     "start_time": "2019-08-26T05:35:10.166489Z"
    }
   },
   "outputs": [],
   "source": [
    "# 首先，使用sklearn.datasets包中的fetch_lfw_people()函数将数据加载到内存中：\n",
    "from time import time\n",
    "import pylab as pl\n",
    "import numpy as np\n",
    "import pandas as pd\n",
    "from sklearn.model_selection import train_test_split\n",
    "from sklearn.datasets import fetch_lfw_people\n",
    "from sklearn.model_selection import GridSearchCV\n",
    "from sklearn.metrics import classification_report,confusion_matrix,accuracy_score\n",
    "from sklearn.decomposition import PCA\n",
    "from sklearn.svm import SVC"
   ]
  },
  {
   "cell_type": "code",
   "execution_count": 4,
   "metadata": {
    "ExecuteTime": {
     "end_time": "2019-08-26T05:47:37.780740Z",
     "start_time": "2019-08-26T05:35:40.596481Z"
    }
   },
   "outputs": [
    {
     "name": "stderr",
     "output_type": "stream",
     "text": [
      "Downloading LFW metadata: https://ndownloader.figshare.com/files/5976012\n",
      "Downloading LFW metadata: https://ndownloader.figshare.com/files/5976009\n",
      "Downloading LFW metadata: https://ndownloader.figshare.com/files/5976006\n",
      "Downloading LFW data (~200MB): https://ndownloader.figshare.com/files/5976015\n"
     ]
    }
   ],
   "source": [
    "# 选取不少于70张面布图像的政要\n",
    "lfw_people = fetch_lfw_people(min_faces_per_person=70, resize=0.4)"
   ]
  },
  {
   "cell_type": "code",
   "execution_count": 5,
   "metadata": {
    "ExecuteTime": {
     "end_time": "2019-08-26T12:25:42.306927Z",
     "start_time": "2019-08-26T12:25:42.299225Z"
    }
   },
   "outputs": [],
   "source": [
    "# 获取样本数，图片的尺寸信息\n",
    "n_samples, h, w = lfw_people.images.shape"
   ]
  },
  {
   "cell_type": "code",
   "execution_count": 8,
   "metadata": {
    "ExecuteTime": {
     "end_time": "2019-08-26T12:26:37.386158Z",
     "start_time": "2019-08-26T12:26:37.377503Z"
    }
   },
   "outputs": [
    {
     "data": {
      "text/plain": [
       "(1288, 50, 37)"
      ]
     },
     "execution_count": 8,
     "metadata": {},
     "output_type": "execute_result"
    }
   ],
   "source": [
    "n_samples, h, w"
   ]
  },
  {
   "cell_type": "code",
   "execution_count": 10,
   "metadata": {
    "ExecuteTime": {
     "end_time": "2019-08-26T12:27:06.281508Z",
     "start_time": "2019-08-26T12:27:06.271730Z"
    }
   },
   "outputs": [
    {
     "data": {
      "text/plain": [
       "(1288, 1850)"
      ]
     },
     "execution_count": 10,
     "metadata": {},
     "output_type": "execute_result"
    }
   ],
   "source": [
    "lfw_people.data.shape"
   ]
  },
  {
   "cell_type": "code",
   "execution_count": 11,
   "metadata": {
    "ExecuteTime": {
     "end_time": "2019-08-26T12:27:39.308428Z",
     "start_time": "2019-08-26T12:27:39.294502Z"
    }
   },
   "outputs": [],
   "source": [
    "np.random.seed(42)\n",
    "#获取所有样本的特征2维数组\n",
    "X = lfw_people.data\n",
    "n_features = X.shape[1]"
   ]
  },
  {
   "cell_type": "code",
   "execution_count": 12,
   "metadata": {
    "ExecuteTime": {
     "end_time": "2019-08-26T12:27:50.782448Z",
     "start_time": "2019-08-26T12:27:50.766491Z"
    }
   },
   "outputs": [],
   "source": [
    "#政要的类别数组\n",
    "y = lfw_people.target\n",
    "#政要的类别所对应的名字数组\n",
    "target_names = lfw_people.target_names\n",
    "n_classes = target_names.shape[0]"
   ]
  },
  {
   "cell_type": "code",
   "execution_count": 15,
   "metadata": {
    "ExecuteTime": {
     "end_time": "2019-08-26T12:32:30.321851Z",
     "start_time": "2019-08-26T12:32:30.310892Z"
    }
   },
   "outputs": [
    {
     "data": {
      "text/plain": [
       "array(['Ariel Sharon', 'Colin Powell', 'Donald Rumsfeld', 'George W Bush',\n",
       "       'Gerhard Schroeder', 'Hugo Chavez', 'Tony Blair'], dtype='<U17')"
      ]
     },
     "execution_count": 15,
     "metadata": {},
     "output_type": "execute_result"
    }
   ],
   "source": [
    "lfw_people.target_names"
   ]
  },
  {
   "cell_type": "code",
   "execution_count": 13,
   "metadata": {
    "ExecuteTime": {
     "end_time": "2019-08-26T12:27:52.044155Z",
     "start_time": "2019-08-26T12:27:52.023131Z"
    }
   },
   "outputs": [
    {
     "name": "stdout",
     "output_type": "stream",
     "text": [
      "数据集信息:\n",
      "样本数量: 1288\n",
      "降维前每张图片的特征个数: 1850\n",
      "政要类别个数（不同的人的个数）: 7\n"
     ]
    }
   ],
   "source": [
    "print(\"数据集信息:\")\n",
    "print(\"样本数量: %d\" % n_samples)\n",
    "print(\"降维前每张图片的特征个数: %d\" % n_features)\n",
    "print(\"政要类别个数（不同的人的个数）: %d\" % n_classes)"
   ]
  },
  {
   "cell_type": "markdown",
   "metadata": {},
   "source": [
    "## 通过初步观察，发现所有的变量中不存在缺失值（missing value）。我们可以验证数据中确实没有缺失值。 "
   ]
  },
  {
   "cell_type": "code",
   "execution_count": 16,
   "metadata": {
    "ExecuteTime": {
     "end_time": "2019-08-26T12:51:04.439154Z",
     "start_time": "2019-08-26T12:51:04.338814Z"
    }
   },
   "outputs": [
    {
     "name": "stdout",
     "output_type": "stream",
     "text": [
      "数据中的缺失值个数： 0\n"
     ]
    }
   ],
   "source": [
    "value_ravel = X.ravel()\n",
    "print('数据中的缺失值个数：',len(value_ravel[value_ravel==np.nan]))"
   ]
  },
  {
   "cell_type": "markdown",
   "metadata": {},
   "source": [
    "## 处理不平衡数据 "
   ]
  },
  {
   "cell_type": "markdown",
   "metadata": {},
   "source": [
    "由于这是一个分类问题，我们需要查看数据集中的数据是否平衡。又以下代码可以得到每个类别有多少个样本："
   ]
  },
  {
   "cell_type": "code",
   "execution_count": 17,
   "metadata": {
    "ExecuteTime": {
     "end_time": "2019-08-26T12:52:28.657801Z",
     "start_time": "2019-08-26T12:52:28.573031Z"
    }
   },
   "outputs": [
    {
     "name": "stdout",
     "output_type": "stream",
     "text": [
      "数据中的各类别样本分布：\n",
      "0     77\n",
      "1    236\n",
      "2    121\n",
      "3    530\n",
      "4    109\n",
      "5     71\n",
      "6    144\n",
      "dtype: int64\n"
     ]
    }
   ],
   "source": [
    "print('数据中的各类别样本分布：')\n",
    "print(pd.Series(y).value_counts().sort_index())"
   ]
  },
  {
   "cell_type": "markdown",
   "metadata": {},
   "source": [
    "我们可以看出，数据中的属于不同类别的样本的分布是不平衡的。因此，我们需要对不平衡数据进行处理。这里我们选择过抽样的方法来使数据变得平衡。首先我们需要安装imbalanced-learn包来对不平衡数据进行处理"
   ]
  },
  {
   "cell_type": "code",
   "execution_count": 18,
   "metadata": {
    "ExecuteTime": {
     "end_time": "2019-08-26T12:54:25.620836Z",
     "start_time": "2019-08-26T12:54:24.938652Z"
    }
   },
   "outputs": [],
   "source": [
    "# 过采样\n",
    "from imblearn.over_sampling import RandomOverSampler\n",
    "ros = RandomOverSampler()\n",
    "X, y = ros.fit_sample(X, y)"
   ]
  },
  {
   "cell_type": "code",
   "execution_count": 20,
   "metadata": {
    "ExecuteTime": {
     "end_time": "2019-08-26T12:55:11.646699Z",
     "start_time": "2019-08-26T12:55:11.579947Z"
    }
   },
   "outputs": [],
   "source": [
    "RandomOverSampler?"
   ]
  },
  {
   "cell_type": "code",
   "execution_count": 19,
   "metadata": {
    "ExecuteTime": {
     "end_time": "2019-08-26T12:54:42.708563Z",
     "start_time": "2019-08-26T12:54:42.696491Z"
    }
   },
   "outputs": [
    {
     "name": "stdout",
     "output_type": "stream",
     "text": [
      "0    530\n",
      "1    530\n",
      "2    530\n",
      "3    530\n",
      "4    530\n",
      "5    530\n",
      "6    530\n",
      "dtype: int64\n"
     ]
    }
   ],
   "source": [
    "print(pd.Series(y).value_counts().sort_index())"
   ]
  },
  {
   "cell_type": "markdown",
   "metadata": {},
   "source": [
    "## 数据标准化"
   ]
  },
  {
   "cell_type": "markdown",
   "metadata": {},
   "source": [
    "由于图像的每个维度的值都是[0,255]内的灰度值，属于同一量纲，因此不需要进行数据标准化。"
   ]
  },
  {
   "cell_type": "markdown",
   "metadata": {},
   "source": [
    "# PCA降维处理"
   ]
  },
  {
   "cell_type": "markdown",
   "metadata": {},
   "source": [
    "由于原始图像的维度很高，有1850个特征，不利于用于训练分类模型。因此，我们先对原始数据进行PCA降维处理。将数据切分成80%的数据作为训练集，20%的数据作为测试集"
   ]
  },
  {
   "cell_type": "code",
   "execution_count": 21,
   "metadata": {
    "ExecuteTime": {
     "end_time": "2019-08-26T13:00:52.015169Z",
     "start_time": "2019-08-26T13:00:51.942505Z"
    }
   },
   "outputs": [],
   "source": [
    "X_train, X_test, y_train, y_test = train_test_split(X, y, test_size=0.2, random_state=42)"
   ]
  },
  {
   "cell_type": "code",
   "execution_count": 34,
   "metadata": {
    "ExecuteTime": {
     "end_time": "2019-08-26T14:10:31.388858Z",
     "start_time": "2019-08-26T14:10:31.378888Z"
    }
   },
   "outputs": [
    {
     "data": {
      "text/plain": [
       "2968"
      ]
     },
     "execution_count": 34,
     "metadata": {},
     "output_type": "execute_result"
    }
   ],
   "source": [
    "len(X_train)"
   ]
  },
  {
   "cell_type": "markdown",
   "metadata": {},
   "source": [
    "我们将1850维特征降低到n_components维，这里我们选用n_components=150维，也就是选用150个主成分"
   ]
  },
  {
   "cell_type": "code",
   "execution_count": 24,
   "metadata": {
    "ExecuteTime": {
     "end_time": "2019-08-26T13:29:56.571479Z",
     "start_time": "2019-08-26T13:29:56.566819Z"
    }
   },
   "outputs": [],
   "source": [
    "# PCA?"
   ]
  },
  {
   "cell_type": "code",
   "execution_count": 23,
   "metadata": {
    "ExecuteTime": {
     "end_time": "2019-08-26T13:29:33.364370Z",
     "start_time": "2019-08-26T13:29:32.396143Z"
    }
   },
   "outputs": [
    {
     "name": "stdout",
     "output_type": "stream",
     "text": [
      "从训练集的 2968 张脸中抽取最重要的 150 个特征脸，也就是将数据降低到 150 维\n",
      "降维后的150个主成分的累积方差贡献率：0.96 \n"
     ]
    }
   ],
   "source": [
    "n_components = 150\n",
    "print('从训练集的 %d 张脸中抽取最重要的 %d 个特征脸，也就是将数据降低到 %d 维' % (X_train.shape[0] , n_components,n_components))\n",
    "pca = PCA(n_components=n_components, whiten=True, svd_solver='randomized').fit(X_train)\n",
    "eigenfaces = pca.components_.reshape((n_components, h, w))\n",
    "print('降维后的150个主成分的累积方差贡献率：%.2f ' % round(sum(pca.explained_variance_ratio_),2))\n",
    "#将训练集和测试集的除去目标变量的数据通过训练好的PCA模型进行降维\n",
    "X_train_pca = pca.transform(X_train)\n",
    "X_test_pca = pca.transform(X_test)"
   ]
  },
  {
   "cell_type": "markdown",
   "metadata": {},
   "source": [
    "# 模型训练"
   ]
  },
  {
   "cell_type": "markdown",
   "metadata": {},
   "source": [
    "为了实现人脸识别，也就是识别出图像中的人物是谁。在经过降维处理的数据上，我们将使用sklearn.svm包中的SVC类来实现来构建基于SVM的人脸识别模型。 SVC 有两个主要的参数可以设置：核函数参数 kernel 和约束惩罚参数C。核函数参数 kernel的常用取值及其对应含义如下：\n",
    "- \"linear\"：线性核函数\n",
    "- \"poly\"：多项式核函数\n",
    "- \"rbf\"：径向基核函数\n",
    "- \"sigmoid\"： sigmoid核函数"
   ]
  },
  {
   "cell_type": "markdown",
   "metadata": {},
   "source": [
    "SVC模型有两个非常重要的参数C与gamma。其中 C是惩罚系数，即对误差的宽容度。C越高，说明越不能容忍出现误差,容易过拟合。C越小，容易欠拟合。gamma是选择RBF函数作为kernel后，该函数自带的一个参数。隐含地决定了数据映射到新的特征空间后的分布，gamma越大，支持向量越少，gamma值越小，支持向量越多。支持向量的个数影响训练与预测的速度。"
   ]
  },
  {
   "cell_type": "markdown",
   "metadata": {},
   "source": [
    "我们使用sklearn.grid_search包中的GridSearchCV类对模型进行构造。"
   ]
  },
  {
   "cell_type": "code",
   "execution_count": 25,
   "metadata": {
    "ExecuteTime": {
     "end_time": "2019-08-26T13:37:17.146851Z",
     "start_time": "2019-08-26T13:34:52.862441Z"
    }
   },
   "outputs": [
    {
     "name": "stderr",
     "output_type": "stream",
     "text": [
      "C:\\Apps\\Anaconda3\\lib\\site-packages\\sklearn\\model_selection\\_split.py:1978: FutureWarning: The default value of cv will change from 3 to 5 in version 0.22. Specify it explicitly to silence this warning.\n",
      "  warnings.warn(CV_WARNING, FutureWarning)\n"
     ]
    },
    {
     "name": "stdout",
     "output_type": "stream",
     "text": [
      "Grid search找到的最佳分类模型为:\n",
      "SVC(C=1000.0, cache_size=200, class_weight='balanced', coef0=0.0,\n",
      "    decision_function_shape='ovr', degree=3, gamma=0.005, kernel='rbf',\n",
      "    max_iter=-1, probability=False, random_state=None, shrinking=True,\n",
      "    tol=0.001, verbose=False)\n"
     ]
    }
   ],
   "source": [
    "param_grid = {\n",
    "             'C': [1e3, 5e3, 1e4, 5e4, 1e5],\n",
    "              'gamma': [0.0001, 0.0005, 0.001, 0.005, 0.01, 0.1],\n",
    "              }\n",
    "clf = GridSearchCV(SVC(kernel='rbf', class_weight='balanced'), param_grid)\n",
    "clf = clf.fit(X_train_pca, y_train)\n",
    "print(\"Grid search找到的最佳分类模型为:\")\n",
    "print(clf.best_estimator_)"
   ]
  },
  {
   "cell_type": "markdown",
   "metadata": {},
   "source": [
    "# 模型性能评估"
   ]
  },
  {
   "cell_type": "markdown",
   "metadata": {},
   "source": [
    "首先，使用predict()函数得到上一节训练的支持向量机模型在测试集合上的预测结果，然后使用 sklearn.metrics中的classification_report()和confusion_matrix()函数对模型的性能进行评估。"
   ]
  },
  {
   "cell_type": "code",
   "execution_count": 27,
   "metadata": {
    "ExecuteTime": {
     "end_time": "2019-08-26T13:42:40.631588Z",
     "start_time": "2019-08-26T13:42:40.261747Z"
    }
   },
   "outputs": [
    {
     "name": "stdout",
     "output_type": "stream",
     "text": [
      "                   precision    recall  f1-score   support\n",
      "\n",
      "     Ariel Sharon       1.00      1.00      1.00       101\n",
      "     Colin Powell       0.97      0.96      0.96       116\n",
      "  Donald Rumsfeld       1.00      1.00      1.00       105\n",
      "    George W Bush       0.96      0.96      0.96       112\n",
      "Gerhard Schroeder       1.00      1.00      1.00       101\n",
      "      Hugo Chavez       0.99      1.00      1.00       105\n",
      "       Tony Blair       1.00      1.00      1.00       102\n",
      "\n",
      "         accuracy                           0.99       742\n",
      "        macro avg       0.99      0.99      0.99       742\n",
      "     weighted avg       0.99      0.99      0.99       742\n",
      "\n",
      "[[101   0   0   0   0   0   0]\n",
      " [  0 111   0   4   0   1   0]\n",
      " [  0   0 105   0   0   0   0]\n",
      " [  0   4   0 108   0   0   0]\n",
      " [  0   0   0   0 101   0   0]\n",
      " [  0   0   0   0   0 105   0]\n",
      " [  0   0   0   0   0   0 102]]\n"
     ]
    }
   ],
   "source": [
    "y_predict = clf.predict(X_test_pca)\n",
    "print(classification_report(y_test, y_predict, target_names=target_names))\n",
    "print(confusion_matrix(y_test, y_predict, labels=range(n_classes)))"
   ]
  },
  {
   "cell_type": "markdown",
   "metadata": {},
   "source": [
    "上述混淆矩阵中对角线的元素表示模型正确预测数，对角元素之和表示模型整体预测正确的样本数。\n",
    "\n",
    "现在，让我们来通过这个来计算模型在测试集中的预测正确率。"
   ]
  },
  {
   "cell_type": "code",
   "execution_count": 28,
   "metadata": {
    "ExecuteTime": {
     "end_time": "2019-08-26T13:44:37.314342Z",
     "start_time": "2019-08-26T13:44:37.299356Z"
    }
   },
   "outputs": [
    {
     "name": "stdout",
     "output_type": "stream",
     "text": [
      "Accuracy: 0.9878706199460916\n"
     ]
    }
   ],
   "source": [
    "print(\"Accuracy:\", accuracy_score(y_test, y_predict))"
   ]
  },
  {
   "cell_type": "markdown",
   "metadata": {},
   "source": [
    "可见，训练得到的模型在原始集的20%的测试样本中，预测的正确率（Accuaray）为98.78%。"
   ]
  },
  {
   "cell_type": "markdown",
   "metadata": {},
   "source": [
    "# 特征脸示例及预测结果可视化 "
   ]
  },
  {
   "cell_type": "markdown",
   "metadata": {},
   "source": [
    "在得到训练得到的模型性能之后，我们可以查看之前通过降维提取到的特征脸："
   ]
  },
  {
   "cell_type": "code",
   "execution_count": 31,
   "metadata": {
    "ExecuteTime": {
     "end_time": "2019-08-26T14:05:24.574260Z",
     "start_time": "2019-08-26T14:05:24.559300Z"
    },
    "scrolled": true
   },
   "outputs": [
    {
     "data": {
      "text/plain": [
       "array([[[-5.74009307e-03, -6.71694009e-03, -7.67954765e-03, ...,\n",
       "         -1.13458680e-02, -1.07585015e-02, -1.02467863e-02],\n",
       "        [-6.58450229e-03, -7.42323278e-03, -8.96332227e-03, ...,\n",
       "         -1.25432890e-02, -1.18909609e-02, -1.16668278e-02],\n",
       "        [-7.85662141e-03, -8.75113159e-03, -1.07742781e-02, ...,\n",
       "         -1.35524273e-02, -1.21979108e-02, -1.17480662e-02],\n",
       "        ...,\n",
       "        [ 2.37057405e-03,  1.99216604e-03, -9.69202432e-04, ...,\n",
       "         -2.06133649e-02, -1.87882483e-02, -1.65987723e-02],\n",
       "        [ 1.98473386e-03,  5.51449892e-04, -1.20171800e-03, ...,\n",
       "         -2.04571150e-02, -1.79785881e-02, -1.59646198e-02],\n",
       "        [ 1.94696477e-03, -2.86856230e-04, -1.94957142e-03, ...,\n",
       "         -2.00112127e-02, -1.78575143e-02, -1.51903797e-02]],\n",
       "\n",
       "       [[ 2.11869646e-02,  1.98537428e-02,  2.10582800e-02, ...,\n",
       "         -2.15679947e-02, -2.20098216e-02, -2.17666868e-02],\n",
       "        [ 2.15858817e-02,  2.08292063e-02,  2.34841593e-02, ...,\n",
       "         -2.20515467e-02, -2.26523913e-02, -2.27544624e-02],\n",
       "        [ 2.20388733e-02,  2.23846026e-02,  2.61839461e-02, ...,\n",
       "         -2.23138183e-02, -2.31091715e-02, -2.36248579e-02],\n",
       "        ...,\n",
       "        [ 4.27819788e-02,  4.79402989e-02,  5.11014126e-02, ...,\n",
       "         -4.41995896e-02, -4.37131710e-02, -4.05380838e-02],\n",
       "        [ 4.11717929e-02,  4.69895639e-02,  5.10578789e-02, ...,\n",
       "         -4.36648130e-02, -4.32598852e-02, -4.10059430e-02],\n",
       "        [ 3.88524495e-02,  4.45355624e-02,  4.97718118e-02, ...,\n",
       "         -4.25959453e-02, -4.33441922e-02, -4.19657826e-02]],\n",
       "\n",
       "       [[-9.31560760e-04, -5.17129526e-03, -7.97388051e-03, ...,\n",
       "         -4.33382447e-05,  2.05867877e-03,  6.21078350e-03],\n",
       "        [-1.87602034e-03, -5.17884549e-03, -7.07579218e-03, ...,\n",
       "          8.58666957e-04,  1.28260802e-03,  4.65089316e-03],\n",
       "        [-2.85316748e-03, -5.29404404e-03, -5.94613329e-03, ...,\n",
       "          3.24268779e-03,  2.99129286e-03,  4.87692701e-03],\n",
       "        ...,\n",
       "        [ 6.81135133e-02,  7.69237354e-02,  8.45047385e-02, ...,\n",
       "          5.11040874e-02,  4.65965904e-02,  4.10597101e-02],\n",
       "        [ 5.91213815e-02,  6.85176253e-02,  7.87174776e-02, ...,\n",
       "          4.82243337e-02,  4.28841040e-02,  3.78623717e-02],\n",
       "        [ 5.31869344e-02,  6.19512759e-02,  7.21909106e-02, ...,\n",
       "          4.49110270e-02,  3.95454764e-02,  3.65121216e-02]],\n",
       "\n",
       "       ...,\n",
       "\n",
       "       [[ 2.89178565e-02, -7.26006553e-03, -2.32048123e-03, ...,\n",
       "          1.13163423e-02, -1.55907925e-02, -9.69056878e-03],\n",
       "        [ 1.06521705e-02, -1.95814222e-02, -7.46238697e-03, ...,\n",
       "          3.78212519e-02, -2.94595212e-03, -5.58104785e-03],\n",
       "        [-4.34018252e-03, -2.63600461e-02, -4.01080772e-03, ...,\n",
       "          3.76143456e-02,  1.70838949e-03, -1.19181219e-02],\n",
       "        ...,\n",
       "        [ 3.49612460e-02,  9.26479790e-03, -1.80360656e-02, ...,\n",
       "          1.49080297e-02, -2.76073162e-03, -1.26455016e-02],\n",
       "        [ 2.08471231e-02,  1.27572548e-02, -1.48811666e-02, ...,\n",
       "          1.37297586e-02, -3.99099838e-04, -8.65232851e-03],\n",
       "        [ 9.89708118e-03, -8.30761902e-03, -1.37520442e-02, ...,\n",
       "          1.12387137e-02,  1.71721410e-02,  1.82445440e-02]],\n",
       "\n",
       "       [[ 1.28217814e-02,  1.89557895e-02,  2.47847978e-02, ...,\n",
       "          1.09861335e-02, -2.68894769e-02, -3.14554498e-02],\n",
       "        [-4.40035202e-03,  2.73279671e-04,  8.69875890e-04, ...,\n",
       "          2.50960980e-02, -1.01226484e-02, -2.69976035e-02],\n",
       "        [-2.23207846e-02, -2.87515745e-02, -3.06199305e-02, ...,\n",
       "          2.50383746e-02,  6.99640065e-03, -6.76378328e-03],\n",
       "        ...,\n",
       "        [ 7.08802650e-03, -7.02701975e-03,  1.82406437e-02, ...,\n",
       "          4.45666127e-02, -3.56788412e-02, -6.85754493e-02],\n",
       "        [ 1.43557237e-02, -2.41121277e-02,  1.03227245e-02, ...,\n",
       "          1.10988179e-02,  9.09364969e-03,  8.26257933e-03],\n",
       "        [ 1.09290341e-02, -2.79342383e-02, -8.99961684e-03, ...,\n",
       "          5.48369624e-03,  6.27645180e-02,  6.49680495e-02]],\n",
       "\n",
       "       [[ 2.80306414e-02, -1.32149775e-02, -4.01022546e-02, ...,\n",
       "         -1.21083027e-02, -2.40430105e-02, -2.22091395e-02],\n",
       "        [ 1.50267901e-02, -2.74607092e-02, -2.29221303e-02, ...,\n",
       "         -3.31441103e-03, -1.71560217e-02, -1.38175180e-02],\n",
       "        [-2.44854600e-03, -3.50003578e-02,  6.93067582e-03, ...,\n",
       "          2.40488700e-03, -9.37801413e-03, -6.91601960e-03],\n",
       "        ...,\n",
       "        [-6.86505204e-03, -9.38304234e-03, -9.29305889e-03, ...,\n",
       "         -1.90130509e-02, -2.61581875e-02, -7.95242935e-03],\n",
       "        [-2.74898801e-02, -2.97692651e-03, -4.87967208e-03, ...,\n",
       "          7.65686482e-03, -3.15104388e-02, -1.77812483e-02],\n",
       "        [-3.86619754e-02,  1.92343369e-02,  2.55559795e-02, ...,\n",
       "          1.59237497e-02, -1.86511688e-02, -3.80730745e-03]]],\n",
       "      dtype=float32)"
      ]
     },
     "execution_count": 31,
     "metadata": {},
     "output_type": "execute_result"
    }
   ],
   "source": [
    "eigenfaces"
   ]
  },
  {
   "cell_type": "code",
   "execution_count": 29,
   "metadata": {
    "ExecuteTime": {
     "end_time": "2019-08-26T13:46:31.431276Z",
     "start_time": "2019-08-26T13:46:30.387493Z"
    }
   },
   "outputs": [
    {
     "data": {
      "image/png": "[encoded data removed]",
      "text/plain": [
       "<Figure size 518.4x518.4 with 12 Axes>"
      ]
     },
     "metadata": {},
     "output_type": "display_data"
    }
   ],
   "source": [
    "# 绘图函数，默认将画出待画图像数组中图像的前3*4=12个图像\n",
    "def plot_gallery(images, titles, h, w, n_row=3, n_col=4):\n",
    "    \"\"\"Helper function to plot a gallery of portraits\"\"\"\n",
    "    pl.figure(figsize=(1.8 * n_col, 2.4 * n_row))\n",
    "    pl.subplots_adjust(bottom=0, left=.01, right=.99, top=.90, hspace=.35)\n",
    "    for i in range(n_row * n_col):\n",
    "        pl.subplot(n_row, n_col, i + 1)\n",
    "        pl.imshow(images[i].reshape((h, w)), cmap=pl.cm.gray)\n",
    "        pl.title(titles[i], size=12)\n",
    "        pl.xticks(())\n",
    "        pl.yticks(())\n",
    "\n",
    "\n",
    "eigenface_titles = [\"eigenface %d\" % i for i in range(eigenfaces.shape[0])]\n",
    "plot_gallery(eigenfaces, eigenface_titles, h, w)"
   ]
  },
  {
   "cell_type": "markdown",
   "metadata": {},
   "source": [
    "另外，我们可以直观地表示用训练好的分类模型进行人脸识别的结果，前12个全部预测正确："
   ]
  },
  {
   "cell_type": "code",
   "execution_count": 30,
   "metadata": {
    "ExecuteTime": {
     "end_time": "2019-08-26T13:47:18.693509Z",
     "start_time": "2019-08-26T13:47:17.579487Z"
    }
   },
   "outputs": [
    {
     "data": {
      "image/png": "[encoded data removed]",
      "text/plain": [
       "<Figure size 518.4x518.4 with 12 Axes>"
      ]
     },
     "metadata": {},
     "output_type": "display_data"
    }
   ],
   "source": [
    "# 生成测试集中图片的title\n",
    "def title(y_pred, y_test, target_names, i):\n",
    "    pred_name = target_names[y_pred[i]].rsplit(' ', 1)[-1]\n",
    "    true_name = target_names[y_test[i]].rsplit(' ', 1)[-1]\n",
    "    return 'predicted: %s\\ntrue:      %s' % (pred_name, true_name)\n",
    "\n",
    "\n",
    "prediction_titles = [title(y_predict, y_test, target_names, i)\n",
    "                     for i in range(y_predict.shape[0])]\n",
    "\n",
    "plot_gallery(X_test, prediction_titles, h, w)\n",
    "pl.show()"
   ]
  },
  {
   "cell_type": "code",
   "execution_count": null,
   "metadata": {},
   "outputs": [],
   "source": []
  }
 ],
 "metadata": {
  "kernelspec": {
   "display_name": "Python 3",
   "language": "python",
   "name": "python3"
  },
  "language_info": {
   "codemirror_mode": {
    "name": "ipython",
    "version": 3
   },
   "file_extension": ".py",
   "mimetype": "text/x-python",
   "name": "python",
   "nbconvert_exporter": "python",
   "pygments_lexer": "ipython3",
   "version": "3.7.3"
  },
  "latex_envs": {
   "LaTeX_envs_menu_present": true,
   "autoclose": false,
   "autocomplete": true,
   "bibliofile": "biblio.bib",
   "cite_by": "apalike",
   "current_citInitial": 1,
   "eqLabelWithNumbers": true,
   "eqNumInitial": 1,
   "hotkeys": {
    "equation": "Ctrl-E",
    "itemize": "Ctrl-I"
   },
   "labels_anchors": false,
   "latex_user_defs": false,
   "report_style_numbering": false,
   "user_envs_cfg": false
  },
  "toc": {
   "base_numbering": "0",
   "nav_menu": {},
   "number_sections": true,
   "sideBar": true,
   "skip_h1_title": false,
   "title_cell": "Table of Contents",
   "title_sidebar": "Contents",
   "toc_cell": false,
   "toc_position": {},
   "toc_section_display": true,
   "toc_window_display": true
  },
  "varInspector": {
   "cols": {
    "lenName": 16,
    "lenType": 16,
    "lenVar": 40
   },
   "kernels_config": {
    "python": {
     "delete_cmd_postfix": "",
     "delete_cmd_prefix": "del ",
     "library": "var_list.py",
     "varRefreshCmd": "print(var_dic_list())"
    },
    "r": {
     "delete_cmd_postfix": ") ",
     "delete_cmd_prefix": "rm(",
     "library": "var_list.r",
     "varRefreshCmd": "cat(var_dic_list()) "
    }
   },
   "types_to_exclude": [
    "module",
    "function",
    "builtin_function_or_method",
    "instance",
    "_Feature"
   ],
   "window_display": false
  }
 },
 "nbformat": 4,
 "nbformat_minor": 2
}
