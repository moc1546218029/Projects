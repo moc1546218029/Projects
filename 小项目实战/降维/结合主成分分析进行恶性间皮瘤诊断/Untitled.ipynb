{
 "cells": [
  {
   "cell_type": "markdown",
   "metadata": {},
   "source": [
    "# 注意 "
   ]
  },
  {
   "cell_type": "markdown",
   "metadata": {},
   "source": [
    "1. np.random.permutation()"
   ]
  },
  {
   "cell_type": "markdown",
   "metadata": {},
   "source": [
    "恶性间皮瘤（MM），又被称为弥漫性恶性胸膜间皮瘤。恶性间皮瘤是原发于胸膜、侵袭性高的恶性肿瘤。恶性胸膜间皮瘤是胸膜原发肿瘤中最多见的类型。临床表现与侵袭行为有关，它通常局部侵袭胸膜腔及周围结构。如果不治疗，中位生存期4～12个月。 以下列出一些其发病的主要相关因素："
   ]
  },
  {
   "cell_type": "markdown",
   "metadata": {},
   "source": [
    "- 石棉接触；\n",
    "- 猿肾病毒40（SV40）感染；\n",
    "- 遗传倾向性的；\n",
    "- 分子机制；\n",
    "- 农村生活。"
   ]
  },
  {
   "cell_type": "markdown",
   "metadata": {},
   "source": [
    "对于诊断恶性间皮瘤，可以基于一些临床监测指标(例如：石棉接触、白细胞、血小板计数、血清乳酸脱氢酶等)作为特征，建立分类模型，然后对是否患病进行预测。由于本案例中的特征数量比较多（34个），我们会先使用主成分分析（PCA）对特征数据先进行降维处理。之后再利用决策树算法来进行模型训练，并对比降维前后的训练出的模型性能。"
   ]
  },
  {
   "cell_type": "markdown",
   "metadata": {},
   "source": [
    "# 数据源 "
   ]
  },
  {
   "cell_type": "markdown",
   "metadata": {},
   "source": [
    "我们使用UCI数据库中的\"Mesotheliomas disease data set Data Set\"数据集，包含324个样本点。每个样本包含34个特征变量，1个类别变量即（诊断结果为健康/患病），变量列表如下："
   ]
  },
  {
   "cell_type": "markdown",
   "metadata": {},
   "source": [
    "![vars.png](./img/vars.png)\n",
    "- class of diagnosis\t0:Healthy；1: Mesothelioma\tInt\t0"
   ]
  },
  {
   "cell_type": "markdown",
   "metadata": {},
   "source": [
    "# 数据探索和预处理"
   ]
  },
  {
   "cell_type": "markdown",
   "metadata": {},
   "source": [
    "首先，使用pandas中的 read_excel() 函数将数据加载到数据框中： "
   ]
  },
  {
   "cell_type": "code",
   "execution_count": 5,
   "metadata": {
    "ExecuteTime": {
     "end_time": "2019-08-26T02:36:57.348616Z",
     "start_time": "2019-08-26T02:36:57.255865Z"
    }
   },
   "outputs": [
    {
     "data": {
      "text/html": [
       "<div>\n",
       "<style scoped>\n",
       "    .dataframe tbody tr th:only-of-type {\n",
       "        vertical-align: middle;\n",
       "    }\n",
       "\n",
       "    .dataframe tbody tr th {\n",
       "        vertical-align: top;\n",
       "    }\n",
       "\n",
       "    .dataframe thead th {\n",
       "        text-align: right;\n",
       "    }\n",
       "</style>\n",
       "<table border=\"1\" class=\"dataframe\">\n",
       "  <thead>\n",
       "    <tr style=\"text-align: right;\">\n",
       "      <th></th>\n",
       "      <th>age</th>\n",
       "      <th>gender</th>\n",
       "      <th>city</th>\n",
       "      <th>asbestos exposure</th>\n",
       "      <th>type of MM</th>\n",
       "      <th>duration of asbestos exposure</th>\n",
       "      <th>diagnosis method</th>\n",
       "      <th>keep side</th>\n",
       "      <th>cytology</th>\n",
       "      <th>duration of symptoms</th>\n",
       "      <th>...</th>\n",
       "      <th>pleural lactic dehydrogenise</th>\n",
       "      <th>pleural protein</th>\n",
       "      <th>pleural albumin</th>\n",
       "      <th>pleural glucose</th>\n",
       "      <th>dead or not</th>\n",
       "      <th>pleural effusion</th>\n",
       "      <th>pleural thickness on tomography</th>\n",
       "      <th>pleural level of acidity (pH)</th>\n",
       "      <th>C-reactive protein (CRP)</th>\n",
       "      <th>class of diagnosis</th>\n",
       "    </tr>\n",
       "  </thead>\n",
       "  <tbody>\n",
       "    <tr>\n",
       "      <th>0</th>\n",
       "      <td>47</td>\n",
       "      <td>1</td>\n",
       "      <td>0</td>\n",
       "      <td>1</td>\n",
       "      <td>0</td>\n",
       "      <td>20</td>\n",
       "      <td>1</td>\n",
       "      <td>0</td>\n",
       "      <td>1</td>\n",
       "      <td>24.0</td>\n",
       "      <td>...</td>\n",
       "      <td>289</td>\n",
       "      <td>0.0</td>\n",
       "      <td>0.00</td>\n",
       "      <td>79</td>\n",
       "      <td>1</td>\n",
       "      <td>0</td>\n",
       "      <td>0</td>\n",
       "      <td>0</td>\n",
       "      <td>34</td>\n",
       "      <td>0</td>\n",
       "    </tr>\n",
       "    <tr>\n",
       "      <th>1</th>\n",
       "      <td>55</td>\n",
       "      <td>1</td>\n",
       "      <td>0</td>\n",
       "      <td>1</td>\n",
       "      <td>0</td>\n",
       "      <td>45</td>\n",
       "      <td>1</td>\n",
       "      <td>0</td>\n",
       "      <td>0</td>\n",
       "      <td>1.0</td>\n",
       "      <td>...</td>\n",
       "      <td>7541</td>\n",
       "      <td>1.6</td>\n",
       "      <td>0.80</td>\n",
       "      <td>6</td>\n",
       "      <td>1</td>\n",
       "      <td>1</td>\n",
       "      <td>1</td>\n",
       "      <td>1</td>\n",
       "      <td>42</td>\n",
       "      <td>0</td>\n",
       "    </tr>\n",
       "    <tr>\n",
       "      <th>2</th>\n",
       "      <td>29</td>\n",
       "      <td>1</td>\n",
       "      <td>1</td>\n",
       "      <td>1</td>\n",
       "      <td>0</td>\n",
       "      <td>23</td>\n",
       "      <td>0</td>\n",
       "      <td>1</td>\n",
       "      <td>0</td>\n",
       "      <td>1.0</td>\n",
       "      <td>...</td>\n",
       "      <td>480</td>\n",
       "      <td>0.0</td>\n",
       "      <td>0.00</td>\n",
       "      <td>90</td>\n",
       "      <td>1</td>\n",
       "      <td>0</td>\n",
       "      <td>0</td>\n",
       "      <td>0</td>\n",
       "      <td>43</td>\n",
       "      <td>1</td>\n",
       "    </tr>\n",
       "    <tr>\n",
       "      <th>3</th>\n",
       "      <td>39</td>\n",
       "      <td>1</td>\n",
       "      <td>0</td>\n",
       "      <td>1</td>\n",
       "      <td>0</td>\n",
       "      <td>10</td>\n",
       "      <td>1</td>\n",
       "      <td>0</td>\n",
       "      <td>0</td>\n",
       "      <td>3.0</td>\n",
       "      <td>...</td>\n",
       "      <td>459</td>\n",
       "      <td>5.0</td>\n",
       "      <td>2.80</td>\n",
       "      <td>45</td>\n",
       "      <td>1</td>\n",
       "      <td>1</td>\n",
       "      <td>0</td>\n",
       "      <td>0</td>\n",
       "      <td>21</td>\n",
       "      <td>0</td>\n",
       "    </tr>\n",
       "    <tr>\n",
       "      <th>4</th>\n",
       "      <td>47</td>\n",
       "      <td>1</td>\n",
       "      <td>0</td>\n",
       "      <td>1</td>\n",
       "      <td>0</td>\n",
       "      <td>10</td>\n",
       "      <td>1</td>\n",
       "      <td>1</td>\n",
       "      <td>1</td>\n",
       "      <td>1.5</td>\n",
       "      <td>...</td>\n",
       "      <td>213</td>\n",
       "      <td>3.6</td>\n",
       "      <td>1.95</td>\n",
       "      <td>53</td>\n",
       "      <td>1</td>\n",
       "      <td>1</td>\n",
       "      <td>0</td>\n",
       "      <td>0</td>\n",
       "      <td>11</td>\n",
       "      <td>0</td>\n",
       "    </tr>\n",
       "  </tbody>\n",
       "</table>\n",
       "<p>5 rows × 35 columns</p>\n",
       "</div>"
      ],
      "text/plain": [
       "   age  gender  city  asbestos exposure  type of MM  \\\n",
       "0   47       1     0                  1           0   \n",
       "1   55       1     0                  1           0   \n",
       "2   29       1     1                  1           0   \n",
       "3   39       1     0                  1           0   \n",
       "4   47       1     0                  1           0   \n",
       "\n",
       "   duration of asbestos exposure  diagnosis method  keep side  cytology  \\\n",
       "0                             20                 1          0         1   \n",
       "1                             45                 1          0         0   \n",
       "2                             23                 0          1         0   \n",
       "3                             10                 1          0         0   \n",
       "4                             10                 1          1         1   \n",
       "\n",
       "   duration of symptoms  ...  pleural lactic dehydrogenise  pleural protein  \\\n",
       "0                  24.0  ...                           289              0.0   \n",
       "1                   1.0  ...                          7541              1.6   \n",
       "2                   1.0  ...                           480              0.0   \n",
       "3                   3.0  ...                           459              5.0   \n",
       "4                   1.5  ...                           213              3.6   \n",
       "\n",
       "   pleural albumin  pleural glucose  dead or not  pleural effusion  \\\n",
       "0             0.00               79            1                 0   \n",
       "1             0.80                6            1                 1   \n",
       "2             0.00               90            1                 0   \n",
       "3             2.80               45            1                 1   \n",
       "4             1.95               53            1                 1   \n",
       "\n",
       "   pleural thickness on tomography  pleural level of acidity (pH)  \\\n",
       "0                                0                              0   \n",
       "1                                1                              1   \n",
       "2                                0                              0   \n",
       "3                                0                              0   \n",
       "4                                0                              0   \n",
       "\n",
       "   C-reactive protein (CRP)  class of diagnosis  \n",
       "0                        34                   0  \n",
       "1                        42                   0  \n",
       "2                        43                   1  \n",
       "3                        21                   0  \n",
       "4                        11                   0  \n",
       "\n",
       "[5 rows x 35 columns]"
      ]
     },
     "execution_count": 5,
     "metadata": {},
     "output_type": "execute_result"
    }
   ],
   "source": [
    "import numpy as np\n",
    "import pandas as pd\n",
    "df = pd.read_csv(r'./dataset.csv')\n",
    "df.head(5)"
   ]
  },
  {
   "cell_type": "code",
   "execution_count": 13,
   "metadata": {
    "ExecuteTime": {
     "end_time": "2019-08-26T02:51:24.019701Z",
     "start_time": "2019-08-26T02:51:24.010729Z"
    }
   },
   "outputs": [
    {
     "data": {
      "text/plain": [
       "(324, 35)"
      ]
     },
     "execution_count": 13,
     "metadata": {},
     "output_type": "execute_result"
    }
   ],
   "source": [
    "df.shape"
   ]
  },
  {
   "cell_type": "code",
   "execution_count": 14,
   "metadata": {
    "ExecuteTime": {
     "end_time": "2019-08-26T02:51:32.225992Z",
     "start_time": "2019-08-26T02:51:32.205047Z"
    }
   },
   "outputs": [
    {
     "name": "stdout",
     "output_type": "stream",
     "text": [
      "<class 'pandas.core.frame.DataFrame'>\n",
      "RangeIndex: 324 entries, 0 to 323\n",
      "Data columns (total 35 columns):\n",
      "age                                 324 non-null int64\n",
      "gender                              324 non-null int64\n",
      "city                                324 non-null int64\n",
      "asbestos exposure                   324 non-null int64\n",
      "type of MM                          324 non-null int64\n",
      "duration of asbestos exposure       324 non-null int64\n",
      "diagnosis method                    324 non-null int64\n",
      "keep side                           324 non-null int64\n",
      "cytology                            324 non-null int64\n",
      "duration of symptoms                324 non-null float64\n",
      "dyspnoea                            324 non-null int64\n",
      "ache on chest                       324 non-null int64\n",
      "weakness                            324 non-null int64\n",
      "habit of cigarette                  324 non-null int64\n",
      "performance status                  324 non-null int64\n",
      "white blood                         324 non-null int64\n",
      "cell count (WBC)                    324 non-null int64\n",
      "hemoglobin (HGB)                    324 non-null int64\n",
      "platelet count (PLT)                324 non-null int64\n",
      "sedimentation                       324 non-null int64\n",
      "blood lactic dehydrogenise (LDH)    324 non-null int64\n",
      "alkaline phosphatise (ALP)          324 non-null int64\n",
      "total protein                       324 non-null float64\n",
      "albumin                             324 non-null float64\n",
      "glucose                             324 non-null int64\n",
      "pleural lactic dehydrogenise        324 non-null int64\n",
      "pleural protein                     324 non-null float64\n",
      "pleural albumin                     324 non-null float64\n",
      "pleural glucose                     324 non-null int64\n",
      "dead or not                         324 non-null int64\n",
      "pleural effusion                    324 non-null int64\n",
      "pleural thickness on tomography     324 non-null int64\n",
      "pleural level of acidity (pH)       324 non-null int64\n",
      "C-reactive protein (CRP)            324 non-null int64\n",
      "class of diagnosis                  324 non-null int64\n",
      "dtypes: float64(5), int64(30)\n",
      "memory usage: 88.7 KB\n"
     ]
    }
   ],
   "source": [
    "df.info()"
   ]
  },
  {
   "cell_type": "code",
   "execution_count": 9,
   "metadata": {
    "ExecuteTime": {
     "end_time": "2019-08-26T02:43:34.257364Z",
     "start_time": "2019-08-26T02:43:34.251409Z"
    }
   },
   "outputs": [],
   "source": [
    "# 通过初步观察，发现所有的变量中不存在缺失值（missing value）。我们可以验证数据中确实没有缺失值。\n",
    "df_value_ravel = df.values.ravel()"
   ]
  },
  {
   "cell_type": "code",
   "execution_count": 12,
   "metadata": {
    "ExecuteTime": {
     "end_time": "2019-08-26T02:45:16.084119Z",
     "start_time": "2019-08-26T02:45:16.078136Z"
    }
   },
   "outputs": [
    {
     "name": "stdout",
     "output_type": "stream",
     "text": [
      "数据中的缺失值个数: 0\n"
     ]
    }
   ],
   "source": [
    "print('数据中的缺失值个数:', len(df_value_ravel[df_value_ravel == np.nan]))"
   ]
  },
  {
   "cell_type": "markdown",
   "metadata": {},
   "source": [
    "## 数据标准化 "
   ]
  },
  {
   "cell_type": "markdown",
   "metadata": {},
   "source": [
    "    主成分分析从两种变量入手：\n",
    " - ①从相同量纲的变量表格开始。由于需要将变量总方差分配给特征根，因此变量必须有相同的物理单位，方差和才有意义（方差的单位是变量单位的平方）\n",
    " - ②变量是无量纲的数据，例如标准化或对数转化后的数据。因此在构建模型之前，我们需要进行数据标准化。"
   ]
  },
  {
   "cell_type": "markdown",
   "metadata": {},
   "source": [
    "常用的标准化方法有 min-max 标准化和 z-score 标准化等。在本例中，我们直接采用 z-score 标准化方法。"
   ]
  },
  {
   "cell_type": "markdown",
   "metadata": {},
   "source": [
    "首先说明一下sklearn中preprocessing库里面的scale函数使用方法： sklearn.preprocessing.scale(X, axis=0, with_mean=True,with_std=True,copy=True) 根据参数的不同，可以沿任意轴标准化数据集。\n",
    "参数解释：\n",
    "- X：数组或者矩阵\n",
    "- axis：int类型，初始值为0，axis用来计算均值 means 和标准方差 standard deviations. 如果是0，则单独的标准化每个特征（列），如果是1，则标准化每个观测样本（行）\n",
    "- with_mean: boolean类型，默认为True，表示将数据均值规范到0\n",
    "- with_std: boolean类型，默认为True，表示将数据方差规范到1"
   ]
  },
  {
   "cell_type": "code",
   "execution_count": 15,
   "metadata": {
    "ExecuteTime": {
     "end_time": "2019-08-26T02:52:57.001547Z",
     "start_time": "2019-08-26T02:52:54.098189Z"
    }
   },
   "outputs": [],
   "source": [
    "# 采用默认参数\n",
    "from sklearn import preprocessing\n",
    "X = df.iloc[:, :-1]\n",
    "y = df['class of diagnosis']"
   ]
  },
  {
   "cell_type": "code",
   "execution_count": 17,
   "metadata": {
    "ExecuteTime": {
     "end_time": "2019-08-26T02:57:23.787107Z",
     "start_time": "2019-08-26T02:57:23.739198Z"
    }
   },
   "outputs": [],
   "source": [
    "perm = np.random.permutation(len(X)) # 生成随机序列\n",
    "X = X.loc[perm]\n",
    "y = y[perm]\n",
    "X = preprocessing.scale(X)"
   ]
  },
  {
   "cell_type": "markdown",
   "metadata": {},
   "source": [
    "# 使用 PCA 进行降维处理"
   ]
  },
  {
   "cell_type": "markdown",
   "metadata": {},
   "source": [
    "PCA就是通过寻找高维空间中，数据变化最快（方差最大）的方向，对空间的基进行变换，然后选取重要的空间基来对数据降维，以尽可能的保持数据特征的情况下对数据进行降维。"
   ]
  },
  {
   "cell_type": "markdown",
   "metadata": {},
   "source": [
    "## 函数原型及参数说明"
   ]
  },
  {
   "cell_type": "markdown",
   "metadata": {},
   "source": [
    "这里，我们使用sklearn模块中的decomposition库中的PCA算法实现主成分分析。函数原形如下： sklearn.decomposition.PCA(n_components=None, copy=True, whiten=False)"
   ]
  },
  {
   "cell_type": "markdown",
   "metadata": {},
   "source": [
    "参数说明：\n",
    "- n_components:\n",
    "    - 意义：PCA算法中所要保留的主成分个数n，也即保留下来的特征个数n\n",
    "    - 类型：int 或者 string，缺省时默认为None，所有成分被保留。 赋值为int，比如n_components=1，将把原始数据降到一个维度。 赋值为string，比如n_components='mle'，将自动选取特征个数n，使得满足所要求的方差百分比。\n",
    "- copy:\n",
    "    - 意义：表示是否在运行算法时，将原始训练数据复制一份。若为True，则运行PCA算法后，原始训练数据的值不会有任何改变，因为是在原始数据的副本上进行运算；若为False，则运行PCA算法后，原始训练数据的值会改变，因为是在原始数据上进行降维计算。\n",
    "    - 类型：bool，True或者False，缺省时默认为True。 \n",
    "- whiten:\n",
    "    - 意义：白化，使得每个特征具有相同的方差。 \n",
    "    - 类型：bool，缺省时默认为False "
   ]
  },
  {
   "cell_type": "markdown",
   "metadata": {},
   "source": [
    "## PCA对象的属性"
   ]
  },
  {
   "cell_type": "markdown",
   "metadata": {},
   "source": [
    "- components_ ：返回具有最大方差的成分。\n",
    "- explained_variance_ratio_：返回 所保留的n个主成分的方差贡献率。\n",
    "- ncomponents：返回所保留的成分个数n。"
   ]
  },
  {
   "cell_type": "markdown",
   "metadata": {},
   "source": [
    "## PCA对象的方法"
   ]
  },
  {
   "cell_type": "markdown",
   "metadata": {},
   "source": [
    "- fit(X,y=None) fit()可以说是scikit-learn中通用的方法，每个需要训练的算法都会有fit()方法，它其实就是算法中的“训练”这一步骤。因为PCA是无监督学习算法，此处y自然等于None。\n",
    "- fit(X)，表示用数据X来训练PCA模型。\n",
    "    函数返回值：调用fit方法的对象本身。比如pca.fit(X)，表示用X对pca这个对象进行训练。\n",
    "- fit_transform(X) 用X来训练PCA模型，同时返回降维后的数据。 newX=pca.fit_transform(X)，newX就是降维后的数据。\n",
    "- inverse_transform() 将降维后的数据转换成原始数据，X=pca.inverse_transform(newX)\n",
    "- transform(X) 将数据X转换成降维后的数据。当模型训练好后，对于新输入的数据，都可以用transform方法来降维。"
   ]
  },
  {
   "cell_type": "markdown",
   "metadata": {},
   "source": [
    "## PCA处理过程"
   ]
  },
  {
   "cell_type": "markdown",
   "metadata": {},
   "source": [
    "建立PCA对象，选择需要保留的维数为22"
   ]
  },
  {
   "cell_type": "code",
   "execution_count": 22,
   "metadata": {
    "ExecuteTime": {
     "end_time": "2019-08-26T03:14:45.304121Z",
     "start_time": "2019-08-26T03:14:45.283177Z"
    }
   },
   "outputs": [
    {
     "name": "stdout",
     "output_type": "stream",
     "text": [
      "所保留的n个主成分的方差贡献率为：\n",
      "[0.12553081 0.07154234 0.06331551 0.05455819 0.04755711 0.04629502\n",
      " 0.04300128 0.03680922 0.03525149 0.03303236 0.03250686 0.03247517\n",
      " 0.02996476 0.02870988 0.02767058 0.02588683 0.02505337 0.02263919\n",
      " 0.02165174 0.02126867 0.02044553 0.01958815]\n",
      "排名前3的主成分特征向量为：\n",
      "[[-0.07226296  0.04919076 -0.00729629  0.01612169  0.01787884 -0.0736354\n",
      "  -0.01715455 -0.00796956 -0.08280908 -0.00329767 -0.03747524 -0.05541792\n",
      "  -0.06134797  0.06570297  0.34735628 -0.04421487  0.05467926 -0.06011151\n",
      "  -0.20734354 -0.11755069 -0.28734282 -0.05831704  0.10016904  0.02967766\n",
      "   0.01025695 -0.1270108  -0.30164822 -0.27161576  0.3662886  -0.02511632\n",
      "  -0.32240568 -0.29888796 -0.31615277 -0.27309709]\n",
      " [-0.14549557  0.00154012  0.43650205 -0.53809498 -0.14102176 -0.51684086\n",
      "   0.09539106 -0.09988499 -0.11205484  0.03726002  0.13523726  0.07508918\n",
      "  -0.22544025  0.12328454  0.03290527  0.01368637  0.00802218  0.15038872\n",
      "   0.02987633 -0.05496272  0.12746521  0.02513513  0.07876572  0.02759405\n",
      "  -0.02883099  0.09695859  0.012005    0.01005032 -0.0271272  -0.14574855\n",
      "   0.04349126  0.01734347 -0.00912368 -0.04822   ]\n",
      " [ 0.06357028  0.01697248  0.0767809  -0.07701741  0.24276039 -0.07150813\n",
      "  -0.04196239  0.03255706  0.1383623  -0.06523308 -0.08022462  0.15233156\n",
      "   0.08111581  0.17725185 -0.12511275  0.13245672 -0.06789371 -0.02303015\n",
      "   0.15735507  0.09882898  0.16077572  0.15218917 -0.16063482 -0.23317976\n",
      "  -0.02277826  0.16122897 -0.42390191 -0.45660183 -0.08117548  0.25564839\n",
      "  -0.28205944  0.17699239  0.03198199  0.15919238]]\n",
      "累计方差贡献率为：\n",
      "0.8647540518932395\n"
     ]
    }
   ],
   "source": [
    "from sklearn.decomposition import PCA\n",
    "pca = PCA(copy=True, n_components=22, whiten=False)\n",
    "X_new = pca.fit_transform(X)\n",
    "print('所保留的n个主成分的方差贡献率为：')\n",
    "print(pca.explained_variance_ratio_)\n",
    "print('排名前3的主成分特征向量为：')\n",
    "print(pca.components_[0:3])\n",
    "print('累计方差贡献率为：')\n",
    "print(sum(pca.explained_variance_ratio_))"
   ]
  },
  {
   "cell_type": "markdown",
   "metadata": {},
   "source": [
    "可以看出，从34个特征变量缩减为22个特征变量以后，累计方差贡献率为86.48%。表明新生成的特征综合描述原数据的能力较高。"
   ]
  },
  {
   "cell_type": "markdown",
   "metadata": {},
   "source": [
    "# 模型训练"
   ]
  },
  {
   "cell_type": "markdown",
   "metadata": {},
   "source": [
    "为了检验使用PCA降维后的数据的分类表现，我们使用 sklearn 包中的 tree.DecisionTreeClassifier 类。将数据切分成80%的数据作为训练集，20%的数据作为测试集"
   ]
  },
  {
   "cell_type": "code",
   "execution_count": 23,
   "metadata": {
    "ExecuteTime": {
     "end_time": "2019-08-26T03:16:53.851857Z",
     "start_time": "2019-08-26T03:16:53.667195Z"
    }
   },
   "outputs": [],
   "source": [
    "from sklearn import tree\n",
    "from sklearn.model_selection import train_test_split\n",
    "X_train, X_test, y_train, y_test = train_test_split(X_new, y, test_size=.2,random_state=0)"
   ]
  },
  {
   "cell_type": "code",
   "execution_count": 24,
   "metadata": {
    "ExecuteTime": {
     "end_time": "2019-08-26T03:18:01.414864Z",
     "start_time": "2019-08-26T03:18:01.398905Z"
    }
   },
   "outputs": [
    {
     "name": "stdout",
     "output_type": "stream",
     "text": [
      "DecisionTreeClassifier(class_weight=None, criterion='gini', max_depth=None,\n",
      "                       max_features=None, max_leaf_nodes=None,\n",
      "                       min_impurity_decrease=0.0, min_impurity_split=None,\n",
      "                       min_samples_leaf=1, min_samples_split=2,\n",
      "                       min_weight_fraction_leaf=0.0, presort=False,\n",
      "                       random_state=None, splitter='best')\n"
     ]
    }
   ],
   "source": [
    "# 训练模型\n",
    "clf = tree.DecisionTreeClassifier()\n",
    "clf.fit(X_train,y_train)\n",
    "print(clf)"
   ]
  },
  {
   "cell_type": "markdown",
   "metadata": {},
   "source": [
    "# 模型性能评估"
   ]
  },
  {
   "cell_type": "markdown",
   "metadata": {},
   "source": [
    "### 返回的混淆矩阵[[tn, fp], [fn, tp]]"
   ]
  },
  {
   "cell_type": "markdown",
   "metadata": {},
   "source": [
    "首先，使用predict()函数得到上一节训练的支持向量机模型在测试集合上的预测结果，然后使用 sklearn.metrics中的相关函数对模型的性能进行评估。"
   ]
  },
  {
   "cell_type": "code",
   "execution_count": 32,
   "metadata": {
    "ExecuteTime": {
     "end_time": "2019-08-26T03:41:45.996459Z",
     "start_time": "2019-08-26T03:41:45.975515Z"
    },
    "scrolled": true
   },
   "outputs": [
    {
     "name": "stdout",
     "output_type": "stream",
     "text": [
      "              precision    recall  f1-score   support\n",
      "\n",
      "           0       0.80      0.86      0.83        43\n",
      "           1       0.68      0.59      0.63        22\n",
      "\n",
      "    accuracy                           0.77        65\n",
      "   macro avg       0.74      0.73      0.73        65\n",
      "weighted avg       0.76      0.77      0.76        65\n",
      "\n",
      "[[37  6]\n",
      " [ 9 13]]\n"
     ]
    }
   ],
   "source": [
    "from sklearn import metrics\n",
    "y_predict = clf.predict(X_test)\n",
    "print(metrics.classification_report(y_test, y_predict))\n",
    "print(metrics.confusion_matrix(y_test, y_predict))"
   ]
  },
  {
   "cell_type": "markdown",
   "metadata": {},
   "source": [
    "上述混淆矩阵中对角线的元素表示模型正确预测数，对角元素之和表示模型整体预测正确的样本数。"
   ]
  },
  {
   "cell_type": "code",
   "execution_count": 37,
   "metadata": {
    "ExecuteTime": {
     "end_time": "2019-08-26T03:50:21.664867Z",
     "start_time": "2019-08-26T03:50:21.656886Z"
    }
   },
   "outputs": [
    {
     "name": "stdout",
     "output_type": "stream",
     "text": [
      "Accuracy: 0.7692307692307693\n"
     ]
    }
   ],
   "source": [
    "# 通过这个来计算模型在测试集中的预测正确率。\n",
    "print(\"Accuracy:\", metrics.accuracy_score(y_test, y_predict))"
   ]
  },
  {
   "cell_type": "markdown",
   "metadata": {},
   "source": [
    "结论：训练得到的模型在原始集的20%的测试样本中，预测的正确率（Accuaray）为87.69%。"
   ]
  },
  {
   "cell_type": "markdown",
   "metadata": {},
   "source": [
    "# 使用降维前后数据训练出的模型的性能对比"
   ]
  },
  {
   "cell_type": "markdown",
   "metadata": {},
   "source": [
    "为了检验使用降维之后的数据训练出的模型与使用降维之前的数据训练出的模型相比，仍然能够保持较高的性能，对没有经过降维处理的数据进行模型训练，代码如下："
   ]
  },
  {
   "cell_type": "code",
   "execution_count": 38,
   "metadata": {
    "ExecuteTime": {
     "end_time": "2019-08-26T03:51:54.891977Z",
     "start_time": "2019-08-26T03:51:54.869038Z"
    }
   },
   "outputs": [
    {
     "name": "stdout",
     "output_type": "stream",
     "text": [
      "              precision    recall  f1-score   support\n",
      "\n",
      "           0       1.00      1.00      1.00        43\n",
      "           1       1.00      1.00      1.00        22\n",
      "\n",
      "    accuracy                           1.00        65\n",
      "   macro avg       1.00      1.00      1.00        65\n",
      "weighted avg       1.00      1.00      1.00        65\n",
      "\n",
      "[[43  0]\n",
      " [ 0 22]]\n"
     ]
    }
   ],
   "source": [
    "X_train, X_test, y_train, y_test = train_test_split(X, y, test_size=.2,random_state=0)\n",
    "clf2 = tree.DecisionTreeClassifier()\n",
    "clf2.fit(X_train,y_train)\n",
    "y_predict = clf2.predict(X_test)\n",
    "print(metrics.classification_report(y_test, y_predict))\n",
    "print(metrics.confusion_matrix(y_test,y_predict))"
   ]
  },
  {
   "cell_type": "markdown",
   "metadata": {},
   "source": [
    "上述混淆矩阵中对角线的元素表示模型正确预测数，对角元素之和表示模型整体预测正确的样本数。 现在，让我们来通过这个来计算模型在测试集中的预测正确率"
   ]
  },
  {
   "cell_type": "code",
   "execution_count": 39,
   "metadata": {
    "ExecuteTime": {
     "end_time": "2019-08-26T03:52:30.819934Z",
     "start_time": "2019-08-26T03:52:30.812952Z"
    }
   },
   "outputs": [
    {
     "name": "stdout",
     "output_type": "stream",
     "text": [
      "Accuracy: 1.0\n"
     ]
    }
   ],
   "source": [
    "print(\"Accuracy:\", metrics.accuracy_score(y_test, y_predict))"
   ]
  },
  {
   "cell_type": "markdown",
   "metadata": {},
   "source": [
    "可见，训练得到的模型在原始集的20%的测试样本中，预测的正确率（Accuaray）为100%。\n",
    "\n",
    "经过对比，降维后的precision为0.89，比降维前小0.11；降维后的recall为0.88，比降维前小0.12；降维后的f1-score为0.88，比降维前小0.12；降维后的正确率为0.88比降维前低0.12。可以得知，使用降维之后的数据训练出的模型与使用降维之前的数据训练出的模型相比，仍然能够保持较高的性能。"
   ]
  },
  {
   "cell_type": "code",
   "execution_count": null,
   "metadata": {},
   "outputs": [],
   "source": []
  },
  {
   "cell_type": "code",
   "execution_count": null,
   "metadata": {},
   "outputs": [],
   "source": []
  },
  {
   "cell_type": "code",
   "execution_count": null,
   "metadata": {},
   "outputs": [],
   "source": []
  },
  {
   "cell_type": "code",
   "execution_count": null,
   "metadata": {},
   "outputs": [],
   "source": []
  },
  {
   "cell_type": "code",
   "execution_count": null,
   "metadata": {},
   "outputs": [],
   "source": []
  },
  {
   "cell_type": "code",
   "execution_count": null,
   "metadata": {},
   "outputs": [],
   "source": []
  }
 ],
 "metadata": {
  "kernelspec": {
   "display_name": "Python 3",
   "language": "python",
   "name": "python3"
  },
  "language_info": {
   "codemirror_mode": {
    "name": "ipython",
    "version": 3
   },
   "file_extension": ".py",
   "mimetype": "text/x-python",
   "name": "python",
   "nbconvert_exporter": "python",
   "pygments_lexer": "ipython3",
   "version": "3.7.3"
  },
  "latex_envs": {
   "LaTeX_envs_menu_present": true,
   "autoclose": false,
   "autocomplete": true,
   "bibliofile": "biblio.bib",
   "cite_by": "apalike",
   "current_citInitial": 1,
   "eqLabelWithNumbers": true,
   "eqNumInitial": 1,
   "hotkeys": {
    "equation": "Ctrl-E",
    "itemize": "Ctrl-I"
   },
   "labels_anchors": false,
   "latex_user_defs": false,
   "report_style_numbering": false,
   "user_envs_cfg": false
  },
  "toc": {
   "base_numbering": "0",
   "nav_menu": {},
   "number_sections": true,
   "sideBar": true,
   "skip_h1_title": false,
   "title_cell": "Table of Contents",
   "title_sidebar": "Contents",
   "toc_cell": false,
   "toc_position": {},
   "toc_section_display": true,
   "toc_window_display": true
  },
  "varInspector": {
   "cols": {
    "lenName": 16,
    "lenType": 16,
    "lenVar": 40
   },
   "kernels_config": {
    "python": {
     "delete_cmd_postfix": "",
     "delete_cmd_prefix": "del ",
     "library": "var_list.py",
     "varRefreshCmd": "print(var_dic_list())"
    },
    "r": {
     "delete_cmd_postfix": ") ",
     "delete_cmd_prefix": "rm(",
     "library": "var_list.r",
     "varRefreshCmd": "cat(var_dic_list()) "
    }
   },
   "types_to_exclude": [
    "module",
    "function",
    "builtin_function_or_method",
    "instance",
    "_Feature"
   ],
   "window_display": false
  }
 },
 "nbformat": 4,
 "nbformat_minor": 2
}
