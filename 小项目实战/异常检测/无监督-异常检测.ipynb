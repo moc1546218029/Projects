{
 "cells": [
  {
   "cell_type": "code",
   "execution_count": 1,
   "metadata": {
    "ExecuteTime": {
     "end_time": "2019-08-26T15:38:59.648312Z",
     "start_time": "2019-08-26T15:38:54.937763Z"
    }
   },
   "outputs": [],
   "source": [
    "import pandas as pd\n",
    "import numpy as np\n",
    "import matplotlib.pyplot as plt\n",
    "import seaborn as sns\n",
    "import warnings\n",
    "warnings.filterwarnings(\"ignore\")"
   ]
  },
  {
   "cell_type": "code",
   "execution_count": 2,
   "metadata": {
    "ExecuteTime": {
     "end_time": "2019-08-26T15:38:59.668203Z",
     "start_time": "2019-08-26T15:38:59.656229Z"
    }
   },
   "outputs": [],
   "source": [
    "import os\n",
    "os.chdir(r'C:/Data')"
   ]
  },
  {
   "cell_type": "code",
   "execution_count": 3,
   "metadata": {
    "ExecuteTime": {
     "end_time": "2019-08-26T15:39:05.042315Z",
     "start_time": "2019-08-26T15:38:59.678182Z"
    }
   },
   "outputs": [],
   "source": [
    "dataset = pd.read_csv('ycdata.csv')"
   ]
  },
  {
   "cell_type": "code",
   "execution_count": 4,
   "metadata": {
    "ExecuteTime": {
     "end_time": "2019-08-26T15:39:05.064275Z",
     "start_time": "2019-08-26T15:39:05.048299Z"
    }
   },
   "outputs": [
    {
     "data": {
      "text/plain": [
       "(284807, 31)"
      ]
     },
     "execution_count": 4,
     "metadata": {},
     "output_type": "execute_result"
    }
   ],
   "source": [
    "dataset.shape"
   ]
  },
  {
   "cell_type": "code",
   "execution_count": 5,
   "metadata": {
    "ExecuteTime": {
     "end_time": "2019-08-26T15:39:05.400296Z",
     "start_time": "2019-08-26T15:39:05.071238Z"
    },
    "scrolled": true
   },
   "outputs": [
    {
     "name": "stdout",
     "output_type": "stream",
     "text": [
      "<class 'pandas.core.frame.DataFrame'>\n",
      "RangeIndex: 284807 entries, 0 to 284806\n",
      "Data columns (total 31 columns):\n",
      "Time      284807 non-null float64\n",
      "V1        284807 non-null float64\n",
      "V2        284807 non-null float64\n",
      "V3        284807 non-null float64\n",
      "V4        284807 non-null float64\n",
      "V5        284807 non-null float64\n",
      "V6        284807 non-null float64\n",
      "V7        284807 non-null float64\n",
      "V8        284807 non-null float64\n",
      "V9        284807 non-null float64\n",
      "V10       284807 non-null float64\n",
      "V11       284807 non-null float64\n",
      "V12       284807 non-null float64\n",
      "V13       284807 non-null float64\n",
      "V14       284807 non-null float64\n",
      "V15       284807 non-null float64\n",
      "V16       284807 non-null float64\n",
      "V17       284807 non-null float64\n",
      "V18       284807 non-null float64\n",
      "V19       284807 non-null float64\n",
      "V20       284807 non-null float64\n",
      "V21       284807 non-null float64\n",
      "V22       284807 non-null float64\n",
      "V23       284807 non-null float64\n",
      "V24       284807 non-null float64\n",
      "V25       284807 non-null float64\n",
      "V26       284807 non-null float64\n",
      "V27       284807 non-null float64\n",
      "V28       284807 non-null float64\n",
      "Amount    284807 non-null float64\n",
      "Class     284807 non-null int64\n",
      "dtypes: float64(30), int64(1)\n",
      "memory usage: 67.4 MB\n"
     ]
    }
   ],
   "source": [
    "dataset.info()"
   ]
  },
  {
   "cell_type": "code",
   "execution_count": 6,
   "metadata": {
    "ExecuteTime": {
     "end_time": "2019-08-26T15:39:06.750719Z",
     "start_time": "2019-08-26T15:39:05.407279Z"
    }
   },
   "outputs": [
    {
     "data": {
      "image/png": "[encoded data removed]",
      "text/plain": [
       "<Figure size 360x360 with 1 Axes>"
      ]
     },
     "metadata": {
      "needs_background": "light"
     },
     "output_type": "display_data"
    },
    {
     "data": {
      "image/png": "[encoded data removed]",
      "text/plain": [
       "<Figure size 360x360 with 1 Axes>"
      ]
     },
     "metadata": {
      "needs_background": "light"
     },
     "output_type": "display_data"
    }
   ],
   "source": [
    "'''连续单变量密度分布图'''\n",
    "col = ['Amount', 'Time']\n",
    "for i in col:\n",
    "    plt.figure(figsize=(5, 5))\n",
    "    sns.distplot(dataset[i].dropna())\n",
    "    plt.show()"
   ]
  },
  {
   "cell_type": "code",
   "execution_count": 7,
   "metadata": {
    "ExecuteTime": {
     "end_time": "2019-08-26T15:39:06.844110Z",
     "start_time": "2019-08-26T15:39:06.762773Z"
    }
   },
   "outputs": [],
   "source": [
    "'''对数转换'''\n",
    "dataset['Amount'] = np.log(dataset['Amount'] + 1)\n",
    "dataset['Time'] = np.log(dataset['Time'] + 1)"
   ]
  },
  {
   "cell_type": "code",
   "execution_count": 8,
   "metadata": {
    "ExecuteTime": {
     "end_time": "2019-08-26T15:39:06.946010Z",
     "start_time": "2019-08-26T15:39:06.852994Z"
    }
   },
   "outputs": [],
   "source": [
    "'''切分数据集'''\n",
    "normal = dataset[dataset['Class'] == 0]\n",
    "anomaly = dataset[dataset['Class'] == 1]"
   ]
  },
  {
   "cell_type": "code",
   "execution_count": 9,
   "metadata": {
    "ExecuteTime": {
     "end_time": "2019-08-26T15:39:06.962964Z",
     "start_time": "2019-08-26T15:39:06.952016Z"
    }
   },
   "outputs": [
    {
     "data": {
      "text/plain": [
       "(284315, 492)"
      ]
     },
     "execution_count": 9,
     "metadata": {},
     "output_type": "execute_result"
    }
   ],
   "source": [
    "len(normal),len(anomaly)"
   ]
  },
  {
   "cell_type": "code",
   "execution_count": 10,
   "metadata": {
    "ExecuteTime": {
     "end_time": "2019-08-26T15:39:09.227816Z",
     "start_time": "2019-08-26T15:39:06.969409Z"
    }
   },
   "outputs": [],
   "source": [
    "from sklearn.model_selection import train_test_split as sp\n",
    "train, test = sp(normal, test_size=0.2)\n",
    "normal_valid, normal_test = sp(test, test_size=0.5)\n",
    "anormal_valid, anormal_test = sp(anomaly, test_size=0.5)"
   ]
  },
  {
   "cell_type": "code",
   "execution_count": 11,
   "metadata": {
    "ExecuteTime": {
     "end_time": "2019-08-26T15:39:09.247404Z",
     "start_time": "2019-08-26T15:39:09.233624Z"
    }
   },
   "outputs": [
    {
     "name": "stdout",
     "output_type": "stream",
     "text": [
      "normal_train_data有: 227452\n",
      "normal_test_data有: 56863\n"
     ]
    }
   ],
   "source": [
    "print ('normal_train_data有:', len(train)) \n",
    "print ('normal_test_data有:', len(test))"
   ]
  },
  {
   "cell_type": "code",
   "execution_count": 12,
   "metadata": {
    "ExecuteTime": {
     "end_time": "2019-08-26T15:39:09.269398Z",
     "start_time": "2019-08-26T15:39:09.256380Z"
    }
   },
   "outputs": [
    {
     "name": "stdout",
     "output_type": "stream",
     "text": [
      "normal_valid有: 28431\n",
      "normal_test有: 28432\n"
     ]
    }
   ],
   "source": [
    "print ('normal_valid有:', len(normal_valid)) \n",
    "print ('normal_test有:', len(normal_test))"
   ]
  },
  {
   "cell_type": "code",
   "execution_count": 13,
   "metadata": {
    "ExecuteTime": {
     "end_time": "2019-08-26T15:39:09.290289Z",
     "start_time": "2019-08-26T15:39:09.276327Z"
    }
   },
   "outputs": [
    {
     "name": "stdout",
     "output_type": "stream",
     "text": [
      "anormal_valid有: 246\n",
      "anormal_test有: 246\n"
     ]
    }
   ],
   "source": [
    "print ('anormal_valid有:', len(anormal_valid)) \n",
    "print ('anormal_test有:', len(anormal_test))"
   ]
  },
  {
   "cell_type": "code",
   "execution_count": 14,
   "metadata": {
    "ExecuteTime": {
     "end_time": "2019-08-26T15:39:09.362375Z",
     "start_time": "2019-08-26T15:39:09.297339Z"
    }
   },
   "outputs": [],
   "source": [
    "train = train.reset_index(drop=True)"
   ]
  },
  {
   "cell_type": "code",
   "execution_count": 15,
   "metadata": {
    "ExecuteTime": {
     "end_time": "2019-08-26T15:39:09.394080Z",
     "start_time": "2019-08-26T15:39:09.369148Z"
    }
   },
   "outputs": [],
   "source": [
    "valid=pd.concat([normal_valid, anormal_valid])  \n",
    "valid = valid.reset_index(drop=True)"
   ]
  },
  {
   "cell_type": "code",
   "execution_count": 16,
   "metadata": {
    "ExecuteTime": {
     "end_time": "2019-08-26T15:39:09.430983Z",
     "start_time": "2019-08-26T15:39:09.400065Z"
    }
   },
   "outputs": [],
   "source": [
    "test=pd.concat([normal_test, anormal_test])  \n",
    "test = test.reset_index(drop=True)"
   ]
  },
  {
   "cell_type": "markdown",
   "metadata": {},
   "source": [
    "# 基于高斯分布的异常值检测"
   ]
  },
  {
   "cell_type": "code",
   "execution_count": 17,
   "metadata": {
    "ExecuteTime": {
     "end_time": "2019-08-26T15:39:09.772922Z",
     "start_time": "2019-08-26T15:39:09.437964Z"
    }
   },
   "outputs": [
    {
     "name": "stdout",
     "output_type": "stream",
     "text": [
      "-32.70869578464661\n",
      "-752.994570311123\n"
     ]
    }
   ],
   "source": [
    "'''计算协方差矩阵和均值'''\n",
    "from scipy.stats import multivariate_normal\n",
    "mu = train.drop('Class', axis=1).mean(axis=0).values  \n",
    "sigma = train.drop('Class', axis=1).cov().values\n",
    "model = multivariate_normal(cov=sigma, mean=mu, allow_singular=True)  #多元正态分布，指定协方差、均值，允许奇异协方差矩阵\n",
    "\n",
    "print(np.median(model.logpdf(valid[valid['Class'] == 0].drop('Class', axis=1).values)))  #logpdf：概率密度函数对数\n",
    "print(np.median(model.logpdf(valid[valid['Class'] == 1].drop('Class', axis=1).values))) \n"
   ]
  },
  {
   "cell_type": "code",
   "execution_count": 18,
   "metadata": {
    "ExecuteTime": {
     "end_time": "2019-08-26T15:39:22.458907Z",
     "start_time": "2019-08-26T15:39:09.779953Z"
    }
   },
   "outputs": [
    {
     "name": "stdout",
     "output_type": "stream",
     "text": [
      "0.7772435897435898 105\n"
     ]
    }
   ],
   "source": [
    "'''计算不同阈值下的recall_score、precision_score和fbeta_score'''\n",
    "from sklearn.metrics import recall_score, precision_score, fbeta_score\n",
    "tresholds = np.linspace(-1000, -10, 150)  \n",
    "scores = []\n",
    "for treshold in tresholds:\n",
    "    y_valid_lable = (model.logpdf(valid.drop('Class', axis=1)) < treshold).astype(int)\n",
    "    scores.append([recall_score(valid['Class'], y_valid_lable),        #召回率分数\n",
    "                 precision_score(valid['Class'], y_valid_lable),       #命中率分数\n",
    "                 fbeta_score(valid['Class'], y_valid_lable, beta=2)])  #精度和召回的加权调和平均值\n",
    "scores = np.array(scores)\n",
    "print(scores[:, 2].max(), scores[:, 2].argmax()) "
   ]
  },
  {
   "cell_type": "code",
   "execution_count": 19,
   "metadata": {
    "ExecuteTime": {
     "end_time": "2019-08-26T15:39:23.533327Z",
     "start_time": "2019-08-26T15:39:22.466281Z"
    }
   },
   "outputs": [
    {
     "data": {
      "image/png": "[encoded data removed]",
      "text/plain": [
       "<Figure size 432x288 with 1 Axes>"
      ]
     },
     "metadata": {
      "needs_background": "light"
     },
     "output_type": "display_data"
    }
   ],
   "source": [
    "'''可视化不同阈值下的recall_score、precision_score和fbeta_score'''\n",
    "plt.plot(tresholds, scores[:, 0], label='$Recall$')\n",
    "plt.plot(tresholds, scores[:, 1], label='$Precision$')\n",
    "plt.plot(tresholds, scores[:, 2], label='$F_2$')\n",
    "plt.ylabel('Score')\n",
    "plt.xlabel('Threshold')\n",
    "plt.legend(loc='best')\n",
    "plt.show()"
   ]
  },
  {
   "cell_type": "code",
   "execution_count": 20,
   "metadata": {
    "ExecuteTime": {
     "end_time": "2019-08-26T15:39:23.637579Z",
     "start_time": "2019-08-26T15:39:23.540308Z"
    }
   },
   "outputs": [
    {
     "name": "stdout",
     "output_type": "stream",
     "text": [
      "最终阈值是: -302\n",
      "测试集召回率分数是: 0.760\n",
      "测试集命中率率分数是: 0.760\n",
      "测试集F2分数是: 0.760\n"
     ]
    }
   ],
   "source": [
    "'''计算测试集评价标准'''\n",
    "final_tresh = tresholds[scores[:, 2].argmax()]\n",
    "y_test_label = (model.logpdf(test.drop('Class', axis=1).values) < final_tresh).astype(int)\n",
    "\n",
    "print('最终阈值是: %d' % final_tresh)\n",
    "print('测试集召回率分数是: %.3f' % recall_score(test['Class'], y_test_label))\n",
    "print('测试集命中率率分数是: %.3f' % precision_score(test['Class'], y_test_label))\n",
    "print('测试集F2分数是: %.3f' % fbeta_score(test['Class'], y_test_label, beta=2))"
   ]
  },
  {
   "cell_type": "code",
   "execution_count": 21,
   "metadata": {
    "ExecuteTime": {
     "end_time": "2019-08-26T15:39:24.096315Z",
     "start_time": "2019-08-26T15:39:23.644560Z"
    }
   },
   "outputs": [
    {
     "data": {
      "image/png": "[encoded data removed]",
      "text/plain": [
       "<Figure size 432x288 with 2 Axes>"
      ]
     },
     "metadata": {
      "needs_background": "light"
     },
     "output_type": "display_data"
    }
   ],
   "source": [
    "'''混淆矩阵可视化'''\n",
    "import itertools\n",
    "from sklearn.metrics import confusion_matrix\n",
    "def plot_confusion_matrix(cm, classes,title='混淆矩阵',cmap=plt.cm.Blues):\n",
    "    #plt.figure(figsize = (5, 5))  \n",
    "    plt.imshow(cm, interpolation='nearest', cmap=cmap)\n",
    "    plt.title(title)\n",
    "    plt.colorbar()\n",
    "    tick_marks = np.arange(len(classes))\n",
    "    plt.xticks(tick_marks, classes, rotation=0)\n",
    "    plt.yticks(tick_marks, classes)\n",
    "    thresh = cm.max() / 2.\n",
    "    for i, j in itertools.product(range(cm.shape[0]), range(cm.shape[1])):\n",
    "        plt.text(j, i, cm[i, j],\n",
    "                 horizontalalignment=\"center\",\n",
    "                 color=\"white\" if cm[i, j] > thresh else \"black\")\n",
    "    plt.tight_layout()\n",
    "    plt.ylabel('实际')\n",
    "    plt.xlabel('预测')    \n",
    "cnf_matrix = confusion_matrix(test['Class'], y_test_label)     \n",
    "class_names = [0,1]\n",
    "plot_confusion_matrix(cnf_matrix, classes=class_names)"
   ]
  },
  {
   "cell_type": "markdown",
   "metadata": {},
   "source": [
    "# 基于混合高斯模型的异常值检测"
   ]
  },
  {
   "cell_type": "code",
   "execution_count": 22,
   "metadata": {
    "ExecuteTime": {
     "end_time": "2019-08-26T15:41:04.468159Z",
     "start_time": "2019-08-26T15:39:24.108239Z"
    }
   },
   "outputs": [
    {
     "name": "stdout",
     "output_type": "stream",
     "text": [
      "6.4760723526343575\n",
      "-126038.2185114365\n"
     ]
    }
   ],
   "source": [
    "'''混合高斯模型'''\n",
    "from sklearn.mixture import GaussianMixture\n",
    "\n",
    "gmm = GaussianMixture(n_components=3, n_init=4, random_state=1) \n",
    "gmm.fit(train.drop('Class', axis=1).values)\n",
    "print(gmm.score(valid[valid['Class'] == 0].drop('Class', axis=1).values)) \n",
    "print(gmm.score(valid[valid['Class'] == 1].drop('Class', axis=1).values))"
   ]
  },
  {
   "cell_type": "code",
   "execution_count": null,
   "metadata": {
    "ExecuteTime": {
     "start_time": "2019-08-26T15:38:55.169Z"
    }
   },
   "outputs": [
    {
     "name": "stdout",
     "output_type": "stream",
     "text": [
      "0.8048780487804879 998\n"
     ]
    }
   ],
   "source": [
    "'''计算不同阈值下的recall_score、precision_score和fbeta_score'''\n",
    "tresholds = np.linspace(-140000, 20, 1000)\n",
    "scores = []\n",
    "y_pred_score = gmm.score_samples(valid.drop('Class', axis=1).values)\n",
    "for treshold in tresholds:\n",
    "    y_valid_lable = (y_pred_score < treshold).astype(int)\n",
    "    scores.append([recall_score(valid['Class'], y_valid_lable),        #召回率分数\n",
    "                 precision_score(valid['Class'], y_valid_lable),       #命中率分数\n",
    "                 fbeta_score(valid['Class'], y_valid_lable, beta=2)]) \n",
    "scores = np.array(scores)\n",
    "print(scores[:, 2].max(), scores[:, 2].argmax())"
   ]
  },
  {
   "cell_type": "code",
   "execution_count": null,
   "metadata": {
    "ExecuteTime": {
     "start_time": "2019-08-26T15:38:55.174Z"
    }
   },
   "outputs": [
    {
     "data": {
      "image/png": "[encoded data removed]",
      "text/plain": [
       "<Figure size 432x288 with 1 Axes>"
      ]
     },
     "metadata": {
      "needs_background": "light"
     },
     "output_type": "display_data"
    }
   ],
   "source": [
    "'''可视化不同阈值下的recall_score、precision_score和fbeta_score'''\n",
    "plt.plot(tresholds, scores[:, 0], label='$Recall$')\n",
    "plt.plot(tresholds, scores[:, 1], label='$Precision$')\n",
    "plt.plot(tresholds, scores[:, 2], label='$F_2$')\n",
    "plt.ylabel('Score')\n",
    "plt.xlabel('Threshold')\n",
    "plt.legend(loc='best')\n",
    "plt.show()"
   ]
  },
  {
   "cell_type": "code",
   "execution_count": null,
   "metadata": {
    "ExecuteTime": {
     "start_time": "2019-08-26T15:38:55.179Z"
    }
   },
   "outputs": [
    {
     "name": "stdout",
     "output_type": "stream",
     "text": [
      "最终阈值是: -120\n",
      "测试集召回率分数是: 0.789\n",
      "测试集命中率率分数是: 0.822\n",
      "测试集F2分数是: 0.795\n"
     ]
    }
   ],
   "source": [
    "'''计算测试集评价标准'''\n",
    "final_tresh = tresholds[scores[:, 2].argmax()]\n",
    "y_test_label = (gmm.score_samples(\n",
    "    test.drop('Class', axis=1).values) < final_tresh).astype(int)\n",
    "\n",
    "print('最终阈值是: %d' % final_tresh)\n",
    "print('测试集召回率分数是: %.3f' % recall_score(test['Class'], y_test_label))\n",
    "print('测试集命中率率分数是: %.3f' % precision_score(test['Class'], y_test_label))\n",
    "print('测试集F2分数是: %.3f' % fbeta_score(test['Class'], y_test_label, beta=2))"
   ]
  },
  {
   "cell_type": "code",
   "execution_count": null,
   "metadata": {
    "ExecuteTime": {
     "start_time": "2019-08-26T15:38:55.183Z"
    }
   },
   "outputs": [
    {
     "data": {
      "image/png": "[encoded data removed]",
      "text/plain": [
       "<Figure size 432x288 with 2 Axes>"
      ]
     },
     "metadata": {
      "needs_background": "light"
     },
     "output_type": "display_data"
    }
   ],
   "source": [
    "cnf_matrix = confusion_matrix(test['Class'].values, y_test_label)\n",
    "plot_confusion_matrix(cnf_matrix, classes=class_names)"
   ]
  },
  {
   "cell_type": "markdown",
   "metadata": {},
   "source": [
    "# 基于孤立森林的异常值检测"
   ]
  },
  {
   "cell_type": "code",
   "execution_count": null,
   "metadata": {
    "ExecuteTime": {
     "start_time": "2019-08-26T15:38:55.226Z"
    }
   },
   "outputs": [
    {
     "name": "stdout",
     "output_type": "stream",
     "text": [
      "0.1448690113155185\n",
      "-0.05593973989731047\n"
     ]
    }
   ],
   "source": [
    "'''孤立森林模型'''\n",
    "from sklearn.ensemble import IsolationForest\n",
    "\n",
    "model = IsolationForest(n_estimators=50, bootstrap=True, max_samples=train.shape[0], n_jobs=4, random_state=1)\n",
    "model.fit(train.drop('Class', axis=1).values)\n",
    "print(model.decision_function(valid[valid['Class'] == 0].drop('Class', axis=1).values).mean())\n",
    "print(model.decision_function(valid[valid['Class'] == 1].drop('Class', axis=1).values).mean())"
   ]
  },
  {
   "cell_type": "code",
   "execution_count": null,
   "metadata": {
    "ExecuteTime": {
     "start_time": "2019-08-26T15:38:55.230Z"
    }
   },
   "outputs": [
    {
     "name": "stdout",
     "output_type": "stream",
     "text": [
      "0.6777856635911994 123\n"
     ]
    }
   ],
   "source": [
    "'''计算不同阈值下的recall_score、precision_score和fbeta_score'''\n",
    "tresholds = np.linspace(-0.2, 0.2, 200)\n",
    "scores = []\n",
    "y_pred_score = model.decision_function(valid.drop('Class', axis=1).values)\n",
    "for treshold in tresholds:\n",
    "    y_valid_lable = (y_pred_score < treshold).astype(int)\n",
    "    scores.append([recall_score(valid['Class'], y_valid_lable),  # 召回率分数\n",
    "                   precision_score(valid['Class'], y_valid_lable),  # 命中率分数\n",
    "                   fbeta_score(valid['Class'], y_valid_lable, beta=2)])\n",
    "scores = np.array(scores)\n",
    "print(scores[:, 2].max(), scores[:, 2].argmax())  # fbeta最大为0.68，索引是124"
   ]
  },
  {
   "cell_type": "code",
   "execution_count": null,
   "metadata": {
    "ExecuteTime": {
     "start_time": "2019-08-26T15:38:55.234Z"
    }
   },
   "outputs": [
    {
     "data": {
      "image/png": "[encoded data removed]",
      "text/plain": [
       "<Figure size 432x288 with 1 Axes>"
      ]
     },
     "metadata": {
      "needs_background": "light"
     },
     "output_type": "display_data"
    }
   ],
   "source": [
    "'''可视化不同阈值下的recall_score、precision_score和fbeta_score'''\n",
    "plt.plot(tresholds, scores[:, 0], label='$Recall$')\n",
    "plt.plot(tresholds, scores[:, 1], label='$Precision$')\n",
    "plt.plot(tresholds, scores[:, 2], label='$F_2$')\n",
    "plt.ylabel('Score')\n",
    "plt.xlabel('Threshold')\n",
    "plt.legend(loc='best')\n",
    "plt.show()"
   ]
  },
  {
   "cell_type": "code",
   "execution_count": null,
   "metadata": {
    "ExecuteTime": {
     "start_time": "2019-08-26T15:38:55.238Z"
    }
   },
   "outputs": [
    {
     "name": "stdout",
     "output_type": "stream",
     "text": [
      "最终阈值是: 0\n",
      "测试集召回率分数是: 0.760\n",
      "测试集命中率率分数是: 0.448\n",
      "测试集F2分数是: 0.667\n"
     ]
    },
    {
     "data": {
      "image/png": "[encoded data removed]",
      "text/plain": [
       "<Figure size 432x288 with 2 Axes>"
      ]
     },
     "metadata": {
      "needs_background": "light"
     },
     "output_type": "display_data"
    }
   ],
   "source": [
    "'''计算测试集评价标准'''\n",
    "final_tresh = tresholds[scores[:, 2].argmax()]\n",
    "y_test_label = (model.decision_function(\n",
    "    test.drop('Class', axis=1).values) < final_tresh).astype(int)\n",
    "\n",
    "print('最终阈值是: %d' % final_tresh)\n",
    "print('测试集召回率分数是: %.3f' % recall_score(test['Class'], y_test_label))\n",
    "print('测试集命中率率分数是: %.3f' % precision_score(test['Class'], y_test_label))\n",
    "print('测试集F2分数是: %.3f' % fbeta_score(test['Class'], y_test_label, beta=2))\n",
    "\n",
    "cnf_matrix = confusion_matrix(test['Class'].values, y_test_label)\n",
    "plot_confusion_matrix(cnf_matrix, classes=class_names)"
   ]
  },
  {
   "cell_type": "markdown",
   "metadata": {},
   "source": [
    "# 基于直方图的异常值检测"
   ]
  },
  {
   "cell_type": "code",
   "execution_count": null,
   "metadata": {
    "ExecuteTime": {
     "start_time": "2019-08-26T15:38:55.287Z"
    }
   },
   "outputs": [
    {
     "name": "stdout",
     "output_type": "stream",
     "text": [
      "64610.333333333336\n",
      "33032.433333333334\n"
     ]
    }
   ],
   "source": [
    "'''直方图探索：摆脱了高斯分布的限制，但是没有捕捉到变量之间的关系'''\n",
    "\n",
    "\n",
    "class hist_model(object):\n",
    "    def __init__(self, bins=50):\n",
    "        self.bins = bins\n",
    "\n",
    "    def fit(self, X):\n",
    "        bin_hight, bin_edge = [], []\n",
    "        for var in X.T:\n",
    "            bh, bedge = np.histogram(var, bins=self.bins)\n",
    "            bin_hight.append(bh)\n",
    "            bin_edge.append(bedge)\n",
    "        self.bin_hight = np.array(bin_hight)\n",
    "        self.bin_edge = np.array(bin_edge)\n",
    "\n",
    "    def predict(self, X):\n",
    "        scores = []\n",
    "        for obs in X:\n",
    "            obs_score = []\n",
    "            for i, var in enumerate(obs):\n",
    "                bin_num = (var > self.bin_edge[i]).argmin()-1\n",
    "                obs_score.append(self.bin_hight[i, bin_num])\n",
    "            scores.append(np.mean(obs_score))\n",
    "        return np.array(scores)\n",
    "\n",
    "\n",
    "model = hist_model()\n",
    "# 为每个特征建立直方图，将bin的高度合并为分数，如果分数很低，说明异常\n",
    "model.fit(train.drop('Class', axis=1).values)\n",
    "print(np.median(model.predict(\n",
    "    valid[valid['Class'] == 0].drop('Class', axis=1).values)))\n",
    "print(np.median(model.predict(\n",
    "    valid[valid['Class'] == 1].drop('Class', axis=1).values)))"
   ]
  },
  {
   "cell_type": "code",
   "execution_count": null,
   "metadata": {
    "ExecuteTime": {
     "start_time": "2019-08-26T15:38:55.293Z"
    }
   },
   "outputs": [
    {
     "name": "stdout",
     "output_type": "stream",
     "text": [
      "0.3428571428571428 37\n"
     ]
    }
   ],
   "source": [
    "'''计算不同阈值下的recall_score、precision_score和fbeta_score'''\n",
    "tresholds = np.linspace(10000, 80000, 100)\n",
    "scores = []\n",
    "y_pred_score = model.predict(valid.drop('Class', axis=1).values)\n",
    "for treshold in tresholds:\n",
    "    y_valid_lable = (y_pred_score < treshold).astype(int)\n",
    "    scores.append([recall_score(valid['Class'], y_valid_lable),  # 召回率分数\n",
    "                   precision_score(valid['Class'], y_valid_lable),  # 命中率分数\n",
    "                   fbeta_score(valid['Class'], y_valid_lable, beta=2)])\n",
    "scores = np.array(scores)\n",
    "print(scores[:, 2].max(), scores[:, 2].argmax())  # fbeta最大为0.42，索引是42"
   ]
  },
  {
   "cell_type": "code",
   "execution_count": null,
   "metadata": {
    "ExecuteTime": {
     "start_time": "2019-08-26T15:38:55.299Z"
    }
   },
   "outputs": [
    {
     "data": {
      "image/png": "[encoded data removed]",
      "text/plain": [
       "<Figure size 432x288 with 1 Axes>"
      ]
     },
     "metadata": {
      "needs_background": "light"
     },
     "output_type": "display_data"
    }
   ],
   "source": [
    "'''可视化不同阈值下的recall_score、precision_score和fbeta_score'''\n",
    "plt.plot(tresholds, scores[:, 0], label='$Recall$')\n",
    "plt.plot(tresholds, scores[:, 1], label='$Precision$')\n",
    "plt.plot(tresholds, scores[:, 2], label='$F_2$')\n",
    "plt.ylabel('Score')\n",
    "plt.xlabel('Threshold')\n",
    "plt.legend(loc='best')\n",
    "plt.show()"
   ]
  },
  {
   "cell_type": "code",
   "execution_count": null,
   "metadata": {
    "ExecuteTime": {
     "start_time": "2019-08-26T15:38:55.304Z"
    }
   },
   "outputs": [],
   "source": [
    "'''计算测试集评价标准'''\n",
    "final_tresh = tresholds[scores[:, 2].argmax()]\n",
    "y_test_label = (model.predict(test.drop('Class', axis=1).values)\n",
    "                < final_tresh).astype(int)"
   ]
  },
  {
   "cell_type": "code",
   "execution_count": null,
   "metadata": {
    "ExecuteTime": {
     "start_time": "2019-08-26T15:38:55.308Z"
    }
   },
   "outputs": [
    {
     "name": "stdout",
     "output_type": "stream",
     "text": [
      "最终阈值是: 36161\n",
      "测试集召回率分数是: 0.602\n",
      "测试集命中率率分数是: 0.134\n",
      "测试集F2分数是: 0.354\n"
     ]
    }
   ],
   "source": [
    "print('最终阈值是: %d' % final_tresh)\n",
    "print('测试集召回率分数是: %.3f' % recall_score(test['Class'], y_test_label))\n",
    "print('测试集命中率率分数是: %.3f' % precision_score(test['Class'], y_test_label))\n",
    "print('测试集F2分数是: %.3f' % fbeta_score(test['Class'], y_test_label, beta=2))"
   ]
  },
  {
   "cell_type": "code",
   "execution_count": null,
   "metadata": {
    "ExecuteTime": {
     "start_time": "2019-08-26T15:38:55.313Z"
    }
   },
   "outputs": [
    {
     "data": {
      "image/png": "[encoded data removed]",
      "text/plain": [
       "<Figure size 432x288 with 2 Axes>"
      ]
     },
     "metadata": {
      "needs_background": "light"
     },
     "output_type": "display_data"
    }
   ],
   "source": [
    "cnf_matrix = confusion_matrix(test['Class'].values, y_test_label)\n",
    "plot_confusion_matrix(cnf_matrix, classes=class_names)"
   ]
  },
  {
   "cell_type": "markdown",
   "metadata": {},
   "source": [
    "# 基于SVM的异常值检测"
   ]
  },
  {
   "cell_type": "code",
   "execution_count": null,
   "metadata": {
    "ExecuteTime": {
     "start_time": "2019-08-26T15:38:55.370Z"
    }
   },
   "outputs": [],
   "source": [
    "'''一类svm，用于异常值检测'''\n",
    "from sklearn.svm import OneClassSVM\n",
    "\n",
    "model = OneClassSVM()\n",
    "model.fit(train.drop('Class', axis=1).values)\n",
    "print(model.decision_function(\n",
    "    valid[valid['Class'] == 0].drop('Class', axis=1).values).mean())\n",
    "print(model.decision_function(\n",
    "    valid[valid['Class'] == 1].drop('Class', axis=1).values).mean())"
   ]
  },
  {
   "cell_type": "code",
   "execution_count": null,
   "metadata": {
    "ExecuteTime": {
     "start_time": "2019-08-26T15:38:55.375Z"
    }
   },
   "outputs": [],
   "source": [
    "'''计算不同阈值下的recall_score、precision_score和fbeta_score'''\n",
    "tresholds = np.linspace(-50000, -400, 500)\n",
    "scores = []\n",
    "y_pred_score = model.decision_function(valid.drop('Class', axis=1).values)\n",
    "for treshold in tresholds:\n",
    "    y_valid_lable = (y_pred_score < treshold).astype(int)\n",
    "    scores.append([recall_score(valid['Class'], y_valid_lable),        #召回率分数\n",
    "                 precision_score(valid['Class'], y_valid_lable),       #命中率分数\n",
    "                 fbeta_score(valid['Class'], y_valid_lable, beta=2)]) \n",
    "scores = np.array(scores)\n",
    "print(scores[:, 2].max(), scores[:, 2].argmax())  #fbeta最大为0.81，索引是68\n"
   ]
  },
  {
   "cell_type": "code",
   "execution_count": null,
   "metadata": {
    "ExecuteTime": {
     "start_time": "2019-08-26T15:38:55.383Z"
    }
   },
   "outputs": [],
   "source": [
    "'''可视化不同阈值下的recall_score、precision_score和fbeta_score'''\n",
    "plt.plot(tresholds, scores[:, 0], label='$Recall$')\n",
    "plt.plot(tresholds, scores[:, 1], label='$Precision$')\n",
    "plt.plot(tresholds, scores[:, 2], label='$F_2$')\n",
    "plt.ylabel('Score')\n",
    "plt.xlabel('Threshold')\n",
    "plt.legend(loc='best')\n",
    "plt.show()"
   ]
  },
  {
   "cell_type": "code",
   "execution_count": null,
   "metadata": {
    "ExecuteTime": {
     "start_time": "2019-08-26T15:38:55.388Z"
    }
   },
   "outputs": [],
   "source": [
    "'''计算测试集评价标准'''\n",
    "final_tresh = tresholds[scores[:, 2].argmax()]\n",
    "y_test_label = (model.decision_function(test.drop('Class', axis=1).values) < final_tresh).astype(int)"
   ]
  },
  {
   "cell_type": "code",
   "execution_count": null,
   "metadata": {
    "ExecuteTime": {
     "start_time": "2019-08-26T15:38:55.393Z"
    }
   },
   "outputs": [],
   "source": [
    "print('最终阈值是: %d' % final_tresh)\n",
    "print('测试集召回率分数是: %.3f' % recall_score(test['Class'], y_test_label))\n",
    "print('测试集命中率率分数是: %.3f' % precision_score(test['Class'], y_test_label))\n",
    "print('测试集F2分数是: %.3f' % fbeta_score(test['Class'], y_test_label, beta=2))"
   ]
  },
  {
   "cell_type": "code",
   "execution_count": null,
   "metadata": {
    "ExecuteTime": {
     "start_time": "2019-08-26T15:38:55.398Z"
    }
   },
   "outputs": [],
   "source": [
    "cnf_matrix = confusion_matrix(test['Class'].values, y_test_label)\n",
    "plot_confusion_matrix(cnf_matrix, classes=class_names)\n"
   ]
  },
  {
   "cell_type": "code",
   "execution_count": null,
   "metadata": {},
   "outputs": [],
   "source": []
  }
 ],
 "metadata": {
  "kernelspec": {
   "display_name": "Python 3",
   "language": "python",
   "name": "python3"
  },
  "language_info": {
   "codemirror_mode": {
    "name": "ipython",
    "version": 3
   },
   "file_extension": ".py",
   "mimetype": "text/x-python",
   "name": "python",
   "nbconvert_exporter": "python",
   "pygments_lexer": "ipython3",
   "version": "3.7.0"
  },
  "latex_envs": {
   "LaTeX_envs_menu_present": true,
   "autoclose": false,
   "autocomplete": true,
   "bibliofile": "biblio.bib",
   "cite_by": "apalike",
   "current_citInitial": 1,
   "eqLabelWithNumbers": true,
   "eqNumInitial": 1,
   "hotkeys": {
    "equation": "Ctrl-E",
    "itemize": "Ctrl-I"
   },
   "labels_anchors": false,
   "latex_user_defs": false,
   "report_style_numbering": false,
   "user_envs_cfg": false
  },
  "toc": {
   "base_numbering": 1,
   "nav_menu": {},
   "number_sections": true,
   "sideBar": true,
   "skip_h1_title": false,
   "title_cell": "Table of Contents",
   "title_sidebar": "Contents",
   "toc_cell": false,
   "toc_position": {},
   "toc_section_display": true,
   "toc_window_display": true
  },
  "varInspector": {
   "cols": {
    "lenName": 16,
    "lenType": 16,
    "lenVar": 40
   },
   "kernels_config": {
    "python": {
     "delete_cmd_postfix": "",
     "delete_cmd_prefix": "del ",
     "library": "var_list.py",
     "varRefreshCmd": "print(var_dic_list())"
    },
    "r": {
     "delete_cmd_postfix": ") ",
     "delete_cmd_prefix": "rm(",
     "library": "var_list.r",
     "varRefreshCmd": "cat(var_dic_list()) "
    }
   },
   "types_to_exclude": [
    "module",
    "function",
    "builtin_function_or_method",
    "instance",
    "_Feature"
   ],
   "window_display": false
  }
 },
 "nbformat": 4,
 "nbformat_minor": 2
}
