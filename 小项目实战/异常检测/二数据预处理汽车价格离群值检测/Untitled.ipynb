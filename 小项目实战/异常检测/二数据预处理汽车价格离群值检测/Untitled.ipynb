{
 "cells": [
  {
   "cell_type": "markdown",
   "metadata": {},
   "source": [
    "#  注意\n",
    "    1. onehot编码方式\n",
    "    2. list + map + lambda + zip\n",
    "    3. 二维数据多个label颜色可视化写法\n",
    "    4. 线性回归做标准化前后异常值没有什么变化(没有被处理掉)"
   ]
  },
  {
   "cell_type": "markdown",
   "metadata": {},
   "source": [
    "# Vast 汽车价格离群值检测 "
   ]
  },
  {
   "cell_type": "markdown",
   "metadata": {},
   "source": [
    "异常值检测方法：有哪些比较好的做异常值检测的方法？ - 阿里云云栖社区的回答 - 知乎\n",
    "https://www.zhihu.com/question/38066650/answer/549125707"
   ]
  },
  {
   "cell_type": "markdown",
   "metadata": {},
   "source": [
    "离群点（Outliers），简单而言就是离其余数据点非常远的数据点。它们会极大的影响后续的分析结果，甚至产生有误导的分析结果。"
   ]
  },
  {
   "cell_type": "markdown",
   "metadata": {},
   "source": [
    "Vast向3个行业的出版商、市场和搜索引擎提供数据，这三个行业包括汽车、房地产和休闲、住宿和旅游。Vast的系统通过白标签集成，并在一些非常受欢迎的消费应用程序（Southwest GetAway Finder，AOL Travel，Yahoo! Travel，Car and Driver等等）中提供搜索结果、产品建议和特别优惠。"
   ]
  },
  {
   "cell_type": "markdown",
   "metadata": {},
   "source": [
    "Vast的汽车数据是由成千上万的二手汽车卖家提供，并且向市场公布。由于这些数据是由用户手工录入，因此容易受到人为失误的影响，比如用户在错误的字段中提交值，或者无意中发生错误或胖手指值。 对于8岁的车辆，里程表读数为100,000英里。 直觉告诉我们，100,000美元是大多数小型车的不寻常的价格。 一个上市的42000美元是合理的，比如2013年的凯迪拉克ATS豪华版，而对另一个（例如1997年的别克莱斯布雷）来说，这可能是意料之外的。"
   ]
  },
  {
   "cell_type": "markdown",
   "metadata": {},
   "source": [
    "![2013cadillac](./img/2013cadillac.png)"
   ]
  },
  {
   "cell_type": "markdown",
   "metadata": {},
   "source": [
    "![1997buick](./img/1997buick.png)"
   ]
  },
  {
   "cell_type": "markdown",
   "metadata": {},
   "source": [
    "检测离群值有利于纠正错误，向用户提供卓越和合适的产品。"
   ]
  },
  {
   "cell_type": "markdown",
   "metadata": {},
   "source": [
    "# 数据集描述"
   ]
  },
  {
   "cell_type": "markdown",
   "metadata": {},
   "source": [
    "![vars](./img/vars.png)"
   ]
  },
  {
   "cell_type": "markdown",
   "metadata": {},
   "source": [
    "# 导入数据集并切分"
   ]
  },
  {
   "cell_type": "code",
   "execution_count": 93,
   "metadata": {
    "ExecuteTime": {
     "end_time": "2019-08-23T06:58:25.138271Z",
     "start_time": "2019-08-23T06:58:25.124311Z"
    }
   },
   "outputs": [],
   "source": [
    "import pandas as pd # 读取数据表并进行基于DataFrame结构的操作\n",
    "import numpy as np\n",
    "import seaborn as sns\n",
    "from matplotlib import pyplot as plt\n",
    "from sklearn import preprocessing\n",
    "from sklearn.feature_extraction import DictVectorizer\n",
    "from sklearn.linear_model import LinearRegression\n",
    "%matplotlib inline\n",
    "\n",
    "import warnings\n",
    "warnings.filterwarnings('ignore') # 不显示warning信息\n",
    "pd.options.display.width = 900 # Dataframe 显示宽度设置"
   ]
  },
  {
   "cell_type": "code",
   "execution_count": 94,
   "metadata": {
    "ExecuteTime": {
     "end_time": "2019-08-23T06:58:39.896116Z",
     "start_time": "2019-08-23T06:58:39.890135Z"
    }
   },
   "outputs": [],
   "source": [
    "import os\n",
    "os.chdir(r'C:\\Users\\heng.wang\\AI\\代码整理终版\\beida\\数据预处理\\二数据预处理汽车价格离群值检测\\dataset')"
   ]
  },
  {
   "cell_type": "markdown",
   "metadata": {},
   "source": [
    "    画图配色方案\n",
    "    绿色 #5dbe80\n",
    "    蓝色 #2d9ed8\n",
    "    紫色 #a290c4\n",
    "    橙色 #efab40\n",
    "    红色 #EE5150"
   ]
  },
  {
   "cell_type": "code",
   "execution_count": 95,
   "metadata": {
    "ExecuteTime": {
     "end_time": "2019-08-23T06:58:44.089934Z",
     "start_time": "2019-08-23T06:58:44.060977Z"
    }
   },
   "outputs": [
    {
     "name": "stdout",
     "output_type": "stream",
     "text": [
      "The shape is (417, 6)\n"
     ]
    },
    {
     "data": {
      "text/html": [
       "<div>\n",
       "<style scoped>\n",
       "    .dataframe tbody tr th:only-of-type {\n",
       "        vertical-align: middle;\n",
       "    }\n",
       "\n",
       "    .dataframe tbody tr th {\n",
       "        vertical-align: top;\n",
       "    }\n",
       "\n",
       "    .dataframe thead th {\n",
       "        text-align: right;\n",
       "    }\n",
       "</style>\n",
       "<table border=\"1\" class=\"dataframe\">\n",
       "  <thead>\n",
       "    <tr style=\"text-align: right;\">\n",
       "      <th></th>\n",
       "      <th>price</th>\n",
       "      <th>mileage</th>\n",
       "      <th>year</th>\n",
       "      <th>trim</th>\n",
       "      <th>engine</th>\n",
       "      <th>transmission</th>\n",
       "    </tr>\n",
       "  </thead>\n",
       "  <tbody>\n",
       "    <tr>\n",
       "      <th>0</th>\n",
       "      <td>14995</td>\n",
       "      <td>67697</td>\n",
       "      <td>2006</td>\n",
       "      <td>ex</td>\n",
       "      <td>4 Cyl</td>\n",
       "      <td>Manual</td>\n",
       "    </tr>\n",
       "    <tr>\n",
       "      <th>1</th>\n",
       "      <td>11988</td>\n",
       "      <td>73738</td>\n",
       "      <td>2006</td>\n",
       "      <td>ex</td>\n",
       "      <td>4 Cyl</td>\n",
       "      <td>Manual</td>\n",
       "    </tr>\n",
       "    <tr>\n",
       "      <th>2</th>\n",
       "      <td>11999</td>\n",
       "      <td>80313</td>\n",
       "      <td>2006</td>\n",
       "      <td>lx</td>\n",
       "      <td>4 Cyl</td>\n",
       "      <td>Automatic</td>\n",
       "    </tr>\n",
       "    <tr>\n",
       "      <th>3</th>\n",
       "      <td>12995</td>\n",
       "      <td>86096</td>\n",
       "      <td>2006</td>\n",
       "      <td>lx</td>\n",
       "      <td>4 Cyl</td>\n",
       "      <td>Automatic</td>\n",
       "    </tr>\n",
       "    <tr>\n",
       "      <th>4</th>\n",
       "      <td>11333</td>\n",
       "      <td>79607</td>\n",
       "      <td>2006</td>\n",
       "      <td>lx</td>\n",
       "      <td>4 Cyl</td>\n",
       "      <td>Automatic</td>\n",
       "    </tr>\n",
       "    <tr>\n",
       "      <th>5</th>\n",
       "      <td>10067</td>\n",
       "      <td>96966</td>\n",
       "      <td>2006</td>\n",
       "      <td>lx</td>\n",
       "      <td>4 Cyl</td>\n",
       "      <td>Automatic</td>\n",
       "    </tr>\n",
       "    <tr>\n",
       "      <th>6</th>\n",
       "      <td>8999</td>\n",
       "      <td>126150</td>\n",
       "      <td>2006</td>\n",
       "      <td>lx</td>\n",
       "      <td>4 Cyl</td>\n",
       "      <td>Automatic</td>\n",
       "    </tr>\n",
       "  </tbody>\n",
       "</table>\n",
       "</div>"
      ],
      "text/plain": [
       "   price  mileage  year trim engine transmission\n",
       "0  14995    67697  2006   ex  4 Cyl       Manual\n",
       "1  11988    73738  2006   ex  4 Cyl       Manual\n",
       "2  11999    80313  2006   lx  4 Cyl    Automatic\n",
       "3  12995    86096  2006   lx  4 Cyl    Automatic\n",
       "4  11333    79607  2006   lx  4 Cyl    Automatic\n",
       "5  10067    96966  2006   lx  4 Cyl    Automatic\n",
       "6   8999   126150  2006   lx  4 Cyl    Automatic"
      ]
     },
     "execution_count": 95,
     "metadata": {},
     "output_type": "execute_result"
    }
   ],
   "source": [
    "train = pd.read_csv('accord_sedan_training.csv')\n",
    "print('The shape is', train.shape)\n",
    "train.head(7)"
   ]
  },
  {
   "cell_type": "code",
   "execution_count": 96,
   "metadata": {
    "ExecuteTime": {
     "end_time": "2019-08-23T06:59:15.697437Z",
     "start_time": "2019-08-23T06:59:15.687453Z"
    }
   },
   "outputs": [],
   "source": [
    "# 将 train 划分为 x 和 y\n",
    "train_x = train.drop('price', 1)\n",
    "train_y = train['price']"
   ]
  },
  {
   "cell_type": "markdown",
   "metadata": {},
   "source": [
    "# 特征提取并构建线性回归模型 "
   ]
  },
  {
   "cell_type": "markdown",
   "metadata": {},
   "source": [
    "使用sklearn.feature_extraction中的DictVectorizer将名义型变量实现One-Hot编码，得到一个10维向量空间，包括：\n"
   ]
  },
  {
   "cell_type": "markdown",
   "metadata": {},
   "source": [
    "    engine=4 Cyl\n",
    "    engine=6 Cyl\n",
    "    mileage\n",
    "    price\n",
    "    transmission=Automatic\n",
    "    transmission=Manual\n",
    "    trim=ex\n",
    "    trim=exl\n",
    "    trim=lx\n",
    "    year\n",
    "\n",
    "注意：在异常值检测时需要利用到  price  特征。"
   ]
  },
  {
   "cell_type": "markdown",
   "metadata": {},
   "source": [
    "## one-hot编码方法之一：使用DictVectorizer实现"
   ]
  },
  {
   "cell_type": "code",
   "execution_count": 97,
   "metadata": {
    "ExecuteTime": {
     "end_time": "2019-08-23T07:10:35.553633Z",
     "start_time": "2019-08-23T07:10:35.474841Z"
    }
   },
   "outputs": [
    {
     "name": "stdout",
     "output_type": "stream",
     "text": [
      "Dimension is 10\n"
     ]
    },
    {
     "data": {
      "text/plain": [
       "['engine=4 Cyl',\n",
       " 'engine=6 Cyl',\n",
       " 'mileage',\n",
       " 'price',\n",
       " 'transmission=Automatic',\n",
       " 'transmission=Manual',\n",
       " 'trim=ex',\n",
       " 'trim=exl',\n",
       " 'trim=lx',\n",
       " 'year']"
      ]
     },
     "execution_count": 97,
     "metadata": {},
     "output_type": "execute_result"
    }
   ],
   "source": [
    "# One-Hot编码方法一：使用`DictVectorizer`实现\n",
    "dv = DictVectorizer()\n",
    "dv.fit(train.T.to_dict().values())  # one-hot 编码\n",
    "print('Dimension is', len(dv.feature_names_))\n",
    "dv.feature_names_"
   ]
  },
  {
   "cell_type": "code",
   "execution_count": 104,
   "metadata": {
    "ExecuteTime": {
     "end_time": "2019-08-23T07:19:48.154589Z",
     "start_time": "2019-08-23T07:19:48.075801Z"
    }
   },
   "outputs": [
    {
     "data": {
      "text/plain": [
       "<417x10 sparse matrix of type '<class 'numpy.float64'>'\n",
       "\twith 2085 stored elements in Compressed Sparse Row format>"
      ]
     },
     "execution_count": 104,
     "metadata": {},
     "output_type": "execute_result"
    }
   ],
   "source": [
    "train_x_array = dv.transform(train_x.T.to_dict().values())\n",
    "train_x_array"
   ]
  },
  {
   "cell_type": "markdown",
   "metadata": {},
   "source": [
    "## one-hot编码方法之二：使用get_dummies实现"
   ]
  },
  {
   "cell_type": "code",
   "execution_count": 105,
   "metadata": {
    "ExecuteTime": {
     "end_time": "2019-08-23T07:20:46.875298Z",
     "start_time": "2019-08-23T07:20:46.828421Z"
    }
   },
   "outputs": [
    {
     "data": {
      "text/html": [
       "<div>\n",
       "<style scoped>\n",
       "    .dataframe tbody tr th:only-of-type {\n",
       "        vertical-align: middle;\n",
       "    }\n",
       "\n",
       "    .dataframe tbody tr th {\n",
       "        vertical-align: top;\n",
       "    }\n",
       "\n",
       "    .dataframe thead th {\n",
       "        text-align: right;\n",
       "    }\n",
       "</style>\n",
       "<table border=\"1\" class=\"dataframe\">\n",
       "  <thead>\n",
       "    <tr style=\"text-align: right;\">\n",
       "      <th></th>\n",
       "      <th>mileage</th>\n",
       "      <th>year</th>\n",
       "      <th>engine_4 Cyl</th>\n",
       "      <th>engine_6 Cyl</th>\n",
       "      <th>trim_ex</th>\n",
       "      <th>trim_exl</th>\n",
       "      <th>trim_lx</th>\n",
       "      <th>transmission_Automatic</th>\n",
       "      <th>transmission_Manual</th>\n",
       "    </tr>\n",
       "  </thead>\n",
       "  <tbody>\n",
       "    <tr>\n",
       "      <th>0</th>\n",
       "      <td>67697</td>\n",
       "      <td>2006</td>\n",
       "      <td>1</td>\n",
       "      <td>0</td>\n",
       "      <td>1</td>\n",
       "      <td>0</td>\n",
       "      <td>0</td>\n",
       "      <td>0</td>\n",
       "      <td>1</td>\n",
       "    </tr>\n",
       "    <tr>\n",
       "      <th>1</th>\n",
       "      <td>73738</td>\n",
       "      <td>2006</td>\n",
       "      <td>1</td>\n",
       "      <td>0</td>\n",
       "      <td>1</td>\n",
       "      <td>0</td>\n",
       "      <td>0</td>\n",
       "      <td>0</td>\n",
       "      <td>1</td>\n",
       "    </tr>\n",
       "    <tr>\n",
       "      <th>2</th>\n",
       "      <td>80313</td>\n",
       "      <td>2006</td>\n",
       "      <td>1</td>\n",
       "      <td>0</td>\n",
       "      <td>0</td>\n",
       "      <td>0</td>\n",
       "      <td>1</td>\n",
       "      <td>1</td>\n",
       "      <td>0</td>\n",
       "    </tr>\n",
       "    <tr>\n",
       "      <th>3</th>\n",
       "      <td>86096</td>\n",
       "      <td>2006</td>\n",
       "      <td>1</td>\n",
       "      <td>0</td>\n",
       "      <td>0</td>\n",
       "      <td>0</td>\n",
       "      <td>1</td>\n",
       "      <td>1</td>\n",
       "      <td>0</td>\n",
       "    </tr>\n",
       "    <tr>\n",
       "      <th>4</th>\n",
       "      <td>79607</td>\n",
       "      <td>2006</td>\n",
       "      <td>1</td>\n",
       "      <td>0</td>\n",
       "      <td>0</td>\n",
       "      <td>0</td>\n",
       "      <td>1</td>\n",
       "      <td>1</td>\n",
       "      <td>0</td>\n",
       "    </tr>\n",
       "  </tbody>\n",
       "</table>\n",
       "</div>"
      ],
      "text/plain": [
       "   mileage  year  engine_4 Cyl  engine_6 Cyl  trim_ex  trim_exl  trim_lx  transmission_Automatic  transmission_Manual\n",
       "0    67697  2006             1             0        1         0        0                       0                    1\n",
       "1    73738  2006             1             0        1         0        0                       0                    1\n",
       "2    80313  2006             1             0        0         0        1                       1                    0\n",
       "3    86096  2006             1             0        0         0        1                       1                    0\n",
       "4    79607  2006             1             0        0         0        1                       1                    0"
      ]
     },
     "execution_count": 105,
     "metadata": {},
     "output_type": "execute_result"
    }
   ],
   "source": [
    "# One-Hot编码方法二：使用`pandas`的`get_dummies`函数实现\n",
    "nomial_var = ['engine', 'trim', 'transmission']\n",
    "multi_dummies = []  # 存储三个 DataFrame\n",
    "train_x_dummies = train_x[['mileage', 'year']]\n",
    "for col in nomial_var:\n",
    "    dummies = pd.get_dummies(train_x[col], prefix=col)    # prefix是自定义前缀\n",
    "    train_x_dummies = pd.concat(\n",
    "        [train_x_dummies, dummies], axis=1)  # 将编码结果与非编码特征水平拼接起来\n",
    "train_x_dummies.head()"
   ]
  },
  {
   "cell_type": "code",
   "execution_count": 106,
   "metadata": {
    "ExecuteTime": {
     "end_time": "2019-08-23T07:20:53.911393Z",
     "start_time": "2019-08-23T07:20:53.847564Z"
    }
   },
   "outputs": [],
   "source": [
    "# 构建线性回归模型\n",
    "train_x_array = dv.transform(train_x.T.to_dict().values())\n",
    "# train_x_array = train_x_dummies.values # 也可以使用get_dummies得到的结果"
   ]
  },
  {
   "cell_type": "code",
   "execution_count": 107,
   "metadata": {
    "ExecuteTime": {
     "end_time": "2019-08-23T07:21:16.844232Z",
     "start_time": "2019-08-23T07:21:16.829270Z"
    }
   },
   "outputs": [],
   "source": [
    "LR = LinearRegression().fit(train_x_array, train_y)\n"
   ]
  },
  {
   "cell_type": "code",
   "execution_count": 108,
   "metadata": {
    "ExecuteTime": {
     "end_time": "2019-08-23T07:34:56.546042Z",
     "start_time": "2019-08-23T07:34:56.536069Z"
    }
   },
   "outputs": [
    {
     "data": {
      "text/plain": [
       "['16561.07']"
      ]
     },
     "execution_count": 108,
     "metadata": {},
     "output_type": "execute_result"
    }
   ],
   "source": [
    "[format(LR.intercept_, '0.2f')] "
   ]
  },
  {
   "cell_type": "code",
   "execution_count": 109,
   "metadata": {
    "ExecuteTime": {
     "end_time": "2019-08-23T07:34:57.426701Z",
     "start_time": "2019-08-23T07:34:57.412741Z"
    }
   },
   "outputs": [
    {
     "data": {
      "text/plain": [
       "['16561.07',\n",
       " '(-337.20 engine=4 Cyl)',\n",
       " '(337.20 engine=6 Cyl)',\n",
       " '(-0.05 mileage)',\n",
       " '(0.00 price)',\n",
       " '(420.68 transmission=Automatic)',\n",
       " '(-420.68 transmission=Manual)',\n",
       " '(208.93 trim=ex)',\n",
       " '(674.60 trim=exl)',\n",
       " '(-883.53 trim=lx)',\n",
       " '(-0.00 year)']"
      ]
     },
     "execution_count": 109,
     "metadata": {},
     "output_type": "execute_result"
    }
   ],
   "source": [
    "[format(LR.intercept_, '0.2f')]  + list(map(lambda f,c: \"(%0.2f %s)\" % (c, f), \n",
    "               dv.feature_names_, LR.coef_))"
   ]
  },
  {
   "cell_type": "code",
   "execution_count": 110,
   "metadata": {
    "ExecuteTime": {
     "end_time": "2019-08-23T07:34:58.240537Z",
     "start_time": "2019-08-23T07:34:58.224582Z"
    }
   },
   "outputs": [
    {
     "data": {
      "text/plain": [
       "'16561.07 + (-337.20 engine=4 Cyl) + (337.20 engine=6 Cyl) + (-0.05 mileage) + (0.00 price) + (420.68 transmission=Automatic) + (-420.68 transmission=Manual) + (208.93 trim=ex) + (674.60 trim=exl) + (-883.53 trim=lx) + (-0.00 year)'"
      ]
     },
     "execution_count": 110,
     "metadata": {},
     "output_type": "execute_result"
    }
   ],
   "source": [
    "' + '.join([format(LR.intercept_, '0.2f')] \n",
    "           + list(map(lambda f,c: \"(%0.2f %s)\" % (c, f), \n",
    "               dv.feature_names_, LR.coef_)))"
   ]
  },
  {
   "cell_type": "code",
   "execution_count": 111,
   "metadata": {
    "ExecuteTime": {
     "end_time": "2019-08-23T07:34:58.933696Z",
     "start_time": "2019-08-23T07:34:58.926714Z"
    }
   },
   "outputs": [],
   "source": [
    "#[format(156.288, '0.2f')] + list(map(lambda x, y: '(%d %d)' % (x, y),[1, 3, 5, 7, 9], [2, 4, 6, 8, 10]))"
   ]
  },
  {
   "cell_type": "code",
   "execution_count": 112,
   "metadata": {
    "ExecuteTime": {
     "end_time": "2019-08-23T07:34:59.774461Z",
     "start_time": "2019-08-23T07:34:59.768476Z"
    }
   },
   "outputs": [],
   "source": [
    "#'+'.join([format(156.288, '0.2f')] + list(map(lambda x, y: '(%d %d)' % (x, y),[1, 3, 5, 7, 9], [2, 4, 6, 8, 10])))"
   ]
  },
  {
   "cell_type": "markdown",
   "metadata": {},
   "source": [
    "# 离群值检测 "
   ]
  },
  {
   "cell_type": "markdown",
   "metadata": {
    "ExecuteTime": {
     "end_time": "2019-08-22T02:47:31.041618Z",
     "start_time": "2019-08-22T02:47:31.035410Z"
    }
   },
   "source": [
    "由测试集拟合得到的模型，我们可以预测测试集中的价格，计算每个样本的绝对误差，并得出"
   ]
  },
  {
   "cell_type": "code",
   "execution_count": 113,
   "metadata": {
    "ExecuteTime": {
     "end_time": "2019-08-23T07:35:15.275458Z",
     "start_time": "2019-08-23T07:35:15.204644Z"
    }
   },
   "outputs": [
    {
     "data": {
      "text/plain": [
       "array([1391.71708207, 2200.19426727, 2626.93763764, 3857.46054118])"
      ]
     },
     "execution_count": 113,
     "metadata": {},
     "output_type": "execute_result"
    }
   ],
   "source": [
    "pred_y = LR.predict(dv.transform(train.T.to_dict().values()))\n",
    "train_error = abs(pred_y - train_y)  # 计算绝对误差\n",
    "np.percentile(train_error, [75, 90, 95, 99])  # 计算绝对误差数据的百分位数"
   ]
  },
  {
   "cell_type": "markdown",
   "metadata": {},
   "source": [
    "画出 train_error 的盒图来观察离群值"
   ]
  },
  {
   "cell_type": "code",
   "execution_count": 114,
   "metadata": {
    "ExecuteTime": {
     "end_time": "2019-08-23T07:35:19.668036Z",
     "start_time": "2019-08-23T07:35:19.430637Z"
    },
    "scrolled": true
   },
   "outputs": [
    {
     "data": {
      "text/plain": [
       "<matplotlib.axes._subplots.AxesSubplot at 0x1708c076400>"
      ]
     },
     "execution_count": 114,
     "metadata": {},
     "output_type": "execute_result"
    },
    {
     "data": {
      "image/png": "[encoded data removed]",
      "text/plain": [
       "<Figure size 432x288 with 1 Axes>"
      ]
     },
     "metadata": {
      "needs_background": "light"
     },
     "output_type": "display_data"
    }
   ],
   "source": [
    "sns.boxplot(x = train_error,palette = \"Set2\")"
   ]
  },
  {
   "cell_type": "markdown",
   "metadata": {},
   "source": [
    "可以看到测试集中存在部分离群值"
   ]
  },
  {
   "cell_type": "markdown",
   "metadata": {},
   "source": [
    "在本案例中，我们设定置信水平为0.95，即认为超过95%百分位数的train_error为离群值。下面我们在二维空间中画出正常值（蓝色）与离群值（红色）："
   ]
  },
  {
   "cell_type": "code",
   "execution_count": 115,
   "metadata": {
    "ExecuteTime": {
     "end_time": "2019-08-23T07:36:53.667809Z",
     "start_time": "2019-08-23T07:36:53.656837Z"
    }
   },
   "outputs": [],
   "source": [
    "outlierIndex = train_error >= np.percentile(train_error, 95)\n",
    "inlierIndex = train_error < np.percentile(train_error, 95)\n",
    "\n",
    "# 得到train_error最大的index值，即极端离群值\n",
    "most_severe = train_error[outlierIndex].idxmax()"
   ]
  },
  {
   "cell_type": "code",
   "execution_count": 130,
   "metadata": {
    "ExecuteTime": {
     "end_time": "2019-08-23T07:56:58.734485Z",
     "start_time": "2019-08-23T07:56:58.394358Z"
    }
   },
   "outputs": [
    {
     "data": {
      "image/png": "[encoded data removed]",
      "text/plain": [
       "<Figure size 504x504 with 1 Axes>"
      ]
     },
     "metadata": {},
     "output_type": "display_data"
    }
   ],
   "source": [
    "fig = plt.figure(figsize=(7, 7))\n",
    "indexes = [inlierIndex, outlierIndex, most_severe]\n",
    "color = ['#2d9ed8', '#EE5150', '#a290c4']\n",
    "label = ['normal points', 'outliers', 'extreme outliers']\n",
    "for i, c, l in zip(indexes, color, label):\n",
    "    plt.scatter(train['mileage'][i],\n",
    "                train_y[i],\n",
    "                c=c,\n",
    "                marker='^',\n",
    "                label=l)\n",
    "plt.legend(loc='upper right',\n",
    "           frameon=True,\n",
    "           edgecolor='k',\n",
    "           framealpha=1,\n",
    "           fontsize=12)\n",
    "plt.xlabel('$mileage$')\n",
    "plt.ylabel('$price$')\n",
    "plt.grid('on')      # 显示背景的网格线 \n",
    "sns.set_style('darkgrid')  # 主题：darkgrid, whitegrid, dark, white, ticks"
   ]
  },
  {
   "cell_type": "code",
   "execution_count": 122,
   "metadata": {
    "ExecuteTime": {
     "end_time": "2019-08-23T07:42:29.710217Z",
     "start_time": "2019-08-23T07:42:29.656363Z"
    }
   },
   "outputs": [],
   "source": [
    "plt.grid?"
   ]
  },
  {
   "cell_type": "code",
   "execution_count": 123,
   "metadata": {
    "ExecuteTime": {
     "end_time": "2019-08-23T07:53:53.216803Z",
     "start_time": "2019-08-23T07:53:53.202840Z"
    }
   },
   "outputs": [],
   "source": [
    "sns.set_style?"
   ]
  },
  {
   "cell_type": "markdown",
   "metadata": {},
   "source": [
    "看一下离群值的数量有多少？"
   ]
  },
  {
   "cell_type": "code",
   "execution_count": 53,
   "metadata": {
    "ExecuteTime": {
     "end_time": "2019-08-23T03:32:52.839388Z",
     "start_time": "2019-08-23T03:32:52.821436Z"
    }
   },
   "outputs": [
    {
     "data": {
      "text/plain": [
       "False    396\n",
       "True      21\n",
       "Name: price, dtype: int64"
      ]
     },
     "execution_count": 53,
     "metadata": {},
     "output_type": "execute_result"
    }
   ],
   "source": [
    "outlierIndex.value_counts()"
   ]
  },
  {
   "cell_type": "markdown",
   "metadata": {},
   "source": [
    "上图结果也符合我们的经验理解，二手车的行驶公里数越高，它卖出去的价格就应该越低，所以对于处在右上和左下区域的点可能是一些离群值（对于同一款车而言）。比如左下区域的点，一些行驶里程数低，价格也比较低的车辆，有可能该车辆是事故车辆或者有损坏，而<span class=\"burk\">右上区域的离群值有可能是真实的离群值</span>，相对来讲不容易有合理的解释，可能是输入失误或者胖手指输入造成。\n",
    "\n",
    "本案例中的数据只有400多条，如果数据再多一些，则检测的结果会更加可靠。"
   ]
  },
  {
   "cell_type": "markdown",
   "metadata": {},
   "source": [
    "# 标准化对离群值检测的影响 "
   ]
  },
  {
   "cell_type": "markdown",
   "metadata": {},
   "source": [
    "通常情况下，为了避免不同尺度的影响。我们在进行<span class=\"burk\">线性回归模型</span>拟合之前，需要对各个特征进行标准化。常见的标准化有z-score标准化、0-1标准化等，这里我们选择z-score标准化来观察标准化对离群值检测的影响。"
   ]
  },
  {
   "cell_type": "markdown",
   "metadata": {},
   "source": [
    "## z-score标准化"
   ]
  },
  {
   "cell_type": "code",
   "execution_count": 132,
   "metadata": {
    "ExecuteTime": {
     "end_time": "2019-08-23T08:01:37.680479Z",
     "start_time": "2019-08-23T08:01:37.675479Z"
    }
   },
   "outputs": [],
   "source": [
    "# 利用 preprocessing.scale函数将特征标准化\n",
    "columns = train_x_dummies.columns"
   ]
  },
  {
   "cell_type": "code",
   "execution_count": 133,
   "metadata": {
    "ExecuteTime": {
     "end_time": "2019-08-23T08:01:44.920712Z",
     "start_time": "2019-08-23T08:01:44.912732Z"
    }
   },
   "outputs": [
    {
     "data": {
      "text/plain": [
       "Index(['mileage', 'year', 'engine_4 Cyl', 'engine_6 Cyl', 'trim_ex', 'trim_exl', 'trim_lx', 'transmission_Automatic', 'transmission_Manual'], dtype='object')"
      ]
     },
     "execution_count": 133,
     "metadata": {},
     "output_type": "execute_result"
    }
   ],
   "source": [
    "columns"
   ]
  },
  {
   "cell_type": "code",
   "execution_count": 134,
   "metadata": {
    "ExecuteTime": {
     "end_time": "2019-08-23T08:01:55.661336Z",
     "start_time": "2019-08-23T08:01:55.648371Z"
    }
   },
   "outputs": [],
   "source": [
    "train_x_zscore = pd.DataFrame(\n",
    "    preprocessing.scale(train_x_dummies), columns=columns)\n",
    "#train_y_zscore = pd.DataFrame(preprocessing.scale(pd.DataFrame(train_y,columns=['price'])),columns = ['price'])"
   ]
  },
  {
   "cell_type": "code",
   "execution_count": 135,
   "metadata": {
    "ExecuteTime": {
     "end_time": "2019-08-23T08:01:59.663725Z",
     "start_time": "2019-08-23T08:01:59.636797Z"
    }
   },
   "outputs": [
    {
     "data": {
      "text/plain": [
       "'12084.24 + (-1353.40 engine=4 Cyl) + (0.00 engine=6 Cyl) + (-166.91 mileage) + (166.91 price) + (225.03 transmission=Automatic) + (138.41 transmission=Manual) + (-274.18 trim=ex) + (116.65 trim=exl) + (-116.65 trim=lx)'"
      ]
     },
     "execution_count": 135,
     "metadata": {},
     "output_type": "execute_result"
    }
   ],
   "source": [
    "# 线性模型拟合\n",
    "LR_zscore = LinearRegression().fit(train_x_zscore.values, train_y)\n",
    "' + '.join([format(LR_zscore.intercept_, '0.2f')]\n",
    "           + list(map(lambda f, c: \"(%0.2f %s)\" % (c, f),\n",
    "                 dv.feature_names_, LR_zscore.coef_)))"
   ]
  },
  {
   "cell_type": "code",
   "execution_count": 136,
   "metadata": {
    "ExecuteTime": {
     "end_time": "2019-08-23T08:02:46.659888Z",
     "start_time": "2019-08-23T08:02:46.645926Z"
    }
   },
   "outputs": [
    {
     "data": {
      "text/plain": [
       "array([1391.71708207, 2200.19426726, 2626.93763764, 3857.46054116])"
      ]
     },
     "execution_count": 136,
     "metadata": {},
     "output_type": "execute_result"
    }
   ],
   "source": [
    "pred_y_zscore = LR_zscore.predict(train_x_zscore)\n",
    "train_error_zscore = abs(pred_y_zscore - train_y)  # 计算绝对误差\n",
    "np.percentile(train_error_zscore, [75, 90, 95, 99])  # 计算绝对误差数据的百分位数"
   ]
  },
  {
   "cell_type": "code",
   "execution_count": 137,
   "metadata": {
    "ExecuteTime": {
     "end_time": "2019-08-23T08:02:56.538834Z",
     "start_time": "2019-08-23T08:02:56.515895Z"
    }
   },
   "outputs": [
    {
     "data": {
      "text/plain": [
       "False    417\n",
       "Name: price, dtype: int64"
      ]
     },
     "execution_count": 137,
     "metadata": {},
     "output_type": "execute_result"
    }
   ],
   "source": [
    "outlierIndex_zscore = train_error_zscore >= np.percentile(train_error_zscore, 95)\n",
    "inlierIndex_zscore = train_error_zscore < np.percentile(train_error_zscore, 95)\n",
    "diff = (outlierIndex_zscore != outlierIndex)  # diff 用于存储标准化前后的离群值检测结果不同的index\n",
    "diff.value_counts()"
   ]
  },
  {
   "cell_type": "code",
   "execution_count": 139,
   "metadata": {
    "ExecuteTime": {
     "end_time": "2019-08-23T08:12:10.296465Z",
     "start_time": "2019-08-23T08:12:09.909501Z"
    }
   },
   "outputs": [
    {
     "data": {
      "image/png": "[encoded data removed]",
      "text/plain": [
       "<Figure size 504x504 with 1 Axes>"
      ]
     },
     "metadata": {},
     "output_type": "display_data"
    }
   ],
   "source": [
    "# 画出标准化前后的检测差异点\n",
    "fig = plt.figure(figsize=(7, 7))\n",
    "\n",
    "# rep_inlierIndex为标准化前后都为正常值的index\n",
    "rep_inlierIndex = (inlierIndex == inlierIndex_zscore)\n",
    "\n",
    "indexes = [rep_inlierIndex, outlierIndex, outlierIndex_zscore]\n",
    "color = ['#2d9ed8', '#EE5150', '#a290c4']\n",
    "markers = ['^', '<', '>']\n",
    "label = ['inliers', 'outliers before z-score', 'outliers after z-score']\n",
    "for i, c, m, l in zip(indexes, color, markers, label):\n",
    "    plt.scatter(train['mileage'][i],\n",
    "                train_y[i],\n",
    "                c=c,\n",
    "                marker=m,\n",
    "                label=l)\n",
    "plt.xlabel('$mileage$')\n",
    "plt.ylabel('$price$')\n",
    "plt.grid('on')\n",
    "plt.legend(loc='upper right',\n",
    "           frameon=True,\n",
    "           edgecolor='k',\n",
    "           framealpha=1,\n",
    "           fontsize=12)\n",
    "sns.set_style('dark')"
   ]
  },
  {
   "cell_type": "markdown",
   "metadata": {},
   "source": [
    "从结果可以看到，绝大多数样本的检测结果一致。有两个样本存在差别，其中一个样本在标准化之前会被检测为离群值，另外一个样本在标准化之后会被检测为离群值。虽然在本例中，标准化前后的检测效果差异不是很大，但是仍然建议在线性建模之前对特征进行标准化。"
   ]
  },
  {
   "cell_type": "markdown",
   "metadata": {},
   "source": [
    "# 测试集的验证"
   ]
  },
  {
   "cell_type": "markdown",
   "metadata": {},
   "source": [
    "我们先以 mileage 为横坐标， price 为纵坐标画出训练集和测试集的所有样本点。"
   ]
  },
  {
   "cell_type": "code",
   "execution_count": 140,
   "metadata": {
    "ExecuteTime": {
     "end_time": "2019-08-23T08:17:24.043002Z",
     "start_time": "2019-08-23T08:17:24.024056Z"
    }
   },
   "outputs": [],
   "source": [
    "test = pd.read_csv('accord_sedan_testing.csv')"
   ]
  },
  {
   "cell_type": "code",
   "execution_count": 141,
   "metadata": {
    "ExecuteTime": {
     "end_time": "2019-08-23T08:17:35.133852Z",
     "start_time": "2019-08-23T08:17:35.127868Z"
    }
   },
   "outputs": [],
   "source": [
    "datasets = [train, test]"
   ]
  },
  {
   "cell_type": "code",
   "execution_count": 142,
   "metadata": {
    "ExecuteTime": {
     "end_time": "2019-08-23T08:18:06.983134Z",
     "start_time": "2019-08-23T08:18:06.656011Z"
    }
   },
   "outputs": [
    {
     "data": {
      "image/png": "[encoded data removed]",
      "text/plain": [
       "<Figure size 504x504 with 1 Axes>"
      ]
     },
     "metadata": {},
     "output_type": "display_data"
    }
   ],
   "source": [
    "color = ['#2d9ed8', '#EE5150']\n",
    "label = ['training set', 'testing set']\n",
    "fig = plt.figure(figsize=(7, 7))\n",
    "for i, c, l in zip(range(len(datasets)), color, label):\n",
    "    plt.scatter(datasets[i]['mileage'],\n",
    "                datasets[i]['price'],\n",
    "                c=c,\n",
    "                marker='^',\n",
    "                label=l)\n",
    "plt.xlabel('$mileage$')\n",
    "plt.ylabel('$price$')\n",
    "plt.grid('on')\n",
    "plt.legend(loc='upper right',\n",
    "           frameon=True,\n",
    "           edgecolor='k',\n",
    "           framealpha=1,\n",
    "           fontsize=12)\n",
    "sns.set_style('dark')"
   ]
  },
  {
   "cell_type": "markdown",
   "metadata": {},
   "source": [
    "我们来看看利用在训练集上训练得到的模型在测试集上的泛化效果："
   ]
  },
  {
   "cell_type": "code",
   "execution_count": 143,
   "metadata": {
    "ExecuteTime": {
     "end_time": "2019-08-23T08:19:06.425934Z",
     "start_time": "2019-08-23T08:19:06.404990Z"
    }
   },
   "outputs": [],
   "source": [
    "pred_y_test = LR.predict(dv.transform(test.T.to_dict().values()))\n",
    "test_error = abs(pred_y_test - test['price'])"
   ]
  },
  {
   "cell_type": "code",
   "execution_count": 144,
   "metadata": {
    "ExecuteTime": {
     "end_time": "2019-08-23T08:19:21.563601Z",
     "start_time": "2019-08-23T08:19:21.190599Z"
    }
   },
   "outputs": [
    {
     "data": {
      "image/png": "[encoded data removed]",
      "text/plain": [
       "<Figure size 504x504 with 1 Axes>"
      ]
     },
     "metadata": {},
     "output_type": "display_data"
    }
   ],
   "source": [
    "# 使用分布图观察测试集误差\n",
    "fig = plt.figure(figsize=(7, 7))\n",
    "sns.distplot(test_error, kde=False)\n",
    "plt.xlabel('$test\\_error$')\n",
    "plt.ylabel('$count$')\n",
    "plt.grid('on')"
   ]
  },
  {
   "cell_type": "code",
   "execution_count": 145,
   "metadata": {
    "ExecuteTime": {
     "end_time": "2019-08-23T08:20:00.441566Z",
     "start_time": "2019-08-23T08:20:00.430599Z"
    }
   },
   "outputs": [
    {
     "data": {
      "text/plain": [
       "price                2612\n",
       "mileage             59308\n",
       "year                 2006\n",
       "trim                   ex\n",
       "engine              6 Cyl\n",
       "transmission    Automatic\n",
       "Name: 49, dtype: object"
      ]
     },
     "execution_count": 145,
     "metadata": {},
     "output_type": "execute_result"
    }
   ],
   "source": [
    "# 找出极端离群值\n",
    "most_severe_test = test_error.idxmax()\n",
    "test.iloc[most_severe_test]"
   ]
  },
  {
   "cell_type": "markdown",
   "metadata": {},
   "source": [
    "从分布图中可以看到，我们的模型对测试集上其中一个样本的预测表现非常差。该样本是一个极端的离群样本。该车是一个6缸高配版的车，并且其已行驶英里数只有~60,000英里左右，但是其卖出的价格才$2612。"
   ]
  },
  {
   "cell_type": "markdown",
   "metadata": {},
   "source": [
    "根据经验，我们猜测这个离群样本出现的两种可能：\n",
    "\n",
    "在网站里填写时出错；\n",
    "该车辆有车体的损伤或者有汽车所有权问题（偷来的或者劫来的）"
   ]
  },
  {
   "cell_type": "markdown",
   "metadata": {},
   "source": [
    "# 在测试集上使用LOF进行离群值检测"
   ]
  },
  {
   "cell_type": "code",
   "execution_count": 146,
   "metadata": {
    "ExecuteTime": {
     "end_time": "2019-08-23T08:21:54.754897Z",
     "start_time": "2019-08-23T08:21:54.740935Z"
    }
   },
   "outputs": [],
   "source": [
    "test = pd.read_csv('accord_sedan_testing.csv')"
   ]
  },
  {
   "cell_type": "code",
   "execution_count": 147,
   "metadata": {
    "ExecuteTime": {
     "end_time": "2019-08-23T08:22:18.391314Z",
     "start_time": "2019-08-23T08:22:17.990386Z"
    }
   },
   "outputs": [
    {
     "data": {
      "image/png": "[encoded data removed]",
      "text/plain": [
       "<Figure size 504x504 with 1 Axes>"
      ]
     },
     "metadata": {},
     "output_type": "display_data"
    }
   ],
   "source": [
    "fig = plt.figure(figsize=(7, 7))\n",
    "plt.scatter(test['mileage'],\n",
    "            test['price'],\n",
    "            c='#EE5150',\n",
    "            marker='^',\n",
    "            label='testing set')\n",
    "plt.xlabel('$mileage$')\n",
    "plt.ylabel('$price$')\n",
    "plt.grid('on')\n",
    "plt.legend(loc='upper right',\n",
    "           frameon=True,\n",
    "           edgecolor='k',\n",
    "           framealpha=1,\n",
    "           fontsize=12)\n",
    "sns.set_style('dark')"
   ]
  },
  {
   "cell_type": "markdown",
   "metadata": {},
   "source": [
    "![LOF](./img/gongshi.png)"
   ]
  },
  {
   "cell_type": "code",
   "execution_count": 148,
   "metadata": {
    "ExecuteTime": {
     "end_time": "2019-08-23T08:22:31.429661Z",
     "start_time": "2019-08-23T08:22:31.420684Z"
    }
   },
   "outputs": [],
   "source": [
    "data = test[['mileage','price']]"
   ]
  },
  {
   "cell_type": "code",
   "execution_count": 79,
   "metadata": {
    "ExecuteTime": {
     "end_time": "2019-08-23T03:49:24.197027Z",
     "start_time": "2019-08-23T03:49:24.184064Z"
    }
   },
   "outputs": [],
   "source": [
    "# 导入sklearn用于计算最近邻相关数据的方法 NearestNeighbors\n",
    "from sklearn.neighbors import NearestNeighbors\n",
    "import numpy as np\n",
    "\n",
    "# 定义函数计算第k可达距离\n",
    "\n",
    "\n",
    "def k_Distance(data, k):\n",
    "    neigh = NearestNeighbors(k)\n",
    "    model = neigh.fit(data)\n",
    "\n",
    "    nums = data.shape[0]\n",
    "\n",
    "    k_distance = []\n",
    "    neighbor_info = []\n",
    "\n",
    "    for index in range(nums):\n",
    "\n",
    "        # K个距离\n",
    "        dist = neigh.kneighbors([data[index]], n_neighbors=k + 1)\n",
    "        # 最大的dist\n",
    "        k_distance.append(dist[0][-1][-1])\n",
    "\n",
    "        # neighbor为k个邻居的索引，dists为相应的距离\n",
    "        dists, neighbor = neigh.radius_neighbors(\n",
    "            [data[index]], radius=k_distance[index])\n",
    "\n",
    "        # 排除自身\n",
    "        mask = neighbor[0] != index\n",
    "        neighbor_info.append([neighbor[0][mask], dists[0][mask]])\n",
    "    return k_distance, neighbor_info"
   ]
  },
  {
   "cell_type": "code",
   "execution_count": 84,
   "metadata": {
    "ExecuteTime": {
     "end_time": "2019-08-23T03:50:22.631112Z",
     "start_time": "2019-08-23T03:50:22.621404Z"
    }
   },
   "outputs": [],
   "source": [
    "# 定义函数计算局部可达密度\n",
    "def reach_density(data, k_distance, neighbor_info):\n",
    "\n",
    "    nums = data.shape[0]\n",
    "    density_list = []\n",
    "\n",
    "    for index in range(nums):\n",
    "\n",
    "        neighbors, dists = neighbor_info[index]\n",
    "        nums_neigh = len(neighbors)\n",
    "\n",
    "        sum_dist = 0\n",
    "\n",
    "        for item in range(nums_neigh):\n",
    "\n",
    "            k_dist_o = k_distance[neighbors[item]]\n",
    "\n",
    "            direct_dist = dists[item]\n",
    "\n",
    "            reach_dist_p_o = max(k_dist_o, direct_dist)\n",
    "\n",
    "            sum_dist += reach_dist_p_o\n",
    "\n",
    "        density_list.append(nums_neigh/sum_dist)\n",
    "\n",
    "    return density_list"
   ]
  },
  {
   "cell_type": "code",
   "execution_count": 85,
   "metadata": {
    "ExecuteTime": {
     "end_time": "2019-08-23T03:50:23.774059Z",
     "start_time": "2019-08-23T03:50:23.765083Z"
    }
   },
   "outputs": [],
   "source": [
    "# 定义函数计算LOF因子\n",
    "def cal_lof(index, data, neighbor_info, lrd_list):\n",
    "\n",
    "    point_p = data[index]\n",
    "    neighbors, _ = neighbor_info[index]\n",
    "\n",
    "    nums_neigh = len(neighbors)\n",
    "    sum_density = 0\n",
    "\n",
    "    for item in range(nums_neigh):\n",
    "\n",
    "        sum_density += lrd_list[item]\n",
    "\n",
    "    return sum_density/(nums_neigh*lrd_list[index])"
   ]
  },
  {
   "cell_type": "code",
   "execution_count": 86,
   "metadata": {
    "ExecuteTime": {
     "end_time": "2019-08-23T03:50:25.219195Z",
     "start_time": "2019-08-23T03:50:25.060619Z"
    }
   },
   "outputs": [
    {
     "name": "stdout",
     "output_type": "stream",
     "text": [
      "[49, 52]\n"
     ]
    }
   ],
   "source": [
    "dists, neighbor_info = k_Distance(data.values, 2)\n",
    "\n",
    "lrd_list = reach_density(data, dists, neighbor_info)\n",
    "\n",
    "nums = data.shape[0]\n",
    "\n",
    "lof_list = []\n",
    "\n",
    "for index in range(nums):\n",
    "\n",
    "    lof = cal_lof(index, data.values, neighbor_info, lrd_list)\n",
    "    lof_list.append(lof)\n",
    "\n",
    "boolean_array = [item > 5 for item in lof_list]\n",
    "\n",
    "indicy = []\n",
    "for key, value in enumerate(boolean_array):\n",
    "    if value:\n",
    "        indicy.append(key)\n",
    "\n",
    "print (indicy)"
   ]
  },
  {
   "cell_type": "markdown",
   "metadata": {},
   "source": [
    "画出离群值"
   ]
  },
  {
   "cell_type": "code",
   "execution_count": 87,
   "metadata": {
    "ExecuteTime": {
     "end_time": "2019-08-23T03:50:29.920336Z",
     "start_time": "2019-08-23T03:50:28.860035Z"
    }
   },
   "outputs": [
    {
     "data": {
      "image/png": "[encoded data removed]",
      "text/plain": [
       "<Figure size 504x504 with 1 Axes>"
      ]
     },
     "metadata": {},
     "output_type": "display_data"
    }
   ],
   "source": [
    "fig = plt.figure(figsize=(7, 7))\n",
    "for i in data.index:\n",
    "    if i not in indicy:\n",
    "        plt.scatter(data.iloc[i]['mileage'],\n",
    "                    data.iloc[i]['price'],\n",
    "                    c='#2d9ed8',\n",
    "                    s=50,\n",
    "                    marker='^',\n",
    "                    label='inliers')\n",
    "    else:\n",
    "        plt.scatter(data.iloc[i]['mileage'],\n",
    "                    data.iloc[i]['price'],\n",
    "                    c='#EE5150',\n",
    "                    s=50,\n",
    "                    marker='^',\n",
    "                    label='outliers')\n",
    "        plt.xlabel('$mileage$')\n",
    "        plt.ylabel('$price$')\n",
    "        plt.grid('on')"
   ]
  },
  {
   "cell_type": "markdown",
   "metadata": {},
   "source": [
    "# 另外一种比较乱的写法"
   ]
  },
  {
   "cell_type": "code",
   "execution_count": null,
   "metadata": {},
   "outputs": [],
   "source": [
    "import numpy as np\n",
    "from sklearn.neighbors import NearestNeighbors\n",
    "test_2d = test[['mileage', 'price']]\n",
    "neigh = NearestNeighbors(5)  # 默认为欧式距离\n",
    "model = neigh.fit(test_2d)\n",
    "\n",
    "data = test_2d\n",
    "# dist为每个样本点与第k距离邻域内的点的距离（包括自身）,neighbor为第k距离邻域点的编号（包括自身）\n",
    "dist, neighbor = neigh.kneighbors(test_2d, n_neighbors=6)\n",
    "\n",
    "k_distance_p = np.max(dist, axis=1)\n",
    "\n",
    "nums = data.shape[0]\n",
    "lrdk_p = []\n",
    "lof = []\n",
    "for p_index in xrange(nums):\n",
    "    rdk_po = []\n",
    "    neighbor_p = neighbor[p_index][neighbor[p_index] != p_index]\n",
    "    for o_index in neighbor_p:\n",
    "        rdk_po.append(max(k_distance_p[o_index], int(\n",
    "            dist[p_index][neighbor[p_index] == o_index])))\n",
    "    lrdk_p.append(float(len(neighbor_p))/sum(rdk_po))\n",
    "\n",
    "for p_index in xrange(nums):\n",
    "    lrdk_o = []\n",
    "    neighbor_p = neighbor[p_index][neighbor[p_index] != p_index]\n",
    "    for o_index in neighbor_p:\n",
    "        lrdk_o.append(lrdk_p[o_index])\n",
    "    lof.append(float(sum(lrdk_o))/(len(neighbor_p)*(lrdk_p[p_index])))\n",
    "\n",
    "fig = plt.figure(figsize=(7, 7))\n",
    "\n",
    "for index, size in zip(xrange(nums), lof):\n",
    "    if index in indicy:\n",
    "        plt.scatter(data['mileage'][index],\n",
    "                    data['price'][index],\n",
    "                    s=np.exp(lof[index])*50,\n",
    "                    c='#efab40',\n",
    "                    alpha=0.6,\n",
    "                    marker='o')\n",
    "        plt.text(data['mileage'][index]-np.exp(lof[index])*50,\n",
    "                 data['price'][index]-np.exp(lof[index])*50,\n",
    "                 str(round(lof[index], 2)))\n",
    "    else:\n",
    "        plt.scatter(data['mileage'][index],\n",
    "                    data['price'][index],\n",
    "                    s=np.exp(lof[index])*50,\n",
    "                    c='#5dbe80',\n",
    "                    alpha=0.6,\n",
    "                    marker='o')\n",
    "        plt.text(data['mileage'][index]-np.exp(lof[index])*50,\n",
    "                 data['price'][index]-np.exp(lof[index])*50,\n",
    "                 str(round(lof[index], 2)),\n",
    "                 fontsize=7)\n",
    "\n",
    "plt.xlabel('mileage')\n",
    "plt.ylabel('price')\n",
    "plt.grid('off')"
   ]
  },
  {
   "cell_type": "markdown",
   "metadata": {},
   "source": [
    "# 尝试使用 oneclassSVM、IsolationForest和Robust covariance方法对离群价格进行检测"
   ]
  },
  {
   "cell_type": "code",
   "execution_count": null,
   "metadata": {},
   "outputs": [],
   "source": []
  }
 ],
 "metadata": {
  "kernelspec": {
   "display_name": "Python 3",
   "language": "python",
   "name": "python3"
  },
  "language_info": {
   "codemirror_mode": {
    "name": "ipython",
    "version": 3
   },
   "file_extension": ".py",
   "mimetype": "text/x-python",
   "name": "python",
   "nbconvert_exporter": "python",
   "pygments_lexer": "ipython3",
   "version": "3.7.0"
  },
  "latex_envs": {
   "LaTeX_envs_menu_present": true,
   "autoclose": false,
   "autocomplete": true,
   "bibliofile": "biblio.bib",
   "cite_by": "apalike",
   "current_citInitial": 1,
   "eqLabelWithNumbers": true,
   "eqNumInitial": 1,
   "hotkeys": {
    "equation": "Ctrl-E",
    "itemize": "Ctrl-I"
   },
   "labels_anchors": false,
   "latex_user_defs": false,
   "report_style_numbering": false,
   "user_envs_cfg": false
  },
  "toc": {
   "base_numbering": 1,
   "nav_menu": {},
   "number_sections": false,
   "sideBar": true,
   "skip_h1_title": false,
   "title_cell": "Table of Contents",
   "title_sidebar": "Contents",
   "toc_cell": false,
   "toc_position": {
    "height": "calc(100% - 180px)",
    "left": "10px",
    "top": "150px",
    "width": "165px"
   },
   "toc_section_display": true,
   "toc_window_display": true
  },
  "varInspector": {
   "cols": {
    "lenName": 16,
    "lenType": 16,
    "lenVar": 40
   },
   "kernels_config": {
    "python": {
     "delete_cmd_postfix": "",
     "delete_cmd_prefix": "del ",
     "library": "var_list.py",
     "varRefreshCmd": "print(var_dic_list())"
    },
    "r": {
     "delete_cmd_postfix": ") ",
     "delete_cmd_prefix": "rm(",
     "library": "var_list.r",
     "varRefreshCmd": "cat(var_dic_list()) "
    }
   },
   "types_to_exclude": [
    "module",
    "function",
    "builtin_function_or_method",
    "instance",
    "_Feature"
   ],
   "window_display": false
  }
 },
 "nbformat": 4,
 "nbformat_minor": 2
}
