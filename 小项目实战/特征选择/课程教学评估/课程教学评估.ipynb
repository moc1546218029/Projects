{
 "cells": [
  {
   "cell_type": "markdown",
   "metadata": {},
   "source": [
    "# 1 数据探索"
   ]
  },
  {
   "cell_type": "markdown",
   "metadata": {},
   "source": [
    "本案例的数据来源于Gazi University于2013年在学生中做的课程教学问卷，可以参考其官网，在这次调查中，每位学生需要回答28个与课程相关的选择题，每题的5个选项{1,2,3,4,5}代表答题人对该题的赞成程度。除此之外，还有5个特征为课程及其任课老师的信息，包括教师工号、课程ID、上课次数、出勤率和课程难度。"
   ]
  },
  {
   "cell_type": "markdown",
   "metadata": {},
   "source": [
    "下面是33个特征的含义介绍："
   ]
  },
  {
   "cell_type": "code",
   "execution_count": 1,
   "metadata": {},
   "outputs": [],
   "source": [
    "# 载入一些基本的包\n",
    "import numpy as np\n",
    "import pandas as pd\n",
    "import matplotlib.pyplot as plt\n",
    "import seaborn as sns"
   ]
  },
  {
   "cell_type": "code",
   "execution_count": 2,
   "metadata": {},
   "outputs": [
    {
     "name": "stdout",
     "output_type": "stream",
     "text": [
      "instr: Instructor's identifier; values taken from {1,2,3} \n",
      "class: Course code (descriptor); values taken from {1-13} \n",
      "repeat: Number of times the student is taking this course; values taken from {0,1,2,3,...} \n",
      "attendance: Code of the level of attendance; values from {0, 1, 2, 3, 4} \n",
      "difficulty: Level of difficulty of the course as perceived by the student; values taken from {1,2,3,4,5} \n",
      "Q1: The semester course content, teaching method and evaluation system were provided at the start. \n",
      "Q2: The course aims and objectives were clearly stated at the beginning of the period. \n",
      "Q3: The course was worth the amount of credit assigned to it. \n",
      "Q4: The course was taught according to the syllabus announced on the first day of class. \n",
      "Q5: The class discussions, homework assignments, applications and studies were satisfactory. \n",
      "Q6: The textbook and other courses resources were sufficient and up to date. \n",
      "Q7: The course allowed field work, applications, laboratory, discussion and other studies. \n",
      "Q8: The quizzes, assignments, projects and exams contributed to helping the learning. \n",
      "Q9: I greatly enjoyed the class and was eager to actively participate during the lectures. \n",
      "Q10: My initial expectations about the course were met at the end of the period or year. \n",
      "Q11: The course was relevant and beneficial to my professional development. \n",
      "Q12: The course helped me look at life and the world with a new perspective. \n",
      "Q13: The Instructor's knowledge was relevant and up to date. \n",
      "Q14: The Instructor came prepared for classes. \n",
      "Q15: The Instructor taught in accordance with the announced lesson plan. \n",
      "Q16: The Instructor was committed to the course and was understandable. \n",
      "Q17: The Instructor arrived on time for classes. \n",
      "Q18: The Instructor has a smooth and easy to follow delivery/speech. \n",
      "Q19: The Instructor made effective use of class hours. \n",
      "Q20: The Instructor explained the course and was eager to be helpful to students. \n",
      "Q21: The Instructor demonstrated a positive approach to students. \n",
      "Q22: The Instructor was open and respectful of the views of students about the course. \n",
      "Q23: The Instructor encouraged participation in the course. \n",
      "Q24: The Instructor gave relevant homework assignments/projects, and helped/guided students. \n",
      "Q25: The Instructor responded to questions about the course inside and outside of the course. \n",
      "Q26: The Instructor's evaluation system (midterm and final questions, projects, assignments, etc.) effectively measured the course objectives. \n",
      "Q27: The Instructor provided solutions to exams and discussed them with students. \n",
      "Q28: The Instructor treated all students in a right and objective manner.\n"
     ]
    }
   ],
   "source": [
    "# 读取介绍特征信息的文本文件\n",
    "df_intro=pd.read_table(\"feature_introduction.txt\",names=[\"intro\"],sep=\"\\n\")\n",
    "\n",
    "# 逐行输出方便观察\n",
    "for i in range(len(df_intro)):\n",
    "    print(df_intro[\"intro\"][i])"
   ]
  },
  {
   "cell_type": "markdown",
   "metadata": {},
   "source": [
    "本案例的目的是找到影响出勤率和课程受欢迎程度的关键特征，所以我们需要关注attendance（出勤率）和Q9（课程喜欢程度），并分别建立以之为目标变量的特征选择。"
   ]
  },
  {
   "cell_type": "markdown",
   "metadata": {},
   "source": [
    "### 读取数据："
   ]
  },
  {
   "cell_type": "code",
   "execution_count": 3,
   "metadata": {},
   "outputs": [
    {
     "data": {
      "text/html": [
       "<div>\n",
       "<style scoped>\n",
       "    .dataframe tbody tr th:only-of-type {\n",
       "        vertical-align: middle;\n",
       "    }\n",
       "\n",
       "    .dataframe tbody tr th {\n",
       "        vertical-align: top;\n",
       "    }\n",
       "\n",
       "    .dataframe thead th {\n",
       "        text-align: right;\n",
       "    }\n",
       "</style>\n",
       "<table border=\"1\" class=\"dataframe\">\n",
       "  <thead>\n",
       "    <tr style=\"text-align: right;\">\n",
       "      <th></th>\n",
       "      <th>instr</th>\n",
       "      <th>class</th>\n",
       "      <th>nb.repeat</th>\n",
       "      <th>attendance</th>\n",
       "      <th>difficulty</th>\n",
       "      <th>Q1</th>\n",
       "      <th>Q2</th>\n",
       "      <th>Q3</th>\n",
       "      <th>Q4</th>\n",
       "      <th>Q5</th>\n",
       "      <th>Q6</th>\n",
       "      <th>Q7</th>\n",
       "      <th>Q8</th>\n",
       "      <th>Q9</th>\n",
       "      <th>Q10</th>\n",
       "      <th>Q11</th>\n",
       "      <th>Q12</th>\n",
       "      <th>Q13</th>\n",
       "      <th>Q14</th>\n",
       "      <th>Q15</th>\n",
       "      <th>Q16</th>\n",
       "      <th>Q17</th>\n",
       "      <th>Q18</th>\n",
       "      <th>Q19</th>\n",
       "      <th>Q20</th>\n",
       "      <th>Q21</th>\n",
       "      <th>Q22</th>\n",
       "      <th>Q23</th>\n",
       "      <th>Q24</th>\n",
       "      <th>Q25</th>\n",
       "      <th>Q26</th>\n",
       "      <th>Q27</th>\n",
       "      <th>Q28</th>\n",
       "    </tr>\n",
       "  </thead>\n",
       "  <tbody>\n",
       "    <tr>\n",
       "      <th>0</th>\n",
       "      <td>1</td>\n",
       "      <td>2</td>\n",
       "      <td>1</td>\n",
       "      <td>0</td>\n",
       "      <td>4</td>\n",
       "      <td>3</td>\n",
       "      <td>3</td>\n",
       "      <td>3</td>\n",
       "      <td>3</td>\n",
       "      <td>3</td>\n",
       "      <td>3</td>\n",
       "      <td>3</td>\n",
       "      <td>3</td>\n",
       "      <td>3</td>\n",
       "      <td>3</td>\n",
       "      <td>3</td>\n",
       "      <td>3</td>\n",
       "      <td>3</td>\n",
       "      <td>3</td>\n",
       "      <td>3</td>\n",
       "      <td>3</td>\n",
       "      <td>3</td>\n",
       "      <td>3</td>\n",
       "      <td>3</td>\n",
       "      <td>3</td>\n",
       "      <td>3</td>\n",
       "      <td>3</td>\n",
       "      <td>3</td>\n",
       "      <td>3</td>\n",
       "      <td>3</td>\n",
       "      <td>3</td>\n",
       "      <td>3</td>\n",
       "      <td>3</td>\n",
       "    </tr>\n",
       "    <tr>\n",
       "      <th>1</th>\n",
       "      <td>1</td>\n",
       "      <td>2</td>\n",
       "      <td>1</td>\n",
       "      <td>1</td>\n",
       "      <td>3</td>\n",
       "      <td>3</td>\n",
       "      <td>3</td>\n",
       "      <td>3</td>\n",
       "      <td>3</td>\n",
       "      <td>3</td>\n",
       "      <td>3</td>\n",
       "      <td>3</td>\n",
       "      <td>3</td>\n",
       "      <td>3</td>\n",
       "      <td>3</td>\n",
       "      <td>3</td>\n",
       "      <td>3</td>\n",
       "      <td>3</td>\n",
       "      <td>3</td>\n",
       "      <td>3</td>\n",
       "      <td>3</td>\n",
       "      <td>3</td>\n",
       "      <td>3</td>\n",
       "      <td>3</td>\n",
       "      <td>3</td>\n",
       "      <td>3</td>\n",
       "      <td>3</td>\n",
       "      <td>3</td>\n",
       "      <td>3</td>\n",
       "      <td>3</td>\n",
       "      <td>3</td>\n",
       "      <td>3</td>\n",
       "      <td>3</td>\n",
       "    </tr>\n",
       "    <tr>\n",
       "      <th>2</th>\n",
       "      <td>1</td>\n",
       "      <td>2</td>\n",
       "      <td>1</td>\n",
       "      <td>2</td>\n",
       "      <td>4</td>\n",
       "      <td>5</td>\n",
       "      <td>5</td>\n",
       "      <td>5</td>\n",
       "      <td>5</td>\n",
       "      <td>5</td>\n",
       "      <td>5</td>\n",
       "      <td>5</td>\n",
       "      <td>5</td>\n",
       "      <td>5</td>\n",
       "      <td>5</td>\n",
       "      <td>5</td>\n",
       "      <td>5</td>\n",
       "      <td>5</td>\n",
       "      <td>5</td>\n",
       "      <td>5</td>\n",
       "      <td>5</td>\n",
       "      <td>5</td>\n",
       "      <td>5</td>\n",
       "      <td>5</td>\n",
       "      <td>5</td>\n",
       "      <td>5</td>\n",
       "      <td>5</td>\n",
       "      <td>5</td>\n",
       "      <td>5</td>\n",
       "      <td>5</td>\n",
       "      <td>5</td>\n",
       "      <td>5</td>\n",
       "      <td>5</td>\n",
       "    </tr>\n",
       "    <tr>\n",
       "      <th>3</th>\n",
       "      <td>1</td>\n",
       "      <td>2</td>\n",
       "      <td>1</td>\n",
       "      <td>1</td>\n",
       "      <td>3</td>\n",
       "      <td>3</td>\n",
       "      <td>3</td>\n",
       "      <td>3</td>\n",
       "      <td>3</td>\n",
       "      <td>3</td>\n",
       "      <td>3</td>\n",
       "      <td>3</td>\n",
       "      <td>3</td>\n",
       "      <td>3</td>\n",
       "      <td>3</td>\n",
       "      <td>3</td>\n",
       "      <td>3</td>\n",
       "      <td>3</td>\n",
       "      <td>3</td>\n",
       "      <td>3</td>\n",
       "      <td>3</td>\n",
       "      <td>3</td>\n",
       "      <td>3</td>\n",
       "      <td>3</td>\n",
       "      <td>3</td>\n",
       "      <td>3</td>\n",
       "      <td>3</td>\n",
       "      <td>3</td>\n",
       "      <td>3</td>\n",
       "      <td>3</td>\n",
       "      <td>3</td>\n",
       "      <td>3</td>\n",
       "      <td>3</td>\n",
       "    </tr>\n",
       "    <tr>\n",
       "      <th>4</th>\n",
       "      <td>1</td>\n",
       "      <td>2</td>\n",
       "      <td>1</td>\n",
       "      <td>0</td>\n",
       "      <td>1</td>\n",
       "      <td>1</td>\n",
       "      <td>1</td>\n",
       "      <td>1</td>\n",
       "      <td>1</td>\n",
       "      <td>1</td>\n",
       "      <td>1</td>\n",
       "      <td>1</td>\n",
       "      <td>1</td>\n",
       "      <td>1</td>\n",
       "      <td>1</td>\n",
       "      <td>1</td>\n",
       "      <td>1</td>\n",
       "      <td>1</td>\n",
       "      <td>1</td>\n",
       "      <td>1</td>\n",
       "      <td>1</td>\n",
       "      <td>1</td>\n",
       "      <td>1</td>\n",
       "      <td>1</td>\n",
       "      <td>1</td>\n",
       "      <td>1</td>\n",
       "      <td>1</td>\n",
       "      <td>1</td>\n",
       "      <td>1</td>\n",
       "      <td>1</td>\n",
       "      <td>1</td>\n",
       "      <td>1</td>\n",
       "      <td>1</td>\n",
       "    </tr>\n",
       "  </tbody>\n",
       "</table>\n",
       "</div>"
      ],
      "text/plain": [
       "   instr  class  nb.repeat  attendance  difficulty  Q1  Q2  Q3  Q4  Q5  Q6  \\\n",
       "0      1      2          1           0           4   3   3   3   3   3   3   \n",
       "1      1      2          1           1           3   3   3   3   3   3   3   \n",
       "2      1      2          1           2           4   5   5   5   5   5   5   \n",
       "3      1      2          1           1           3   3   3   3   3   3   3   \n",
       "4      1      2          1           0           1   1   1   1   1   1   1   \n",
       "\n",
       "   Q7  Q8  Q9  Q10  Q11  Q12  Q13  Q14  Q15  Q16  Q17  Q18  Q19  Q20  Q21  \\\n",
       "0   3   3   3    3    3    3    3    3    3    3    3    3    3    3    3   \n",
       "1   3   3   3    3    3    3    3    3    3    3    3    3    3    3    3   \n",
       "2   5   5   5    5    5    5    5    5    5    5    5    5    5    5    5   \n",
       "3   3   3   3    3    3    3    3    3    3    3    3    3    3    3    3   \n",
       "4   1   1   1    1    1    1    1    1    1    1    1    1    1    1    1   \n",
       "\n",
       "   Q22  Q23  Q24  Q25  Q26  Q27  Q28  \n",
       "0    3    3    3    3    3    3    3  \n",
       "1    3    3    3    3    3    3    3  \n",
       "2    5    5    5    5    5    5    5  \n",
       "3    3    3    3    3    3    3    3  \n",
       "4    1    1    1    1    1    1    1  "
      ]
     },
     "execution_count": 3,
     "metadata": {},
     "output_type": "execute_result"
    }
   ],
   "source": [
    "# 为显示全部的列，添加如下的命令。\n",
    "pd.set_option('display.max_columns',None)\n",
    "data=pd.read_csv(\"turkiye-student-evaluation_generic.csv\")\n",
    "data.head()"
   ]
  },
  {
   "cell_type": "markdown",
   "metadata": {},
   "source": [
    "观察数据集的基本信息："
   ]
  },
  {
   "cell_type": "code",
   "execution_count": 5,
   "metadata": {},
   "outputs": [
    {
     "name": "stdout",
     "output_type": "stream",
     "text": [
      "<class 'pandas.core.frame.DataFrame'>\n",
      "RangeIndex: 5820 entries, 0 to 5819\n",
      "Data columns (total 33 columns):\n",
      "instr         5820 non-null int64\n",
      "class         5820 non-null int64\n",
      "nb.repeat     5820 non-null int64\n",
      "attendance    5820 non-null int64\n",
      "difficulty    5820 non-null int64\n",
      "Q1            5820 non-null int64\n",
      "Q2            5820 non-null int64\n",
      "Q3            5820 non-null int64\n",
      "Q4            5820 non-null int64\n",
      "Q5            5820 non-null int64\n",
      "Q6            5820 non-null int64\n",
      "Q7            5820 non-null int64\n",
      "Q8            5820 non-null int64\n",
      "Q9            5820 non-null int64\n",
      "Q10           5820 non-null int64\n",
      "Q11           5820 non-null int64\n",
      "Q12           5820 non-null int64\n",
      "Q13           5820 non-null int64\n",
      "Q14           5820 non-null int64\n",
      "Q15           5820 non-null int64\n",
      "Q16           5820 non-null int64\n",
      "Q17           5820 non-null int64\n",
      "Q18           5820 non-null int64\n",
      "Q19           5820 non-null int64\n",
      "Q20           5820 non-null int64\n",
      "Q21           5820 non-null int64\n",
      "Q22           5820 non-null int64\n",
      "Q23           5820 non-null int64\n",
      "Q24           5820 non-null int64\n",
      "Q25           5820 non-null int64\n",
      "Q26           5820 non-null int64\n",
      "Q27           5820 non-null int64\n",
      "Q28           5820 non-null int64\n",
      "dtypes: int64(33)\n",
      "memory usage: 1.5 MB\n"
     ]
    }
   ],
   "source": [
    "data.info()"
   ]
  },
  {
   "cell_type": "markdown",
   "metadata": {},
   "source": [
    "### 观察发现：\n",
    "    1）数据集维度是(5820, 33)；\n",
    "    2）所有特征都很完整，不需要做缺失值处理；\n",
    "    3）所有数据都是int64类型，不需要做数值化转换；\n",
    "    4）所有特征都是离散型变量，不适合某些针对连续数据的特征选择方法（比如Pearson相关系数）。"
   ]
  },
  {
   "cell_type": "code",
   "execution_count": 6,
   "metadata": {},
   "outputs": [
    {
     "data": {
      "text/html": [
       "<div>\n",
       "<style scoped>\n",
       "    .dataframe tbody tr th:only-of-type {\n",
       "        vertical-align: middle;\n",
       "    }\n",
       "\n",
       "    .dataframe tbody tr th {\n",
       "        vertical-align: top;\n",
       "    }\n",
       "\n",
       "    .dataframe thead th {\n",
       "        text-align: right;\n",
       "    }\n",
       "</style>\n",
       "<table border=\"1\" class=\"dataframe\">\n",
       "  <thead>\n",
       "    <tr style=\"text-align: right;\">\n",
       "      <th></th>\n",
       "      <th>instr</th>\n",
       "      <th>class</th>\n",
       "      <th>nb.repeat</th>\n",
       "      <th>attendance</th>\n",
       "      <th>difficulty</th>\n",
       "      <th>Q1</th>\n",
       "      <th>Q2</th>\n",
       "      <th>Q3</th>\n",
       "      <th>Q4</th>\n",
       "      <th>Q5</th>\n",
       "      <th>Q6</th>\n",
       "      <th>Q7</th>\n",
       "      <th>Q8</th>\n",
       "      <th>Q9</th>\n",
       "      <th>Q10</th>\n",
       "      <th>Q11</th>\n",
       "      <th>Q12</th>\n",
       "      <th>Q13</th>\n",
       "      <th>Q14</th>\n",
       "      <th>Q15</th>\n",
       "      <th>Q16</th>\n",
       "      <th>Q17</th>\n",
       "      <th>Q18</th>\n",
       "      <th>Q19</th>\n",
       "      <th>Q20</th>\n",
       "      <th>Q21</th>\n",
       "      <th>Q22</th>\n",
       "      <th>Q23</th>\n",
       "      <th>Q24</th>\n",
       "      <th>Q25</th>\n",
       "      <th>Q26</th>\n",
       "      <th>Q27</th>\n",
       "      <th>Q28</th>\n",
       "    </tr>\n",
       "  </thead>\n",
       "  <tbody>\n",
       "    <tr>\n",
       "      <th>count</th>\n",
       "      <td>5820.000000</td>\n",
       "      <td>5820.000000</td>\n",
       "      <td>5820.000000</td>\n",
       "      <td>5820.000000</td>\n",
       "      <td>5820.000000</td>\n",
       "      <td>5820.000000</td>\n",
       "      <td>5820.000000</td>\n",
       "      <td>5820.000000</td>\n",
       "      <td>5820.000000</td>\n",
       "      <td>5820.000000</td>\n",
       "      <td>5820.000000</td>\n",
       "      <td>5820.000000</td>\n",
       "      <td>5820.000000</td>\n",
       "      <td>5820.000000</td>\n",
       "      <td>5820.000000</td>\n",
       "      <td>5820.000000</td>\n",
       "      <td>5820.000000</td>\n",
       "      <td>5820.000000</td>\n",
       "      <td>5820.000000</td>\n",
       "      <td>5820.000000</td>\n",
       "      <td>5820.000000</td>\n",
       "      <td>5820.000000</td>\n",
       "      <td>5820.000000</td>\n",
       "      <td>5820.000000</td>\n",
       "      <td>5820.000000</td>\n",
       "      <td>5820.000000</td>\n",
       "      <td>5820.000000</td>\n",
       "      <td>5820.00000</td>\n",
       "      <td>5820.000000</td>\n",
       "      <td>5820.000000</td>\n",
       "      <td>5820.000000</td>\n",
       "      <td>5820.000000</td>\n",
       "      <td>5820.000000</td>\n",
       "    </tr>\n",
       "    <tr>\n",
       "      <th>mean</th>\n",
       "      <td>2.485567</td>\n",
       "      <td>7.276289</td>\n",
       "      <td>1.214089</td>\n",
       "      <td>1.675601</td>\n",
       "      <td>2.783505</td>\n",
       "      <td>2.929897</td>\n",
       "      <td>3.073883</td>\n",
       "      <td>3.178694</td>\n",
       "      <td>3.082474</td>\n",
       "      <td>3.105842</td>\n",
       "      <td>3.107388</td>\n",
       "      <td>3.066323</td>\n",
       "      <td>3.041924</td>\n",
       "      <td>3.165979</td>\n",
       "      <td>3.090722</td>\n",
       "      <td>3.183849</td>\n",
       "      <td>3.035567</td>\n",
       "      <td>3.242784</td>\n",
       "      <td>3.290893</td>\n",
       "      <td>3.287285</td>\n",
       "      <td>3.169588</td>\n",
       "      <td>3.398454</td>\n",
       "      <td>3.222509</td>\n",
       "      <td>3.261684</td>\n",
       "      <td>3.285395</td>\n",
       "      <td>3.307388</td>\n",
       "      <td>3.317526</td>\n",
       "      <td>3.20189</td>\n",
       "      <td>3.166838</td>\n",
       "      <td>3.312543</td>\n",
       "      <td>3.222165</td>\n",
       "      <td>3.154811</td>\n",
       "      <td>3.308076</td>\n",
       "    </tr>\n",
       "    <tr>\n",
       "      <th>std</th>\n",
       "      <td>0.718473</td>\n",
       "      <td>3.688175</td>\n",
       "      <td>0.532376</td>\n",
       "      <td>1.474975</td>\n",
       "      <td>1.348987</td>\n",
       "      <td>1.341077</td>\n",
       "      <td>1.285251</td>\n",
       "      <td>1.253567</td>\n",
       "      <td>1.284594</td>\n",
       "      <td>1.278989</td>\n",
       "      <td>1.280807</td>\n",
       "      <td>1.279097</td>\n",
       "      <td>1.283481</td>\n",
       "      <td>1.268930</td>\n",
       "      <td>1.275309</td>\n",
       "      <td>1.295443</td>\n",
       "      <td>1.305772</td>\n",
       "      <td>1.264201</td>\n",
       "      <td>1.255373</td>\n",
       "      <td>1.253122</td>\n",
       "      <td>1.288015</td>\n",
       "      <td>1.267530</td>\n",
       "      <td>1.279799</td>\n",
       "      <td>1.268442</td>\n",
       "      <td>1.276848</td>\n",
       "      <td>1.269974</td>\n",
       "      <td>1.268358</td>\n",
       "      <td>1.27259</td>\n",
       "      <td>1.275909</td>\n",
       "      <td>1.257286</td>\n",
       "      <td>1.270695</td>\n",
       "      <td>1.291872</td>\n",
       "      <td>1.278709</td>\n",
       "    </tr>\n",
       "    <tr>\n",
       "      <th>min</th>\n",
       "      <td>1.000000</td>\n",
       "      <td>1.000000</td>\n",
       "      <td>1.000000</td>\n",
       "      <td>0.000000</td>\n",
       "      <td>1.000000</td>\n",
       "      <td>1.000000</td>\n",
       "      <td>1.000000</td>\n",
       "      <td>1.000000</td>\n",
       "      <td>1.000000</td>\n",
       "      <td>1.000000</td>\n",
       "      <td>1.000000</td>\n",
       "      <td>1.000000</td>\n",
       "      <td>1.000000</td>\n",
       "      <td>1.000000</td>\n",
       "      <td>1.000000</td>\n",
       "      <td>1.000000</td>\n",
       "      <td>1.000000</td>\n",
       "      <td>1.000000</td>\n",
       "      <td>1.000000</td>\n",
       "      <td>1.000000</td>\n",
       "      <td>1.000000</td>\n",
       "      <td>1.000000</td>\n",
       "      <td>1.000000</td>\n",
       "      <td>1.000000</td>\n",
       "      <td>1.000000</td>\n",
       "      <td>1.000000</td>\n",
       "      <td>1.000000</td>\n",
       "      <td>1.00000</td>\n",
       "      <td>1.000000</td>\n",
       "      <td>1.000000</td>\n",
       "      <td>1.000000</td>\n",
       "      <td>1.000000</td>\n",
       "      <td>1.000000</td>\n",
       "    </tr>\n",
       "    <tr>\n",
       "      <th>25%</th>\n",
       "      <td>2.000000</td>\n",
       "      <td>4.000000</td>\n",
       "      <td>1.000000</td>\n",
       "      <td>0.000000</td>\n",
       "      <td>1.000000</td>\n",
       "      <td>2.000000</td>\n",
       "      <td>2.000000</td>\n",
       "      <td>2.000000</td>\n",
       "      <td>2.000000</td>\n",
       "      <td>2.000000</td>\n",
       "      <td>2.000000</td>\n",
       "      <td>2.000000</td>\n",
       "      <td>2.000000</td>\n",
       "      <td>2.000000</td>\n",
       "      <td>2.000000</td>\n",
       "      <td>2.000000</td>\n",
       "      <td>2.000000</td>\n",
       "      <td>2.000000</td>\n",
       "      <td>3.000000</td>\n",
       "      <td>3.000000</td>\n",
       "      <td>2.000000</td>\n",
       "      <td>3.000000</td>\n",
       "      <td>2.000000</td>\n",
       "      <td>3.000000</td>\n",
       "      <td>3.000000</td>\n",
       "      <td>3.000000</td>\n",
       "      <td>3.000000</td>\n",
       "      <td>2.00000</td>\n",
       "      <td>2.000000</td>\n",
       "      <td>3.000000</td>\n",
       "      <td>2.000000</td>\n",
       "      <td>2.000000</td>\n",
       "      <td>3.000000</td>\n",
       "    </tr>\n",
       "    <tr>\n",
       "      <th>50%</th>\n",
       "      <td>3.000000</td>\n",
       "      <td>7.000000</td>\n",
       "      <td>1.000000</td>\n",
       "      <td>1.000000</td>\n",
       "      <td>3.000000</td>\n",
       "      <td>3.000000</td>\n",
       "      <td>3.000000</td>\n",
       "      <td>3.000000</td>\n",
       "      <td>3.000000</td>\n",
       "      <td>3.000000</td>\n",
       "      <td>3.000000</td>\n",
       "      <td>3.000000</td>\n",
       "      <td>3.000000</td>\n",
       "      <td>3.000000</td>\n",
       "      <td>3.000000</td>\n",
       "      <td>3.000000</td>\n",
       "      <td>3.000000</td>\n",
       "      <td>3.000000</td>\n",
       "      <td>3.000000</td>\n",
       "      <td>3.000000</td>\n",
       "      <td>3.000000</td>\n",
       "      <td>4.000000</td>\n",
       "      <td>3.000000</td>\n",
       "      <td>3.000000</td>\n",
       "      <td>3.000000</td>\n",
       "      <td>3.000000</td>\n",
       "      <td>3.000000</td>\n",
       "      <td>3.00000</td>\n",
       "      <td>3.000000</td>\n",
       "      <td>3.000000</td>\n",
       "      <td>3.000000</td>\n",
       "      <td>3.000000</td>\n",
       "      <td>3.000000</td>\n",
       "    </tr>\n",
       "    <tr>\n",
       "      <th>75%</th>\n",
       "      <td>3.000000</td>\n",
       "      <td>10.000000</td>\n",
       "      <td>1.000000</td>\n",
       "      <td>3.000000</td>\n",
       "      <td>4.000000</td>\n",
       "      <td>4.000000</td>\n",
       "      <td>4.000000</td>\n",
       "      <td>4.000000</td>\n",
       "      <td>4.000000</td>\n",
       "      <td>4.000000</td>\n",
       "      <td>4.000000</td>\n",
       "      <td>4.000000</td>\n",
       "      <td>4.000000</td>\n",
       "      <td>4.000000</td>\n",
       "      <td>4.000000</td>\n",
       "      <td>4.000000</td>\n",
       "      <td>4.000000</td>\n",
       "      <td>4.000000</td>\n",
       "      <td>4.000000</td>\n",
       "      <td>4.000000</td>\n",
       "      <td>4.000000</td>\n",
       "      <td>4.000000</td>\n",
       "      <td>4.000000</td>\n",
       "      <td>4.000000</td>\n",
       "      <td>4.000000</td>\n",
       "      <td>4.000000</td>\n",
       "      <td>4.000000</td>\n",
       "      <td>4.00000</td>\n",
       "      <td>4.000000</td>\n",
       "      <td>4.000000</td>\n",
       "      <td>4.000000</td>\n",
       "      <td>4.000000</td>\n",
       "      <td>4.000000</td>\n",
       "    </tr>\n",
       "    <tr>\n",
       "      <th>max</th>\n",
       "      <td>3.000000</td>\n",
       "      <td>13.000000</td>\n",
       "      <td>3.000000</td>\n",
       "      <td>4.000000</td>\n",
       "      <td>5.000000</td>\n",
       "      <td>5.000000</td>\n",
       "      <td>5.000000</td>\n",
       "      <td>5.000000</td>\n",
       "      <td>5.000000</td>\n",
       "      <td>5.000000</td>\n",
       "      <td>5.000000</td>\n",
       "      <td>5.000000</td>\n",
       "      <td>5.000000</td>\n",
       "      <td>5.000000</td>\n",
       "      <td>5.000000</td>\n",
       "      <td>5.000000</td>\n",
       "      <td>5.000000</td>\n",
       "      <td>5.000000</td>\n",
       "      <td>5.000000</td>\n",
       "      <td>5.000000</td>\n",
       "      <td>5.000000</td>\n",
       "      <td>5.000000</td>\n",
       "      <td>5.000000</td>\n",
       "      <td>5.000000</td>\n",
       "      <td>5.000000</td>\n",
       "      <td>5.000000</td>\n",
       "      <td>5.000000</td>\n",
       "      <td>5.00000</td>\n",
       "      <td>5.000000</td>\n",
       "      <td>5.000000</td>\n",
       "      <td>5.000000</td>\n",
       "      <td>5.000000</td>\n",
       "      <td>5.000000</td>\n",
       "    </tr>\n",
       "  </tbody>\n",
       "</table>\n",
       "</div>"
      ],
      "text/plain": [
       "             instr        class    nb.repeat   attendance   difficulty  \\\n",
       "count  5820.000000  5820.000000  5820.000000  5820.000000  5820.000000   \n",
       "mean      2.485567     7.276289     1.214089     1.675601     2.783505   \n",
       "std       0.718473     3.688175     0.532376     1.474975     1.348987   \n",
       "min       1.000000     1.000000     1.000000     0.000000     1.000000   \n",
       "25%       2.000000     4.000000     1.000000     0.000000     1.000000   \n",
       "50%       3.000000     7.000000     1.000000     1.000000     3.000000   \n",
       "75%       3.000000    10.000000     1.000000     3.000000     4.000000   \n",
       "max       3.000000    13.000000     3.000000     4.000000     5.000000   \n",
       "\n",
       "                Q1           Q2           Q3           Q4           Q5  \\\n",
       "count  5820.000000  5820.000000  5820.000000  5820.000000  5820.000000   \n",
       "mean      2.929897     3.073883     3.178694     3.082474     3.105842   \n",
       "std       1.341077     1.285251     1.253567     1.284594     1.278989   \n",
       "min       1.000000     1.000000     1.000000     1.000000     1.000000   \n",
       "25%       2.000000     2.000000     2.000000     2.000000     2.000000   \n",
       "50%       3.000000     3.000000     3.000000     3.000000     3.000000   \n",
       "75%       4.000000     4.000000     4.000000     4.000000     4.000000   \n",
       "max       5.000000     5.000000     5.000000     5.000000     5.000000   \n",
       "\n",
       "                Q6           Q7           Q8           Q9          Q10  \\\n",
       "count  5820.000000  5820.000000  5820.000000  5820.000000  5820.000000   \n",
       "mean      3.107388     3.066323     3.041924     3.165979     3.090722   \n",
       "std       1.280807     1.279097     1.283481     1.268930     1.275309   \n",
       "min       1.000000     1.000000     1.000000     1.000000     1.000000   \n",
       "25%       2.000000     2.000000     2.000000     2.000000     2.000000   \n",
       "50%       3.000000     3.000000     3.000000     3.000000     3.000000   \n",
       "75%       4.000000     4.000000     4.000000     4.000000     4.000000   \n",
       "max       5.000000     5.000000     5.000000     5.000000     5.000000   \n",
       "\n",
       "               Q11          Q12          Q13          Q14          Q15  \\\n",
       "count  5820.000000  5820.000000  5820.000000  5820.000000  5820.000000   \n",
       "mean      3.183849     3.035567     3.242784     3.290893     3.287285   \n",
       "std       1.295443     1.305772     1.264201     1.255373     1.253122   \n",
       "min       1.000000     1.000000     1.000000     1.000000     1.000000   \n",
       "25%       2.000000     2.000000     2.000000     3.000000     3.000000   \n",
       "50%       3.000000     3.000000     3.000000     3.000000     3.000000   \n",
       "75%       4.000000     4.000000     4.000000     4.000000     4.000000   \n",
       "max       5.000000     5.000000     5.000000     5.000000     5.000000   \n",
       "\n",
       "               Q16          Q17          Q18          Q19          Q20  \\\n",
       "count  5820.000000  5820.000000  5820.000000  5820.000000  5820.000000   \n",
       "mean      3.169588     3.398454     3.222509     3.261684     3.285395   \n",
       "std       1.288015     1.267530     1.279799     1.268442     1.276848   \n",
       "min       1.000000     1.000000     1.000000     1.000000     1.000000   \n",
       "25%       2.000000     3.000000     2.000000     3.000000     3.000000   \n",
       "50%       3.000000     4.000000     3.000000     3.000000     3.000000   \n",
       "75%       4.000000     4.000000     4.000000     4.000000     4.000000   \n",
       "max       5.000000     5.000000     5.000000     5.000000     5.000000   \n",
       "\n",
       "               Q21          Q22         Q23          Q24          Q25  \\\n",
       "count  5820.000000  5820.000000  5820.00000  5820.000000  5820.000000   \n",
       "mean      3.307388     3.317526     3.20189     3.166838     3.312543   \n",
       "std       1.269974     1.268358     1.27259     1.275909     1.257286   \n",
       "min       1.000000     1.000000     1.00000     1.000000     1.000000   \n",
       "25%       3.000000     3.000000     2.00000     2.000000     3.000000   \n",
       "50%       3.000000     3.000000     3.00000     3.000000     3.000000   \n",
       "75%       4.000000     4.000000     4.00000     4.000000     4.000000   \n",
       "max       5.000000     5.000000     5.00000     5.000000     5.000000   \n",
       "\n",
       "               Q26          Q27          Q28  \n",
       "count  5820.000000  5820.000000  5820.000000  \n",
       "mean      3.222165     3.154811     3.308076  \n",
       "std       1.270695     1.291872     1.278709  \n",
       "min       1.000000     1.000000     1.000000  \n",
       "25%       2.000000     2.000000     3.000000  \n",
       "50%       3.000000     3.000000     3.000000  \n",
       "75%       4.000000     4.000000     4.000000  \n",
       "max       5.000000     5.000000     5.000000  "
      ]
     },
     "execution_count": 6,
     "metadata": {},
     "output_type": "execute_result"
    }
   ],
   "source": [
    "data.describe()"
   ]
  },
  {
   "cell_type": "markdown",
   "metadata": {},
   "source": [
    "观察各特征的常用统计量发现，数据间没有量级差异，不需要做标准化处理。"
   ]
  },
  {
   "cell_type": "markdown",
   "metadata": {},
   "source": [
    "观察特征间的相关性："
   ]
  },
  {
   "cell_type": "code",
   "execution_count": 7,
   "metadata": {},
   "outputs": [
    {
     "data": {
      "text/html": [
       "<div>\n",
       "<style scoped>\n",
       "    .dataframe tbody tr th:only-of-type {\n",
       "        vertical-align: middle;\n",
       "    }\n",
       "\n",
       "    .dataframe tbody tr th {\n",
       "        vertical-align: top;\n",
       "    }\n",
       "\n",
       "    .dataframe thead th {\n",
       "        text-align: right;\n",
       "    }\n",
       "</style>\n",
       "<table border=\"1\" class=\"dataframe\">\n",
       "  <thead>\n",
       "    <tr style=\"text-align: right;\">\n",
       "      <th></th>\n",
       "      <th>I1</th>\n",
       "      <th>I2</th>\n",
       "      <th>I3</th>\n",
       "      <th>I4</th>\n",
       "      <th>I5</th>\n",
       "      <th>Q1</th>\n",
       "      <th>Q2</th>\n",
       "      <th>Q3</th>\n",
       "      <th>Q4</th>\n",
       "      <th>Q5</th>\n",
       "      <th>Q6</th>\n",
       "      <th>Q7</th>\n",
       "      <th>Q8</th>\n",
       "      <th>Q9</th>\n",
       "      <th>Q10</th>\n",
       "      <th>Q11</th>\n",
       "      <th>Q12</th>\n",
       "      <th>Q13</th>\n",
       "      <th>Q14</th>\n",
       "      <th>Q15</th>\n",
       "      <th>Q16</th>\n",
       "      <th>Q17</th>\n",
       "      <th>Q18</th>\n",
       "      <th>Q19</th>\n",
       "      <th>Q20</th>\n",
       "      <th>Q21</th>\n",
       "      <th>Q22</th>\n",
       "      <th>Q23</th>\n",
       "      <th>Q24</th>\n",
       "      <th>Q25</th>\n",
       "      <th>Q26</th>\n",
       "      <th>Q27</th>\n",
       "      <th>Q28</th>\n",
       "    </tr>\n",
       "  </thead>\n",
       "  <tbody>\n",
       "    <tr>\n",
       "      <th>0</th>\n",
       "      <td>1</td>\n",
       "      <td>2</td>\n",
       "      <td>1</td>\n",
       "      <td>0</td>\n",
       "      <td>4</td>\n",
       "      <td>3</td>\n",
       "      <td>3</td>\n",
       "      <td>3</td>\n",
       "      <td>3</td>\n",
       "      <td>3</td>\n",
       "      <td>3</td>\n",
       "      <td>3</td>\n",
       "      <td>3</td>\n",
       "      <td>3</td>\n",
       "      <td>3</td>\n",
       "      <td>3</td>\n",
       "      <td>3</td>\n",
       "      <td>3</td>\n",
       "      <td>3</td>\n",
       "      <td>3</td>\n",
       "      <td>3</td>\n",
       "      <td>3</td>\n",
       "      <td>3</td>\n",
       "      <td>3</td>\n",
       "      <td>3</td>\n",
       "      <td>3</td>\n",
       "      <td>3</td>\n",
       "      <td>3</td>\n",
       "      <td>3</td>\n",
       "      <td>3</td>\n",
       "      <td>3</td>\n",
       "      <td>3</td>\n",
       "      <td>3</td>\n",
       "    </tr>\n",
       "    <tr>\n",
       "      <th>1</th>\n",
       "      <td>1</td>\n",
       "      <td>2</td>\n",
       "      <td>1</td>\n",
       "      <td>1</td>\n",
       "      <td>3</td>\n",
       "      <td>3</td>\n",
       "      <td>3</td>\n",
       "      <td>3</td>\n",
       "      <td>3</td>\n",
       "      <td>3</td>\n",
       "      <td>3</td>\n",
       "      <td>3</td>\n",
       "      <td>3</td>\n",
       "      <td>3</td>\n",
       "      <td>3</td>\n",
       "      <td>3</td>\n",
       "      <td>3</td>\n",
       "      <td>3</td>\n",
       "      <td>3</td>\n",
       "      <td>3</td>\n",
       "      <td>3</td>\n",
       "      <td>3</td>\n",
       "      <td>3</td>\n",
       "      <td>3</td>\n",
       "      <td>3</td>\n",
       "      <td>3</td>\n",
       "      <td>3</td>\n",
       "      <td>3</td>\n",
       "      <td>3</td>\n",
       "      <td>3</td>\n",
       "      <td>3</td>\n",
       "      <td>3</td>\n",
       "      <td>3</td>\n",
       "    </tr>\n",
       "    <tr>\n",
       "      <th>2</th>\n",
       "      <td>1</td>\n",
       "      <td>2</td>\n",
       "      <td>1</td>\n",
       "      <td>2</td>\n",
       "      <td>4</td>\n",
       "      <td>5</td>\n",
       "      <td>5</td>\n",
       "      <td>5</td>\n",
       "      <td>5</td>\n",
       "      <td>5</td>\n",
       "      <td>5</td>\n",
       "      <td>5</td>\n",
       "      <td>5</td>\n",
       "      <td>5</td>\n",
       "      <td>5</td>\n",
       "      <td>5</td>\n",
       "      <td>5</td>\n",
       "      <td>5</td>\n",
       "      <td>5</td>\n",
       "      <td>5</td>\n",
       "      <td>5</td>\n",
       "      <td>5</td>\n",
       "      <td>5</td>\n",
       "      <td>5</td>\n",
       "      <td>5</td>\n",
       "      <td>5</td>\n",
       "      <td>5</td>\n",
       "      <td>5</td>\n",
       "      <td>5</td>\n",
       "      <td>5</td>\n",
       "      <td>5</td>\n",
       "      <td>5</td>\n",
       "      <td>5</td>\n",
       "    </tr>\n",
       "    <tr>\n",
       "      <th>3</th>\n",
       "      <td>1</td>\n",
       "      <td>2</td>\n",
       "      <td>1</td>\n",
       "      <td>1</td>\n",
       "      <td>3</td>\n",
       "      <td>3</td>\n",
       "      <td>3</td>\n",
       "      <td>3</td>\n",
       "      <td>3</td>\n",
       "      <td>3</td>\n",
       "      <td>3</td>\n",
       "      <td>3</td>\n",
       "      <td>3</td>\n",
       "      <td>3</td>\n",
       "      <td>3</td>\n",
       "      <td>3</td>\n",
       "      <td>3</td>\n",
       "      <td>3</td>\n",
       "      <td>3</td>\n",
       "      <td>3</td>\n",
       "      <td>3</td>\n",
       "      <td>3</td>\n",
       "      <td>3</td>\n",
       "      <td>3</td>\n",
       "      <td>3</td>\n",
       "      <td>3</td>\n",
       "      <td>3</td>\n",
       "      <td>3</td>\n",
       "      <td>3</td>\n",
       "      <td>3</td>\n",
       "      <td>3</td>\n",
       "      <td>3</td>\n",
       "      <td>3</td>\n",
       "    </tr>\n",
       "    <tr>\n",
       "      <th>4</th>\n",
       "      <td>1</td>\n",
       "      <td>2</td>\n",
       "      <td>1</td>\n",
       "      <td>0</td>\n",
       "      <td>1</td>\n",
       "      <td>1</td>\n",
       "      <td>1</td>\n",
       "      <td>1</td>\n",
       "      <td>1</td>\n",
       "      <td>1</td>\n",
       "      <td>1</td>\n",
       "      <td>1</td>\n",
       "      <td>1</td>\n",
       "      <td>1</td>\n",
       "      <td>1</td>\n",
       "      <td>1</td>\n",
       "      <td>1</td>\n",
       "      <td>1</td>\n",
       "      <td>1</td>\n",
       "      <td>1</td>\n",
       "      <td>1</td>\n",
       "      <td>1</td>\n",
       "      <td>1</td>\n",
       "      <td>1</td>\n",
       "      <td>1</td>\n",
       "      <td>1</td>\n",
       "      <td>1</td>\n",
       "      <td>1</td>\n",
       "      <td>1</td>\n",
       "      <td>1</td>\n",
       "      <td>1</td>\n",
       "      <td>1</td>\n",
       "      <td>1</td>\n",
       "    </tr>\n",
       "  </tbody>\n",
       "</table>\n",
       "</div>"
      ],
      "text/plain": [
       "   I1  I2  I3  I4  I5  Q1  Q2  Q3  Q4  Q5  Q6  Q7  Q8  Q9  Q10  Q11  Q12  Q13  \\\n",
       "0   1   2   1   0   4   3   3   3   3   3   3   3   3   3    3    3    3    3   \n",
       "1   1   2   1   1   3   3   3   3   3   3   3   3   3   3    3    3    3    3   \n",
       "2   1   2   1   2   4   5   5   5   5   5   5   5   5   5    5    5    5    5   \n",
       "3   1   2   1   1   3   3   3   3   3   3   3   3   3   3    3    3    3    3   \n",
       "4   1   2   1   0   1   1   1   1   1   1   1   1   1   1    1    1    1    1   \n",
       "\n",
       "   Q14  Q15  Q16  Q17  Q18  Q19  Q20  Q21  Q22  Q23  Q24  Q25  Q26  Q27  Q28  \n",
       "0    3    3    3    3    3    3    3    3    3    3    3    3    3    3    3  \n",
       "1    3    3    3    3    3    3    3    3    3    3    3    3    3    3    3  \n",
       "2    5    5    5    5    5    5    5    5    5    5    5    5    5    5    5  \n",
       "3    3    3    3    3    3    3    3    3    3    3    3    3    3    3    3  \n",
       "4    1    1    1    1    1    1    1    1    1    1    1    1    1    1    1  "
      ]
     },
     "execution_count": 7,
     "metadata": {},
     "output_type": "execute_result"
    }
   ],
   "source": [
    "# 为显示直观，我们将5个代表课程信息的特征命名为I1-I5\n",
    "df_cor=data.copy()\n",
    "df_cor.columns=pd.Index([\"I1\",\"I2\",\"I3\",\"I4\",\"I5\"]+list(df_cor.columns[5:34]))\n",
    "df_cor.head()"
   ]
  },
  {
   "cell_type": "code",
   "execution_count": 8,
   "metadata": {},
   "outputs": [
    {
     "data": {
      "image/png": "[encoded data removed]",
      "text/plain": [
       "<Figure size 720x720 with 2 Axes>"
      ]
     },
     "metadata": {
      "needs_background": "light"
     },
     "output_type": "display_data"
    }
   ],
   "source": [
    "# 计算相关矩阵\n",
    "corr = df_cor.corr()\n",
    "\n",
    "# 设置图形类型为下三角矩阵\n",
    "mask = np.zeros_like(corr, dtype=np.bool)\n",
    "mask[np.triu_indices_from(mask)] = True\n",
    "\n",
    "# 做相关矩阵图\n",
    "f, ax = plt.subplots(figsize=(10, 10))\n",
    "cmap = sns.diverging_palette(220, 10, as_cmap=True)\n",
    "sns.heatmap(corr, mask=mask, cmap=cmap, vmax=1.0,\n",
    "            square=True, xticklabels=2, yticklabels=2,\n",
    "            linewidths=.3, cbar_kws={\"shrink\": .5}, ax=ax)\n",
    "plt.show()"
   ]
  },
  {
   "cell_type": "markdown",
   "metadata": {},
   "source": [
    "特征I4也就是attendance与I5（difficulty）相关性较高，28个问题之间都存在较强的相关性，关于课程基本信息的特征I1-I3与其它特征没有明显的相关性。"
   ]
  },
  {
   "cell_type": "markdown",
   "metadata": {},
   "source": [
    "# 2 基于出勤率的特征选择 "
   ]
  },
  {
   "cell_type": "markdown",
   "metadata": {},
   "source": [
    "### 特征选择一般有两个目的：\n",
    "    1）选择最优特征以提升模型性能；\n",
    "    2）理解数据，比如特征之间的关系、数据结构特点等；\n",
    "    对于第一种情况，适合采用封装式、嵌入式的方法，因为过滤式的特征选择对有同样作用的特征没有筛选功能，比如多重共线性等问题，容易造成冗余；对于第二种情况，则适合采用过滤式方法或者稳定的嵌入式方法，过滤式方法简单有效，能阐释特征之间的关系，一般的封装式和嵌入式方法都是以模型为主的，容易出现重要特征得分低的情况（存在关联特征），因此稳定性不强，稳定性较强的嵌入式方法有：随机lasso、岭回归、随机logistic等。"
   ]
  },
  {
   "cell_type": "markdown",
   "metadata": {},
   "source": [
    "本案例只要求找到影响出勤率和课程受欢迎程度的关键特征，而不需要进一步建立模型预测，所以我们可以使用简单的过滤式特征选择：基于出勤率的特征选择采用卡方检验方法，基于课程受欢迎程度的特征选择采用互信息MIC为指标。"
   ]
  },
  {
   "cell_type": "markdown",
   "metadata": {},
   "source": [
    "特征选择前的准备工作："
   ]
  },
  {
   "cell_type": "code",
   "execution_count": 9,
   "metadata": {},
   "outputs": [],
   "source": [
    "# 定义选取的关键特征个数\n",
    "N=6\n",
    "\n",
    "# 准备好原始特征\n",
    "df_feature=data.copy()\n",
    "del df_feature[\"attendance\"]\n",
    "\n",
    "# 准备好标签\n",
    "label=data[\"attendance\"]\n"
   ]
  },
  {
   "cell_type": "code",
   "execution_count": 11,
   "metadata": {},
   "outputs": [],
   "source": [
    "\"\"\"\n",
    "函数find_name(new_feature, df_feature)用来输出关键特征的名称；\n",
    "输入：原始特征、选择的关键特征；\n",
    "输出：关键特征的名称\n",
    "\"\"\"\n",
    "def find_name(new_feature, df_feature):\n",
    "    \n",
    "    # 定义列表存储关键特征名称\n",
    "    feature_name=[]\n",
    "    col=df_feature.columns\n",
    "    \n",
    "    # 寻找关键特征的名称信息\n",
    "    for i in range(N):\n",
    "        for j in range(df_feature.shape[1]):\n",
    "            \n",
    "            # 判别标准为new_feature中的特征向量与df_feature中的特征向量一致\n",
    "            if np.mean(abs(new_feature[i]-df_feature[col[j]]))==0:\n",
    "                feature_name.append(col[j])\n",
    "                print (i+1,col[j]) \n",
    "                break\n",
    "    return feature_name"
   ]
  },
  {
   "cell_type": "markdown",
   "metadata": {},
   "source": [
    "### 过滤法"
   ]
  },
  {
   "cell_type": "markdown",
   "metadata": {},
   "source": [
    "下面利用卡方检验方法选择影响attendance的前N个关键特征："
   ]
  },
  {
   "cell_type": "code",
   "execution_count": 12,
   "metadata": {},
   "outputs": [
    {
     "name": "stdout",
     "output_type": "stream",
     "text": [
      "1 difficulty\n",
      "2 Q17\n",
      "3 Q21\n",
      "4 Q22\n",
      "5 Q25\n",
      "6 Q28\n"
     ]
    }
   ],
   "source": [
    "# 用卡方检验选择前N个关键特征\n",
    "from sklearn.feature_selection import SelectKBest,chi2 \n",
    "new_feature=SelectKBest(chi2,k=N).fit_transform(df_feature,label).T\n",
    "FS_list=find_name(new_feature, df_feature)"
   ]
  },
  {
   "cell_type": "markdown",
   "metadata": {},
   "source": [
    "通过卡方检验方法，我们选出了前6个影响attendance的关键特征，分别是difficulty， Q17， Q21， Q22，Q25，Q28，下面我们进一步观察这些关键特征对出勤率分布的影响如何，以期找到他们之间的关系。"
   ]
  },
  {
   "cell_type": "code",
   "execution_count": 14,
   "metadata": {},
   "outputs": [
    {
     "data": {
      "text/plain": [
       "['difficulty', 'Q17', 'Q21', 'Q22', 'Q25', 'Q28']"
      ]
     },
     "execution_count": 14,
     "metadata": {},
     "output_type": "execute_result"
    }
   ],
   "source": [
    "FS_list"
   ]
  },
  {
   "cell_type": "code",
   "execution_count": 18,
   "metadata": {},
   "outputs": [],
   "source": [
    "def draw(x, data, ax):\n",
    "    sns.boxplot(x, y = 'attendance', data = data, ax=ax)"
   ]
  },
  {
   "cell_type": "code",
   "execution_count": 22,
   "metadata": {},
   "outputs": [
    {
     "data": {
      "text/plain": [
       "<matplotlib.axes._subplots.AxesSubplot at 0x2409e176ac8>"
      ]
     },
     "execution_count": 22,
     "metadata": {},
     "output_type": "execute_result"
    }
   ],
   "source": [
    "axes[0,0]"
   ]
  },
  {
   "cell_type": "code",
   "execution_count": 27,
   "metadata": {},
   "outputs": [
    {
     "data": {
      "image/png": "[encoded data removed]",
      "text/plain": [
       "<Figure size 1440x720 with 6 Axes>"
      ]
     },
     "metadata": {
      "needs_background": "light"
     },
     "output_type": "display_data"
    }
   ],
   "source": [
    "# 画出不同特征值下出勤率分布情况的箱型图\n",
    "f, axes = plt.subplots(2, 3, figsize=(20,10))\n",
    "for i,item in enumerate(FS_list):\n",
    "    sns.boxplot(x=item,y='attendance',data=data,ax=axes[i//3,i%3])\n",
    "plt.show()"
   ]
  },
  {
   "cell_type": "markdown",
   "metadata": {},
   "source": [
    "### 观察上述箱型图可以发现:\n",
    "1. 当课程难度为3-5时，出勤率分布并没有明显的区别；当课程难度为2时，出勤率的中位数降为1；当课程难度为1时，绝大部分出勤率都为0，这说明当课程难度很小时，学生们几乎不出勤；同时课程难度与出勤率在一定区间内是存在正相关关系的。\n",
    "2. 我们容易注意到，Q17， Q21， Q22，Q25，Q28这五个特征对出勤率的影响方式是相似的，因为它们的箱型图分布几乎完全一样。观察特征的含义：\n",
    "    \n",
    "        -Q17：老师按时上课\n",
    "        -Q21：老师以积极的态度授课\n",
    "        -Q22：老师拥有开放的心态，并尊重学生的观点\n",
    "        -Q25：老师会在课上课下回答关于课程的问题\n",
    "        -Q28：老师会客观有礼地对待所有学生\n",
    "\n",
    "这几个特征都是在描述老师的授课方式及礼仪态度问题，这说明这几个因素是学生们比较关注的。进一步观察单个箱型图，当特征程度为1时，出勤率的中位数是0；当特征程度为2-3时，出勤率的中位数是1；当特征程度为4-5时，出勤率的中位数是2；以上分析说明这几个特征与出勤率也存在一定程度上的正相关关系。"
   ]
  },
  {
   "cell_type": "markdown",
   "metadata": {},
   "source": [
    "总体来说，选择的6个特征与出勤率都存在一定程度上的正相关关系，以课程难度难度为例，进一步观察这种关系的强度如何。需要注意，特征都是离散变量，下面做简单的回归是用均值代替x_estimator的。"
   ]
  },
  {
   "cell_type": "code",
   "execution_count": 28,
   "metadata": {},
   "outputs": [
    {
     "name": "stderr",
     "output_type": "stream",
     "text": [
      "D:\\Apps\\PythonicApps\\Anaconda3\\lib\\site-packages\\scipy\\stats\\stats.py:1713: FutureWarning: Using a non-tuple sequence for multidimensional indexing is deprecated; use `arr[tuple(seq)]` instead of `arr[seq]`. In the future this will be interpreted as an array index, `arr[np.array(seq)]`, which will result either in an error or a different result.\n",
      "  return np.add.reduce(sorted[indexer] * weights, axis=axis) / sumval\n"
     ]
    },
    {
     "data": {
      "image/png": "[encoded data removed]",
      "text/plain": [
       "<Figure size 432x432 with 3 Axes>"
      ]
     },
     "metadata": {
      "needs_background": "light"
     },
     "output_type": "display_data"
    }
   ],
   "source": [
    "# 进一步观察正相关强度如何\n",
    "sns.jointplot(x='difficulty',y='attendance',data=data,kind='reg',x_estimator= np.mean,order=2)\n",
    "plt.show()\n"
   ]
  },
  {
   "cell_type": "markdown",
   "metadata": {},
   "source": [
    "课程难度与出勤率确实存在正相关关系，但这种关系在课程难度较低时更加明显，所以综合全局来看，抛物线更符合这种关系。"
   ]
  },
  {
   "cell_type": "markdown",
   "metadata": {},
   "source": [
    "如果还想观察具体的分布情况，可以用如下程序实现："
   ]
  },
  {
   "cell_type": "code",
   "execution_count": 29,
   "metadata": {},
   "outputs": [
    {
     "name": "stdout",
     "output_type": "stream",
     "text": [
      "[1317.   80.   54.   92.   77.]\n"
     ]
    }
   ],
   "source": [
    "# 输出课程难度为1时的出勤率统计\n",
    "diff_1=data[\"attendance\"][data[\"difficulty\"]==1]\n",
    "index=diff_1.index\n",
    "count=np.zeros(5)\n",
    "for i in range(len(diff_1)):\n",
    "    for j in range(5):\n",
    "        if diff_1[index[i]]==j:\n",
    "            count[j] += 1\n",
    "print(count) "
   ]
  },
  {
   "cell_type": "markdown",
   "metadata": {},
   "source": [
    "# 3 基于课程受欢迎程度的特征选择"
   ]
  },
  {
   "cell_type": "markdown",
   "metadata": {},
   "source": [
    "利用互信息MIC作指标来选择影响Q9（课程喜欢程度）的关键特征，首先，做一些准备工作："
   ]
  },
  {
   "cell_type": "code",
   "execution_count": 30,
   "metadata": {},
   "outputs": [],
   "source": [
    "# 定义选取的关键特征个数\n",
    "N=6\n",
    "\n",
    "# 准备好原始特征\n",
    "df_feature=data.copy()\n",
    "del df_feature[\"Q9\"]\n",
    "\n",
    "# 准备好标签\n",
    "label=data[\"Q9\"]"
   ]
  },
  {
   "cell_type": "markdown",
   "metadata": {},
   "source": [
    "### 下面利用互信息MIC来选择影响Q9（课程喜欢程度）的前N个关键特征："
   ]
  },
  {
   "cell_type": "code",
   "execution_count": 33,
   "metadata": {},
   "outputs": [],
   "source": [
    "# 引入MINE模块\n",
    "from minepy import MINE\n",
    "\n",
    "\"\"\"\n",
    "函数FS_MIC(target, feature, N)用来根据MIC系数选择特征\n",
    "输入：目标变量、特征、需要选出的特征个数\n",
    "输出：根据MIC系数求出来的前N个特征\n",
    "\"\"\"\n",
    "def FS_MIC(target, feature, N):\n",
    "    \n",
    "    # 记录各特征与target的互信息系数\n",
    "    corr_list=[]\n",
    "    col=feature.columns\n",
    "    for i in range(len(col)):\n",
    "        m=MINE()\n",
    "        m.compute_score(target, feature[col[i]])\n",
    "        corr_list.append(m.mic())\n",
    "        \n",
    "    # 字典存储    \n",
    "    dict_order=dict(zip(col, corr_list))\n",
    "    \n",
    "    # 按MIC系数大小排序\n",
    "    new_feature=sorted(dict_order.items(),key=lambda item:item[1], reverse=True)\n",
    "    \n",
    "    # 输出前N个特征\n",
    "    for i in range(N):\n",
    "        print(new_feature[i])\n",
    "    \n",
    "    # 画出前N个特征与标签的MIC系数柱状图\n",
    "    feature_top, score=zip(*new_feature)\n",
    "    df=pd.DataFrame(np.array(score[:N]),columns=[\"MIC\"],index=feature_top[:N])\n",
    "    fig=plt.figure(figsize=(6,4))\n",
    "    ax1=fig.add_subplot(1,1,1)\n",
    "    df.plot(kind=\"bar\",ax=ax1)\n",
    "    plt.ylim([min(score[:N])*0.75,max(score[:N])*1.25])\n",
    "    plt.show()\n",
    "    \n",
    "    return list(feature_top[:N])"
   ]
  },
  {
   "cell_type": "code",
   "execution_count": 34,
   "metadata": {},
   "outputs": [
    {
     "name": "stdout",
     "output_type": "stream",
     "text": [
      "('Q10', 0.5770588885602165)\n",
      "('Q8', 0.5254806134484354)\n",
      "('Q11', 0.5175597736064881)\n",
      "('Q7', 0.5098793934532719)\n",
      "('Q5', 0.5015207801490598)\n",
      "('Q12', 0.4975998535462428)\n"
     ]
    },
    {
     "data": {
      "image/png": "[encoded data removed]",
      "text/plain": [
       "<Figure size 432x288 with 1 Axes>"
      ]
     },
     "metadata": {
      "needs_background": "light"
     },
     "output_type": "display_data"
    }
   ],
   "source": [
    "FS_list=FS_MIC(label, df_feature, N)"
   ]
  },
  {
   "cell_type": "markdown",
   "metadata": {},
   "source": [
    "通过互信息MIC方法，我们选出了6个影响Q9的关键特征，分别是Q10， Q8， Q11， Q7，Q5，Q12，下面我们进一步观察这些关键特征对课程受欢迎程度分布的影响如何，以期找到他们之间的关系。\n",
    "\n"
   ]
  },
  {
   "cell_type": "code",
   "execution_count": 35,
   "metadata": {},
   "outputs": [
    {
     "data": {
      "image/png": "[encoded data removed]",
      "text/plain": [
       "<Figure size 1440x720 with 6 Axes>"
      ]
     },
     "metadata": {
      "needs_background": "light"
     },
     "output_type": "display_data"
    }
   ],
   "source": [
    "# 画出不同特征值下课程受欢迎程度分布情况的箱型图\n",
    "f, axes = plt.subplots(2, 3, figsize=(20,10))\n",
    "for i,item in enumerate(FS_list):\n",
    "    sns.boxplot(x=item,y='Q9',data=data,ax=axes[i//3,i%3])\n",
    "plt.show()"
   ]
  },
  {
   "cell_type": "markdown",
   "metadata": {},
   "source": [
    "### 首先观察特征的含义：\n",
    "    Q10：课程达到了我初始的期望\n",
    "    Q8：测验、作业及考试对学习有作用\n",
    "    Q11：课程对我的职业发展有利\n",
    "    Q7：课程组织形式丰富\n",
    "    Q5：对课堂讨论、作业布置很满意\n",
    "    Q12：课程教会我以一个新的角度看待世界"
   ]
  },
  {
   "cell_type": "markdown",
   "metadata": {},
   "source": [
    "这几个特征都是在描述课程的收获及感受问题，这说明这几个因素是学生们比较关注的。进一步观察单个箱型图，发现这几个特征与课程受欢迎程度都存在一定程度上的正相关关系，以Q10为例，进一步观察这种关系的强度如何。需要注意，特征都是离散变量，下面做简单的回归是用均值代替x_estimator的。"
   ]
  },
  {
   "cell_type": "code",
   "execution_count": 36,
   "metadata": {},
   "outputs": [
    {
     "name": "stderr",
     "output_type": "stream",
     "text": [
      "D:\\Apps\\PythonicApps\\Anaconda3\\lib\\site-packages\\scipy\\stats\\stats.py:1713: FutureWarning: Using a non-tuple sequence for multidimensional indexing is deprecated; use `arr[tuple(seq)]` instead of `arr[seq]`. In the future this will be interpreted as an array index, `arr[np.array(seq)]`, which will result either in an error or a different result.\n",
      "  return np.add.reduce(sorted[indexer] * weights, axis=axis) / sumval\n"
     ]
    },
    {
     "data": {
      "image/png": "[encoded data removed]",
      "text/plain": [
       "<Figure size 432x432 with 3 Axes>"
      ]
     },
     "metadata": {
      "needs_background": "light"
     },
     "output_type": "display_data"
    }
   ],
   "source": [
    "# 进一步观察正相关强度如何\n",
    "sns.jointplot(x='Q10',y='Q9',data=data,kind='reg',x_estimator= np.mean)\n",
    "plt.show()"
   ]
  },
  {
   "cell_type": "markdown",
   "metadata": {},
   "source": [
    "特征Q10和Q9存在明显的线性正相关关系，说明在一般情况下，当课程内容达到了学生期望时，学生就会喜欢这门课。"
   ]
  },
  {
   "cell_type": "code",
   "execution_count": null,
   "metadata": {},
   "outputs": [],
   "source": []
  },
  {
   "cell_type": "code",
   "execution_count": null,
   "metadata": {},
   "outputs": [],
   "source": []
  }
 ],
 "metadata": {
  "kernelspec": {
   "display_name": "Python 3",
   "language": "python",
   "name": "python3"
  },
  "language_info": {
   "codemirror_mode": {
    "name": "ipython",
    "version": 3
   },
   "file_extension": ".py",
   "mimetype": "text/x-python",
   "name": "python",
   "nbconvert_exporter": "python",
   "pygments_lexer": "ipython3",
   "version": "3.7.0"
  }
 },
 "nbformat": 4,
 "nbformat_minor": 2
}
